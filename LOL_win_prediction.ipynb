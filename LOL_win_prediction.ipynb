{
  "nbformat": 4,
  "nbformat_minor": 0,
  "metadata": {
    "colab": {
      "provenance": [],
      "collapsed_sections": [
        "Nw1Tb1sftKvC"
      ],
      "authorship_tag": "ABX9TyPEwMwLJCzemljxrsTM5X4I",
      "include_colab_link": true
    },
    "kernelspec": {
      "name": "python3",
      "display_name": "Python 3"
    },
    "language_info": {
      "name": "python"
    }
  },
  "cells": [
    {
      "cell_type": "markdown",
      "metadata": {
        "id": "view-in-github",
        "colab_type": "text"
      },
      "source": [
        "<a href=\"https://colab.research.google.com/github/Lis077a/di-project/blob/main/LOL_win_prediction.ipynb\" target=\"_parent\"><img src=\"https://colab.research.google.com/assets/colab-badge.svg\" alt=\"Open In Colab\"/></a>"
      ]
    },
    {
      "cell_type": "markdown",
      "source": [
        "# Progetto Data intensive: Lisotta Marco\n",
        "\n",
        "**Programmazione di Applicazioni Data Intensive**  \n",
        "Laurea in Ingegneria e Scienze Informatiche  \n",
        "DISI - Università di Bologna, Cesena\n",
        "\n",
        "Marco Lisotta  \n",
        "Mat: 880175  \n",
        "marco.lisotta@studio.unibo.it"
      ],
      "metadata": {
        "id": "WBJQdrDUP6yt"
      }
    },
    {
      "cell_type": "markdown",
      "source": [
        "## Descrizione del problema\n",
        "\n",
        "Il dataset preso in esame contiene statistiche sul videogioco **League of Legends**, classificato come MOBA (multiplayer online battle arena), dove due squadre (Blue e Red) si affrontano. Il nostro obiettivo sarà quello di predire la squadra vincitrice basandoci sui primi 10 minuti di partita."
      ],
      "metadata": {
        "id": "uno51wXQRKFX"
      }
    },
    {
      "cell_type": "markdown",
      "source": [
        "- Importiamo le librerie necessarie"
      ],
      "metadata": {
        "id": "mxBWGF4GTKPt"
      }
    },
    {
      "cell_type": "code",
      "source": [
        "# setup e test librerie\n",
        "%matplotlib inline\n",
        "import numpy as np\n",
        "import pandas as pd\n",
        "import matplotlib.pyplot as plt"
      ],
      "metadata": {
        "id": "mhY_4ej6S0_p"
      },
      "execution_count": 1,
      "outputs": []
    },
    {
      "cell_type": "markdown",
      "source": [
        "- Utilizziamo il database fornito su Kaggle:   \n",
        "https://www.kaggle.com/datasets/bobbyscience/league-of-legends-diamond-ranked-games-10-min"
      ],
      "metadata": {
        "id": "TIwl8UkqSaxP"
      }
    },
    {
      "cell_type": "code",
      "source": [
        "original_dataset = pd.read_csv(\"/content/high_diamond_ranked_10min.csv\")"
      ],
      "metadata": {
        "id": "2_HNOtbTTW1g"
      },
      "execution_count": 2,
      "outputs": []
    },
    {
      "cell_type": "code",
      "source": [
        "original_dataset.head()"
      ],
      "metadata": {
        "colab": {
          "base_uri": "https://localhost:8080/",
          "height": 297
        },
        "id": "eiA-OE34Uf3u",
        "outputId": "a99f1049-8a68-434c-f8a8-ed5148efbbd1"
      },
      "execution_count": 3,
      "outputs": [
        {
          "output_type": "execute_result",
          "data": {
            "text/plain": [
              "       gameId  blueWins  blueWardsPlaced  blueWardsDestroyed  blueFirstBlood  \\\n",
              "0  4519157822         0               28                   2               1   \n",
              "1  4523371949         0               12                   1               0   \n",
              "2  4521474530         0               15                   0               0   \n",
              "3  4524384067         0               43                   1               0   \n",
              "4  4436033771         0               75                   4               0   \n",
              "\n",
              "   blueKills  blueDeaths  blueAssists  blueEliteMonsters  blueDragons  ...  \\\n",
              "0          9           6           11                  0            0  ...   \n",
              "1          5           5            5                  0            0  ...   \n",
              "2          7          11            4                  1            1  ...   \n",
              "3          4           5            5                  1            0  ...   \n",
              "4          6           6            6                  0            0  ...   \n",
              "\n",
              "   redTowersDestroyed  redTotalGold  redAvgLevel  redTotalExperience  \\\n",
              "0                   0         16567          6.8               17047   \n",
              "1                   1         17620          6.8               17438   \n",
              "2                   0         17285          6.8               17254   \n",
              "3                   0         16478          7.0               17961   \n",
              "4                   0         17404          7.0               18313   \n",
              "\n",
              "   redTotalMinionsKilled  redTotalJungleMinionsKilled  redGoldDiff  \\\n",
              "0                    197                           55         -643   \n",
              "1                    240                           52         2908   \n",
              "2                    203                           28         1172   \n",
              "3                    235                           47         1321   \n",
              "4                    225                           67         1004   \n",
              "\n",
              "   redExperienceDiff  redCSPerMin  redGoldPerMin  \n",
              "0                  8         19.7         1656.7  \n",
              "1               1173         24.0         1762.0  \n",
              "2               1033         20.3         1728.5  \n",
              "3                  7         23.5         1647.8  \n",
              "4               -230         22.5         1740.4  \n",
              "\n",
              "[5 rows x 40 columns]"
            ],
            "text/html": [
              "\n",
              "  <div id=\"df-cc3540b4-4c32-449a-9e4b-a366c8d6a1d8\">\n",
              "    <div class=\"colab-df-container\">\n",
              "      <div>\n",
              "<style scoped>\n",
              "    .dataframe tbody tr th:only-of-type {\n",
              "        vertical-align: middle;\n",
              "    }\n",
              "\n",
              "    .dataframe tbody tr th {\n",
              "        vertical-align: top;\n",
              "    }\n",
              "\n",
              "    .dataframe thead th {\n",
              "        text-align: right;\n",
              "    }\n",
              "</style>\n",
              "<table border=\"1\" class=\"dataframe\">\n",
              "  <thead>\n",
              "    <tr style=\"text-align: right;\">\n",
              "      <th></th>\n",
              "      <th>gameId</th>\n",
              "      <th>blueWins</th>\n",
              "      <th>blueWardsPlaced</th>\n",
              "      <th>blueWardsDestroyed</th>\n",
              "      <th>blueFirstBlood</th>\n",
              "      <th>blueKills</th>\n",
              "      <th>blueDeaths</th>\n",
              "      <th>blueAssists</th>\n",
              "      <th>blueEliteMonsters</th>\n",
              "      <th>blueDragons</th>\n",
              "      <th>...</th>\n",
              "      <th>redTowersDestroyed</th>\n",
              "      <th>redTotalGold</th>\n",
              "      <th>redAvgLevel</th>\n",
              "      <th>redTotalExperience</th>\n",
              "      <th>redTotalMinionsKilled</th>\n",
              "      <th>redTotalJungleMinionsKilled</th>\n",
              "      <th>redGoldDiff</th>\n",
              "      <th>redExperienceDiff</th>\n",
              "      <th>redCSPerMin</th>\n",
              "      <th>redGoldPerMin</th>\n",
              "    </tr>\n",
              "  </thead>\n",
              "  <tbody>\n",
              "    <tr>\n",
              "      <th>0</th>\n",
              "      <td>4519157822</td>\n",
              "      <td>0</td>\n",
              "      <td>28</td>\n",
              "      <td>2</td>\n",
              "      <td>1</td>\n",
              "      <td>9</td>\n",
              "      <td>6</td>\n",
              "      <td>11</td>\n",
              "      <td>0</td>\n",
              "      <td>0</td>\n",
              "      <td>...</td>\n",
              "      <td>0</td>\n",
              "      <td>16567</td>\n",
              "      <td>6.8</td>\n",
              "      <td>17047</td>\n",
              "      <td>197</td>\n",
              "      <td>55</td>\n",
              "      <td>-643</td>\n",
              "      <td>8</td>\n",
              "      <td>19.7</td>\n",
              "      <td>1656.7</td>\n",
              "    </tr>\n",
              "    <tr>\n",
              "      <th>1</th>\n",
              "      <td>4523371949</td>\n",
              "      <td>0</td>\n",
              "      <td>12</td>\n",
              "      <td>1</td>\n",
              "      <td>0</td>\n",
              "      <td>5</td>\n",
              "      <td>5</td>\n",
              "      <td>5</td>\n",
              "      <td>0</td>\n",
              "      <td>0</td>\n",
              "      <td>...</td>\n",
              "      <td>1</td>\n",
              "      <td>17620</td>\n",
              "      <td>6.8</td>\n",
              "      <td>17438</td>\n",
              "      <td>240</td>\n",
              "      <td>52</td>\n",
              "      <td>2908</td>\n",
              "      <td>1173</td>\n",
              "      <td>24.0</td>\n",
              "      <td>1762.0</td>\n",
              "    </tr>\n",
              "    <tr>\n",
              "      <th>2</th>\n",
              "      <td>4521474530</td>\n",
              "      <td>0</td>\n",
              "      <td>15</td>\n",
              "      <td>0</td>\n",
              "      <td>0</td>\n",
              "      <td>7</td>\n",
              "      <td>11</td>\n",
              "      <td>4</td>\n",
              "      <td>1</td>\n",
              "      <td>1</td>\n",
              "      <td>...</td>\n",
              "      <td>0</td>\n",
              "      <td>17285</td>\n",
              "      <td>6.8</td>\n",
              "      <td>17254</td>\n",
              "      <td>203</td>\n",
              "      <td>28</td>\n",
              "      <td>1172</td>\n",
              "      <td>1033</td>\n",
              "      <td>20.3</td>\n",
              "      <td>1728.5</td>\n",
              "    </tr>\n",
              "    <tr>\n",
              "      <th>3</th>\n",
              "      <td>4524384067</td>\n",
              "      <td>0</td>\n",
              "      <td>43</td>\n",
              "      <td>1</td>\n",
              "      <td>0</td>\n",
              "      <td>4</td>\n",
              "      <td>5</td>\n",
              "      <td>5</td>\n",
              "      <td>1</td>\n",
              "      <td>0</td>\n",
              "      <td>...</td>\n",
              "      <td>0</td>\n",
              "      <td>16478</td>\n",
              "      <td>7.0</td>\n",
              "      <td>17961</td>\n",
              "      <td>235</td>\n",
              "      <td>47</td>\n",
              "      <td>1321</td>\n",
              "      <td>7</td>\n",
              "      <td>23.5</td>\n",
              "      <td>1647.8</td>\n",
              "    </tr>\n",
              "    <tr>\n",
              "      <th>4</th>\n",
              "      <td>4436033771</td>\n",
              "      <td>0</td>\n",
              "      <td>75</td>\n",
              "      <td>4</td>\n",
              "      <td>0</td>\n",
              "      <td>6</td>\n",
              "      <td>6</td>\n",
              "      <td>6</td>\n",
              "      <td>0</td>\n",
              "      <td>0</td>\n",
              "      <td>...</td>\n",
              "      <td>0</td>\n",
              "      <td>17404</td>\n",
              "      <td>7.0</td>\n",
              "      <td>18313</td>\n",
              "      <td>225</td>\n",
              "      <td>67</td>\n",
              "      <td>1004</td>\n",
              "      <td>-230</td>\n",
              "      <td>22.5</td>\n",
              "      <td>1740.4</td>\n",
              "    </tr>\n",
              "  </tbody>\n",
              "</table>\n",
              "<p>5 rows × 40 columns</p>\n",
              "</div>\n",
              "      <button class=\"colab-df-convert\" onclick=\"convertToInteractive('df-cc3540b4-4c32-449a-9e4b-a366c8d6a1d8')\"\n",
              "              title=\"Convert this dataframe to an interactive table.\"\n",
              "              style=\"display:none;\">\n",
              "        \n",
              "  <svg xmlns=\"http://www.w3.org/2000/svg\" height=\"24px\"viewBox=\"0 0 24 24\"\n",
              "       width=\"24px\">\n",
              "    <path d=\"M0 0h24v24H0V0z\" fill=\"none\"/>\n",
              "    <path d=\"M18.56 5.44l.94 2.06.94-2.06 2.06-.94-2.06-.94-.94-2.06-.94 2.06-2.06.94zm-11 1L8.5 8.5l.94-2.06 2.06-.94-2.06-.94L8.5 2.5l-.94 2.06-2.06.94zm10 10l.94 2.06.94-2.06 2.06-.94-2.06-.94-.94-2.06-.94 2.06-2.06.94z\"/><path d=\"M17.41 7.96l-1.37-1.37c-.4-.4-.92-.59-1.43-.59-.52 0-1.04.2-1.43.59L10.3 9.45l-7.72 7.72c-.78.78-.78 2.05 0 2.83L4 21.41c.39.39.9.59 1.41.59.51 0 1.02-.2 1.41-.59l7.78-7.78 2.81-2.81c.8-.78.8-2.07 0-2.86zM5.41 20L4 18.59l7.72-7.72 1.47 1.35L5.41 20z\"/>\n",
              "  </svg>\n",
              "      </button>\n",
              "      \n",
              "  <style>\n",
              "    .colab-df-container {\n",
              "      display:flex;\n",
              "      flex-wrap:wrap;\n",
              "      gap: 12px;\n",
              "    }\n",
              "\n",
              "    .colab-df-convert {\n",
              "      background-color: #E8F0FE;\n",
              "      border: none;\n",
              "      border-radius: 50%;\n",
              "      cursor: pointer;\n",
              "      display: none;\n",
              "      fill: #1967D2;\n",
              "      height: 32px;\n",
              "      padding: 0 0 0 0;\n",
              "      width: 32px;\n",
              "    }\n",
              "\n",
              "    .colab-df-convert:hover {\n",
              "      background-color: #E2EBFA;\n",
              "      box-shadow: 0px 1px 2px rgba(60, 64, 67, 0.3), 0px 1px 3px 1px rgba(60, 64, 67, 0.15);\n",
              "      fill: #174EA6;\n",
              "    }\n",
              "\n",
              "    [theme=dark] .colab-df-convert {\n",
              "      background-color: #3B4455;\n",
              "      fill: #D2E3FC;\n",
              "    }\n",
              "\n",
              "    [theme=dark] .colab-df-convert:hover {\n",
              "      background-color: #434B5C;\n",
              "      box-shadow: 0px 1px 3px 1px rgba(0, 0, 0, 0.15);\n",
              "      filter: drop-shadow(0px 1px 2px rgba(0, 0, 0, 0.3));\n",
              "      fill: #FFFFFF;\n",
              "    }\n",
              "  </style>\n",
              "\n",
              "      <script>\n",
              "        const buttonEl =\n",
              "          document.querySelector('#df-cc3540b4-4c32-449a-9e4b-a366c8d6a1d8 button.colab-df-convert');\n",
              "        buttonEl.style.display =\n",
              "          google.colab.kernel.accessAllowed ? 'block' : 'none';\n",
              "\n",
              "        async function convertToInteractive(key) {\n",
              "          const element = document.querySelector('#df-cc3540b4-4c32-449a-9e4b-a366c8d6a1d8');\n",
              "          const dataTable =\n",
              "            await google.colab.kernel.invokeFunction('convertToInteractive',\n",
              "                                                     [key], {});\n",
              "          if (!dataTable) return;\n",
              "\n",
              "          const docLinkHtml = 'Like what you see? Visit the ' +\n",
              "            '<a target=\"_blank\" href=https://colab.research.google.com/notebooks/data_table.ipynb>data table notebook</a>'\n",
              "            + ' to learn more about interactive tables.';\n",
              "          element.innerHTML = '';\n",
              "          dataTable['output_type'] = 'display_data';\n",
              "          await google.colab.output.renderOutput(dataTable, element);\n",
              "          const docLink = document.createElement('div');\n",
              "          docLink.innerHTML = docLinkHtml;\n",
              "          element.appendChild(docLink);\n",
              "        }\n",
              "      </script>\n",
              "    </div>\n",
              "  </div>\n",
              "  "
            ]
          },
          "metadata": {},
          "execution_count": 3
        }
      ]
    },
    {
      "cell_type": "code",
      "source": [
        "original_dataset.columns"
      ],
      "metadata": {
        "colab": {
          "base_uri": "https://localhost:8080/"
        },
        "id": "2_Klqq6MlZOj",
        "outputId": "f0de62a5-9fab-4d65-cb26-c993cd6f8795"
      },
      "execution_count": 4,
      "outputs": [
        {
          "output_type": "execute_result",
          "data": {
            "text/plain": [
              "Index(['gameId', 'blueWins', 'blueWardsPlaced', 'blueWardsDestroyed',\n",
              "       'blueFirstBlood', 'blueKills', 'blueDeaths', 'blueAssists',\n",
              "       'blueEliteMonsters', 'blueDragons', 'blueHeralds',\n",
              "       'blueTowersDestroyed', 'blueTotalGold', 'blueAvgLevel',\n",
              "       'blueTotalExperience', 'blueTotalMinionsKilled',\n",
              "       'blueTotalJungleMinionsKilled', 'blueGoldDiff', 'blueExperienceDiff',\n",
              "       'blueCSPerMin', 'blueGoldPerMin', 'redWardsPlaced', 'redWardsDestroyed',\n",
              "       'redFirstBlood', 'redKills', 'redDeaths', 'redAssists',\n",
              "       'redEliteMonsters', 'redDragons', 'redHeralds', 'redTowersDestroyed',\n",
              "       'redTotalGold', 'redAvgLevel', 'redTotalExperience',\n",
              "       'redTotalMinionsKilled', 'redTotalJungleMinionsKilled', 'redGoldDiff',\n",
              "       'redExperienceDiff', 'redCSPerMin', 'redGoldPerMin'],\n",
              "      dtype='object')"
            ]
          },
          "metadata": {},
          "execution_count": 4
        }
      ]
    },
    {
      "cell_type": "markdown",
      "source": [
        "Facciamo una breve descrizione per ogni **feature** che abbiamo a disposizione:\n",
        "\n",
        "1. gameId = Id del game\n",
        "2. blueWins = Vittoria blue (1) o vittoria red (0)\n",
        "3. (blue/red)WardsPlaced = Numero di lumi posizionati (rivelano un area di gioco)\n",
        "4. (blue/red)WardsDestryed = Numero di lumi distrutti\n",
        "5. (blue/red)FirstBlood = Prima uccisione della partita (1 | 0)\n",
        "6. (blue/red)Kills = Somma uccisioni di squadra\n",
        "7. (blue/red)Death = Somma morti di squadra\n",
        "8. (blue/red)Assist = Somma assist di squadra\n",
        "9. (blue/red)EliteMonster = Numero di mostri uccisi (Dragons e Heralds)\n",
        "10. (blue/red)Dragons = Quantita di mostri uccisi di questa tipologia\n",
        "11. (blue/red)Herald = Quantita di mostri uccisi di questa tipologia\n",
        "12. (blue/red)TowersDestroyed = Numero di torri distrutte\n",
        "13. (blue/red)TotalGold = Somma del gold dei giocatori di una squadra\n",
        "14. (blue/red)AvgLevel = Media dei livelli tra i giocatori di una squadra\n",
        "15. (blue/red)TotalExperience = Somma esperienza tra i giocatori di una squadra\n",
        "16. (blue/red)TotalMinionsKilled = Totale di NPC uccisi da una squadra\n",
        "17. (blue/red)TotalJungMinionsKilled = Totale di NPC neutri uccisi da una squadra\n",
        "18. (blue/red)GoldDiff = Differenza di gold con altra squadra\n",
        "19. (blue/red)ExperienceDiff = Differenza in esperienza con altra squadra\n",
        "20. (blue/red)CSPerMin = Media NPC uccisi al minuto\n",
        "21. (blue/red)GoldPerMin = Media gold accumulato per minuto"
      ],
      "metadata": {
        "id": "5To-grGTVnbq"
      }
    },
    {
      "cell_type": "markdown",
      "source": [
        "La variabile target è `blueWins` e come possiamo intuire dalla descrizione sarà binaria `0` se la squadra blue perdere, `1` se la squadra blue vince. \n",
        "\n",
        "Le features che abbiamo in esame, a primo impatto, sono tutte di tipo **continuo**, eccetto l'unica variabile di tipo **binario** `FirstBlood`."
      ],
      "metadata": {
        "id": "gj3j9sUEaf3q"
      }
    },
    {
      "cell_type": "code",
      "source": [
        "original_dataset[\"blueWins\"].value_counts().plot.pie(autopct='%1.1f%%')"
      ],
      "metadata": {
        "colab": {
          "base_uri": "https://localhost:8080/",
          "height": 265
        },
        "id": "7W8M86DamRZ3",
        "outputId": "edd015a2-5aa4-45ad-a7e6-b2fcfb7f8811"
      },
      "execution_count": 5,
      "outputs": [
        {
          "output_type": "execute_result",
          "data": {
            "text/plain": [
              "<matplotlib.axes._subplots.AxesSubplot at 0x7f50e59710d0>"
            ]
          },
          "metadata": {},
          "execution_count": 5
        },
        {
          "output_type": "display_data",
          "data": {
            "text/plain": [
              "<Figure size 432x288 with 1 Axes>"
            ],
            "image/png": "[encoded data removed]"
          },
          "metadata": {}
        }
      ]
    },
    {
      "cell_type": "markdown",
      "source": [
        "Osserviamo dal grafico a torta che la variabile target `bluWins` risulta essere bilanciata, come ci aspettiamo sia su un videogioco competitivo."
      ],
      "metadata": {
        "id": "f1WMBqIdmVdK"
      }
    },
    {
      "cell_type": "code",
      "source": [
        "original_dataset.isnull().sum()"
      ],
      "metadata": {
        "colab": {
          "base_uri": "https://localhost:8080/"
        },
        "id": "7zFCHBSC7gRG",
        "outputId": "3721ca2f-09b4-439c-f87c-b51e2f6a1361"
      },
      "execution_count": 6,
      "outputs": [
        {
          "output_type": "execute_result",
          "data": {
            "text/plain": [
              "gameId                          0\n",
              "blueWins                        0\n",
              "blueWardsPlaced                 0\n",
              "blueWardsDestroyed              0\n",
              "blueFirstBlood                  0\n",
              "blueKills                       0\n",
              "blueDeaths                      0\n",
              "blueAssists                     0\n",
              "blueEliteMonsters               0\n",
              "blueDragons                     0\n",
              "blueHeralds                     0\n",
              "blueTowersDestroyed             0\n",
              "blueTotalGold                   0\n",
              "blueAvgLevel                    0\n",
              "blueTotalExperience             0\n",
              "blueTotalMinionsKilled          0\n",
              "blueTotalJungleMinionsKilled    0\n",
              "blueGoldDiff                    0\n",
              "blueExperienceDiff              0\n",
              "blueCSPerMin                    0\n",
              "blueGoldPerMin                  0\n",
              "redWardsPlaced                  0\n",
              "redWardsDestroyed               0\n",
              "redFirstBlood                   0\n",
              "redKills                        0\n",
              "redDeaths                       0\n",
              "redAssists                      0\n",
              "redEliteMonsters                0\n",
              "redDragons                      0\n",
              "redHeralds                      0\n",
              "redTowersDestroyed              0\n",
              "redTotalGold                    0\n",
              "redAvgLevel                     0\n",
              "redTotalExperience              0\n",
              "redTotalMinionsKilled           0\n",
              "redTotalJungleMinionsKilled     0\n",
              "redGoldDiff                     0\n",
              "redExperienceDiff               0\n",
              "redCSPerMin                     0\n",
              "redGoldPerMin                   0\n",
              "dtype: int64"
            ]
          },
          "metadata": {},
          "execution_count": 6
        }
      ]
    },
    {
      "cell_type": "markdown",
      "source": [
        "- Non sono presenti valori nulli all'interno del database"
      ],
      "metadata": {
        "id": "-wu8SYZG7gma"
      }
    },
    {
      "cell_type": "code",
      "source": [
        "dataset = original_dataset"
      ],
      "metadata": {
        "id": "p3qMdKlUkdrU"
      },
      "execution_count": 7,
      "outputs": []
    },
    {
      "cell_type": "markdown",
      "source": [
        "- Possiamo cancellare immediatamente la colonna `gameId` in quanto irrilevante ai fini del problema."
      ],
      "metadata": {
        "id": "UuDMBUGAd74E"
      }
    },
    {
      "cell_type": "code",
      "source": [
        "dataset = dataset.drop(\"gameId\", axis=1)"
      ],
      "metadata": {
        "id": "mvs0O_ULd63k"
      },
      "execution_count": 8,
      "outputs": []
    },
    {
      "cell_type": "markdown",
      "source": [
        "## Analisi esplorativa dei dati e modellazione dati\n",
        "\n",
        "In questa sezione andiamo ad esplorare tutte le feature ed i dati a nostra disposizione ed effettueremo le modifiche che riteniamo necessarie."
      ],
      "metadata": {
        "id": "WGwcirPsbnL2"
      }
    },
    {
      "cell_type": "markdown",
      "source": [
        "- Possiamo facilmente intuire e dimostrare come `blueFirstBlood` e `redFirstBlood` siano una complementare all'altra, in quanto può esistere solamente uno di questi per partita."
      ],
      "metadata": {
        "id": "Tey08Uz9es6d"
      }
    },
    {
      "cell_type": "code",
      "source": [
        "dataset.shape[0] == (dataset[\"blueFirstBlood\"] + dataset[\"redFirstBlood\"]).sum()"
      ],
      "metadata": {
        "colab": {
          "base_uri": "https://localhost:8080/"
        },
        "id": "2ipnRBiucOMh",
        "outputId": "bdbfa6db-5fa8-4a8b-b771-2584adf49237"
      },
      "execution_count": 9,
      "outputs": [
        {
          "output_type": "execute_result",
          "data": {
            "text/plain": [
              "True"
            ]
          },
          "metadata": {},
          "execution_count": 9
        }
      ]
    },
    {
      "cell_type": "markdown",
      "source": [
        "Possiamo eliminare la colonna `redFirstBlood`."
      ],
      "metadata": {
        "id": "84z3FG14gBHj"
      }
    },
    {
      "cell_type": "code",
      "source": [
        "dataset = dataset.drop(\"redFirstBlood\", axis=1)"
      ],
      "metadata": {
        "id": "_VWmEVcAff-F"
      },
      "execution_count": 10,
      "outputs": []
    },
    {
      "cell_type": "markdown",
      "source": [
        "- Analizziamo `Kills` e `Death` per ciascuna squadra e notiamo come siano feature esattamente una opposta all'altra"
      ],
      "metadata": {
        "id": "khvOsBxCgk5l"
      }
    },
    {
      "cell_type": "code",
      "source": [
        "(dataset[\"blueKills\"] == dataset[\"redDeaths\"]).unique(), \\\n",
        "(dataset[\"redKills\"] == dataset[\"blueDeaths\"]).unique()"
      ],
      "metadata": {
        "colab": {
          "base_uri": "https://localhost:8080/"
        },
        "id": "kOeVRy5mggSz",
        "outputId": "616225bd-a6de-4ac2-cf84-c640af44d9d6"
      },
      "execution_count": 11,
      "outputs": [
        {
          "output_type": "execute_result",
          "data": {
            "text/plain": [
              "(array([ True]), array([ True]))"
            ]
          },
          "metadata": {},
          "execution_count": 11
        }
      ]
    },
    {
      "cell_type": "markdown",
      "source": [
        "Cancelliamo rispettivamente le colonne `redKills` e `redDeaths`"
      ],
      "metadata": {
        "id": "-Z9vdMEDhuXE"
      }
    },
    {
      "cell_type": "code",
      "source": [
        "dataset = dataset.drop([\"redKills\", \"redDeaths\"], axis=1)"
      ],
      "metadata": {
        "id": "JOND1IsQhtfv"
      },
      "execution_count": 12,
      "outputs": []
    },
    {
      "cell_type": "markdown",
      "source": [
        "- Cancelliamo anche la feature `EliteMonsters` in quanto equivale alla sommatoria di Dagons e Heralds, come specificato nella descrizione delle feature.\n",
        "- Dimostriamo che il numero equivalga e cancelliamo la feature"
      ],
      "metadata": {
        "id": "AaLjZab15-8J"
      }
    },
    {
      "cell_type": "code",
      "source": [
        "(dataset[\"blueEliteMonsters\"] == dataset[\"blueDragons\"] + dataset[\"blueHeralds\"]).unique(), \\\n",
        "(dataset[\"redEliteMonsters\"] == dataset[\"redDragons\"] + dataset[\"redHeralds\"]).unique()"
      ],
      "metadata": {
        "colab": {
          "base_uri": "https://localhost:8080/"
        },
        "id": "-LU8FXhy5-Yz",
        "outputId": "eeae13ea-d4d7-4a02-ae66-5f4c9cfff870"
      },
      "execution_count": 13,
      "outputs": [
        {
          "output_type": "execute_result",
          "data": {
            "text/plain": [
              "(array([ True]), array([ True]))"
            ]
          },
          "metadata": {},
          "execution_count": 13
        }
      ]
    },
    {
      "cell_type": "code",
      "source": [
        "dataset = dataset.drop([\"blueEliteMonsters\", \"redEliteMonsters\"], axis=1)"
      ],
      "metadata": {
        "id": "NTXdYzH276yU"
      },
      "execution_count": 14,
      "outputs": []
    },
    {
      "cell_type": "markdown",
      "source": [
        "Andiamo ad analizzare il numero di valori unici delle variabili"
      ],
      "metadata": {
        "id": "jfWV4U36u9lR"
      }
    },
    {
      "cell_type": "code",
      "source": [
        "dataset.nunique()"
      ],
      "metadata": {
        "colab": {
          "base_uri": "https://localhost:8080/"
        },
        "id": "WgadwlSNut05",
        "outputId": "a13ab723-f7e7-4f07-d0ca-257380323f5c"
      },
      "execution_count": 15,
      "outputs": [
        {
          "output_type": "execute_result",
          "data": {
            "text/plain": [
              "blueWins                           2\n",
              "blueWardsPlaced                  147\n",
              "blueWardsDestroyed                27\n",
              "blueFirstBlood                     2\n",
              "blueKills                         21\n",
              "blueDeaths                        21\n",
              "blueAssists                       30\n",
              "blueDragons                        2\n",
              "blueHeralds                        2\n",
              "blueTowersDestroyed                5\n",
              "blueTotalGold                   4739\n",
              "blueAvgLevel                      17\n",
              "blueTotalExperience             4143\n",
              "blueTotalMinionsKilled           148\n",
              "blueTotalJungleMinionsKilled      74\n",
              "blueGoldDiff                    6047\n",
              "blueExperienceDiff              5356\n",
              "blueCSPerMin                     148\n",
              "blueGoldPerMin                  4739\n",
              "redWardsPlaced                   151\n",
              "redWardsDestroyed                 25\n",
              "redAssists                        28\n",
              "redDragons                         2\n",
              "redHeralds                         2\n",
              "redTowersDestroyed                 3\n",
              "redTotalGold                    4732\n",
              "redAvgLevel                       18\n",
              "redTotalExperience              4113\n",
              "redTotalMinionsKilled            153\n",
              "redTotalJungleMinionsKilled       75\n",
              "redGoldDiff                     6047\n",
              "redExperienceDiff               5356\n",
              "redCSPerMin                      153\n",
              "redGoldPerMin                   4732\n",
              "dtype: int64"
            ]
          },
          "metadata": {},
          "execution_count": 15
        }
      ]
    },
    {
      "cell_type": "markdown",
      "source": [
        "Notiamo come ci siano altre tipi di variabili di tipo **binario**. Queste sono quelle che involvono `Dragons` e `Heralds`.    \n",
        "Le variabili sono di tipo binario in quanto nei primi 10 minuti di partita sarà possibile per le squadre aggiudicarsi solo uno di questi mostri.\n",
        "\n",
        "- Non cancelliamo una dele feature in quanto esiste sempre la possibilità che nessuna delle due squadre se lo aggiudichi e venga ignorato"
      ],
      "metadata": {
        "id": "bnw84zm5u8rP"
      }
    },
    {
      "cell_type": "markdown",
      "source": [
        "Ora che abbiamo eliminato le variabili con una relazione facilmente intuibile(per chi conosce il videogioco), andiamo ad analizzare le correlazioni che hanno le feature con la nostra variabile da predire."
      ],
      "metadata": {
        "id": "nAor-zcKksnz"
      }
    },
    {
      "cell_type": "code",
      "source": [
        "dataset.corr()[\"blueWins\"].abs().sort_values(ascending=False)"
      ],
      "metadata": {
        "colab": {
          "base_uri": "https://localhost:8080/"
        },
        "id": "_DogJNXgh8xs",
        "outputId": "dd64e812-9d4f-4b5e-9bc0-2929ef3ea02f"
      },
      "execution_count": 16,
      "outputs": [
        {
          "output_type": "execute_result",
          "data": {
            "text/plain": [
              "blueWins                        1.000000\n",
              "redGoldDiff                     0.511119\n",
              "blueGoldDiff                    0.511119\n",
              "redExperienceDiff               0.489558\n",
              "blueExperienceDiff              0.489558\n",
              "blueTotalGold                   0.417213\n",
              "blueGoldPerMin                  0.417213\n",
              "redTotalGold                    0.411396\n",
              "redGoldPerMin                   0.411396\n",
              "blueTotalExperience             0.396141\n",
              "redTotalExperience              0.387588\n",
              "blueAvgLevel                    0.357820\n",
              "redAvgLevel                     0.352127\n",
              "blueDeaths                      0.339297\n",
              "blueKills                       0.337358\n",
              "blueAssists                     0.276685\n",
              "redAssists                      0.271047\n",
              "blueCSPerMin                    0.224909\n",
              "blueTotalMinionsKilled          0.224909\n",
              "blueDragons                     0.213768\n",
              "redTotalMinionsKilled           0.212171\n",
              "redCSPerMin                     0.212171\n",
              "redDragons                      0.209516\n",
              "blueFirstBlood                  0.201769\n",
              "blueTotalJungleMinionsKilled    0.131445\n",
              "blueTowersDestroyed             0.115566\n",
              "redTotalJungleMinionsKilled     0.110994\n",
              "redTowersDestroyed              0.103696\n",
              "redHeralds                      0.097172\n",
              "blueHeralds                     0.092385\n",
              "redWardsDestroyed               0.055400\n",
              "blueWardsDestroyed              0.044247\n",
              "redWardsPlaced                  0.023671\n",
              "blueWardsPlaced                 0.000087\n",
              "Name: blueWins, dtype: float64"
            ]
          },
          "metadata": {},
          "execution_count": 16
        }
      ]
    },
    {
      "cell_type": "markdown",
      "source": [
        "- Tutte le colonne di tipo diff sono ridondanti, ne manteniamo soltanto una\n",
        "- Le colonne `PerMin` hanno la stessa influenza del totale della specifica feature (Gold, CS(Minion Killed))"
      ],
      "metadata": {
        "id": "-yNouF1AmVZf"
      }
    },
    {
      "cell_type": "code",
      "source": [
        "drop = [\n",
        "    \"redGoldDiff\",\n",
        "    \"redExperienceDiff\",\n",
        "    \"blueGoldPerMin\",\n",
        "    \"redGoldPerMin\",\n",
        "    \"blueCSPerMin\",\n",
        "    \"redCSPerMin\",\n",
        "    \"blueGoldDiff\",\n",
        "    \"blueExperienceDiff\",\n",
        "]\n",
        "dataset = dataset.drop(drop, axis=1)"
      ],
      "metadata": {
        "id": "v7H2fx5doN7h"
      },
      "execution_count": 17,
      "outputs": []
    },
    {
      "cell_type": "markdown",
      "source": [
        "- Cancelliamo tutte le colonne `Diff` per facilitare il prossimo lavoro di **Features engineering** che andremo ad eseguire e renderlo più esplicativo."
      ],
      "metadata": {
        "id": "OJUQlw5ZsaZ_"
      }
    },
    {
      "cell_type": "markdown",
      "source": [
        "Visto la natura competitiva del videogioco, e considerando che la nostra variabile da predire è la vittoria o sconfitta della squadra blu, proviamo a introdurre nuove feature derivate dalle precedenti.    \n",
        "Osservando le correlazioni possiamo notare come le feature più incisive siano quelle che mettono in evidenza la differenza tra le due squadre. Quindi proviamo ad estrarle e vedere se sono più rilevanti delle precedenti."
      ],
      "metadata": {
        "id": "abU4Lrotv78l"
      }
    },
    {
      "cell_type": "code",
      "source": [
        "# Credit: https://www.kaggle.com/code/pratikgarai/lol-win-prediction\n",
        "diffFeatures = [\n",
        "    \"TotalGold\", \n",
        "    \"TotalExperience\", \n",
        "    \"AvgLevel\",\n",
        "    \"Assists\",\n",
        "    \"TotalMinionsKilled\",\n",
        "    \"TotalJungleMinionsKilled\",\n",
        "    \"TowersDestroyed\",\n",
        "    \"WardsDestroyed\",\n",
        "    \"WardsPlaced\",\n",
        "\n",
        "]\n",
        "\n",
        "for i in diffFeatures :\n",
        "    dataset[i+\"Diff\"] = original_dataset[\"blue\"+i] - original_dataset[\"red\"+i]"
      ],
      "metadata": {
        "id": "l9d_B3vayS9o"
      },
      "execution_count": 18,
      "outputs": []
    },
    {
      "cell_type": "code",
      "source": [
        "temp = []\n",
        "c = dataset.corr()[\"blueWins\"]\n",
        "for i in diffFeatures : \n",
        "    temp.append((i, c[\"blue\"+i], c[\"red\"+i], c[i+\"Diff\"], c[i+\"Diff\"] > max(abs(c[\"blue\"+i]), abs(c[\"red\"+i]))))\n",
        "\n",
        "temp = pd.DataFrame(temp, columns = [\"feature\", \"blue corr\", \"red corr\", \"diff corr\", \"better?\"])\n",
        "temp"
      ],
      "metadata": {
        "colab": {
          "base_uri": "https://localhost:8080/",
          "height": 328
        },
        "id": "WAqlkV4I4ByP",
        "outputId": "9d00b712-9aa0-4454-df10-ba2b50f360cb"
      },
      "execution_count": 19,
      "outputs": [
        {
          "output_type": "execute_result",
          "data": {
            "text/plain": [
              "                    feature  blue corr  red corr  diff corr  better?\n",
              "0                 TotalGold   0.417213 -0.411396   0.511119     True\n",
              "1           TotalExperience   0.396141 -0.387588   0.489558     True\n",
              "2                  AvgLevel   0.357820 -0.352127   0.452927     True\n",
              "3                   Assists   0.276685 -0.271047   0.385866     True\n",
              "4        TotalMinionsKilled   0.224909 -0.212171   0.309126     True\n",
              "5  TotalJungleMinionsKilled   0.131445 -0.110994   0.169118     True\n",
              "6           TowersDestroyed   0.115566 -0.103696   0.156179     True\n",
              "7            WardsDestroyed   0.044247 -0.055400   0.075205     True\n",
              "8               WardsPlaced   0.000087 -0.023671   0.016890    False"
            ],
            "text/html": [
              "\n",
              "  <div id=\"df-8fefa41b-3474-4bab-a7c4-62cb6cd91416\">\n",
              "    <div class=\"colab-df-container\">\n",
              "      <div>\n",
              "<style scoped>\n",
              "    .dataframe tbody tr th:only-of-type {\n",
              "        vertical-align: middle;\n",
              "    }\n",
              "\n",
              "    .dataframe tbody tr th {\n",
              "        vertical-align: top;\n",
              "    }\n",
              "\n",
              "    .dataframe thead th {\n",
              "        text-align: right;\n",
              "    }\n",
              "</style>\n",
              "<table border=\"1\" class=\"dataframe\">\n",
              "  <thead>\n",
              "    <tr style=\"text-align: right;\">\n",
              "      <th></th>\n",
              "      <th>feature</th>\n",
              "      <th>blue corr</th>\n",
              "      <th>red corr</th>\n",
              "      <th>diff corr</th>\n",
              "      <th>better?</th>\n",
              "    </tr>\n",
              "  </thead>\n",
              "  <tbody>\n",
              "    <tr>\n",
              "      <th>0</th>\n",
              "      <td>TotalGold</td>\n",
              "      <td>0.417213</td>\n",
              "      <td>-0.411396</td>\n",
              "      <td>0.511119</td>\n",
              "      <td>True</td>\n",
              "    </tr>\n",
              "    <tr>\n",
              "      <th>1</th>\n",
              "      <td>TotalExperience</td>\n",
              "      <td>0.396141</td>\n",
              "      <td>-0.387588</td>\n",
              "      <td>0.489558</td>\n",
              "      <td>True</td>\n",
              "    </tr>\n",
              "    <tr>\n",
              "      <th>2</th>\n",
              "      <td>AvgLevel</td>\n",
              "      <td>0.357820</td>\n",
              "      <td>-0.352127</td>\n",
              "      <td>0.452927</td>\n",
              "      <td>True</td>\n",
              "    </tr>\n",
              "    <tr>\n",
              "      <th>3</th>\n",
              "      <td>Assists</td>\n",
              "      <td>0.276685</td>\n",
              "      <td>-0.271047</td>\n",
              "      <td>0.385866</td>\n",
              "      <td>True</td>\n",
              "    </tr>\n",
              "    <tr>\n",
              "      <th>4</th>\n",
              "      <td>TotalMinionsKilled</td>\n",
              "      <td>0.224909</td>\n",
              "      <td>-0.212171</td>\n",
              "      <td>0.309126</td>\n",
              "      <td>True</td>\n",
              "    </tr>\n",
              "    <tr>\n",
              "      <th>5</th>\n",
              "      <td>TotalJungleMinionsKilled</td>\n",
              "      <td>0.131445</td>\n",
              "      <td>-0.110994</td>\n",
              "      <td>0.169118</td>\n",
              "      <td>True</td>\n",
              "    </tr>\n",
              "    <tr>\n",
              "      <th>6</th>\n",
              "      <td>TowersDestroyed</td>\n",
              "      <td>0.115566</td>\n",
              "      <td>-0.103696</td>\n",
              "      <td>0.156179</td>\n",
              "      <td>True</td>\n",
              "    </tr>\n",
              "    <tr>\n",
              "      <th>7</th>\n",
              "      <td>WardsDestroyed</td>\n",
              "      <td>0.044247</td>\n",
              "      <td>-0.055400</td>\n",
              "      <td>0.075205</td>\n",
              "      <td>True</td>\n",
              "    </tr>\n",
              "    <tr>\n",
              "      <th>8</th>\n",
              "      <td>WardsPlaced</td>\n",
              "      <td>0.000087</td>\n",
              "      <td>-0.023671</td>\n",
              "      <td>0.016890</td>\n",
              "      <td>False</td>\n",
              "    </tr>\n",
              "  </tbody>\n",
              "</table>\n",
              "</div>\n",
              "      <button class=\"colab-df-convert\" onclick=\"convertToInteractive('df-8fefa41b-3474-4bab-a7c4-62cb6cd91416')\"\n",
              "              title=\"Convert this dataframe to an interactive table.\"\n",
              "              style=\"display:none;\">\n",
              "        \n",
              "  <svg xmlns=\"http://www.w3.org/2000/svg\" height=\"24px\"viewBox=\"0 0 24 24\"\n",
              "       width=\"24px\">\n",
              "    <path d=\"M0 0h24v24H0V0z\" fill=\"none\"/>\n",
              "    <path d=\"M18.56 5.44l.94 2.06.94-2.06 2.06-.94-2.06-.94-.94-2.06-.94 2.06-2.06.94zm-11 1L8.5 8.5l.94-2.06 2.06-.94-2.06-.94L8.5 2.5l-.94 2.06-2.06.94zm10 10l.94 2.06.94-2.06 2.06-.94-2.06-.94-.94-2.06-.94 2.06-2.06.94z\"/><path d=\"M17.41 7.96l-1.37-1.37c-.4-.4-.92-.59-1.43-.59-.52 0-1.04.2-1.43.59L10.3 9.45l-7.72 7.72c-.78.78-.78 2.05 0 2.83L4 21.41c.39.39.9.59 1.41.59.51 0 1.02-.2 1.41-.59l7.78-7.78 2.81-2.81c.8-.78.8-2.07 0-2.86zM5.41 20L4 18.59l7.72-7.72 1.47 1.35L5.41 20z\"/>\n",
              "  </svg>\n",
              "      </button>\n",
              "      \n",
              "  <style>\n",
              "    .colab-df-container {\n",
              "      display:flex;\n",
              "      flex-wrap:wrap;\n",
              "      gap: 12px;\n",
              "    }\n",
              "\n",
              "    .colab-df-convert {\n",
              "      background-color: #E8F0FE;\n",
              "      border: none;\n",
              "      border-radius: 50%;\n",
              "      cursor: pointer;\n",
              "      display: none;\n",
              "      fill: #1967D2;\n",
              "      height: 32px;\n",
              "      padding: 0 0 0 0;\n",
              "      width: 32px;\n",
              "    }\n",
              "\n",
              "    .colab-df-convert:hover {\n",
              "      background-color: #E2EBFA;\n",
              "      box-shadow: 0px 1px 2px rgba(60, 64, 67, 0.3), 0px 1px 3px 1px rgba(60, 64, 67, 0.15);\n",
              "      fill: #174EA6;\n",
              "    }\n",
              "\n",
              "    [theme=dark] .colab-df-convert {\n",
              "      background-color: #3B4455;\n",
              "      fill: #D2E3FC;\n",
              "    }\n",
              "\n",
              "    [theme=dark] .colab-df-convert:hover {\n",
              "      background-color: #434B5C;\n",
              "      box-shadow: 0px 1px 3px 1px rgba(0, 0, 0, 0.15);\n",
              "      filter: drop-shadow(0px 1px 2px rgba(0, 0, 0, 0.3));\n",
              "      fill: #FFFFFF;\n",
              "    }\n",
              "  </style>\n",
              "\n",
              "      <script>\n",
              "        const buttonEl =\n",
              "          document.querySelector('#df-8fefa41b-3474-4bab-a7c4-62cb6cd91416 button.colab-df-convert');\n",
              "        buttonEl.style.display =\n",
              "          google.colab.kernel.accessAllowed ? 'block' : 'none';\n",
              "\n",
              "        async function convertToInteractive(key) {\n",
              "          const element = document.querySelector('#df-8fefa41b-3474-4bab-a7c4-62cb6cd91416');\n",
              "          const dataTable =\n",
              "            await google.colab.kernel.invokeFunction('convertToInteractive',\n",
              "                                                     [key], {});\n",
              "          if (!dataTable) return;\n",
              "\n",
              "          const docLinkHtml = 'Like what you see? Visit the ' +\n",
              "            '<a target=\"_blank\" href=https://colab.research.google.com/notebooks/data_table.ipynb>data table notebook</a>'\n",
              "            + ' to learn more about interactive tables.';\n",
              "          element.innerHTML = '';\n",
              "          dataTable['output_type'] = 'display_data';\n",
              "          await google.colab.output.renderOutput(dataTable, element);\n",
              "          const docLink = document.createElement('div');\n",
              "          docLink.innerHTML = docLinkHtml;\n",
              "          element.appendChild(docLink);\n",
              "        }\n",
              "      </script>\n",
              "    </div>\n",
              "  </div>\n",
              "  "
            ]
          },
          "metadata": {},
          "execution_count": 19
        }
      ]
    },
    {
      "cell_type": "markdown",
      "source": [
        "9/10 feature risultano essere migliori rispetto alle precedenti. \n",
        "- Decidiamo di mantenere le nuove generate e cancellare quelle precedenti."
      ],
      "metadata": {
        "id": "9UbOIIX9_u8M"
      }
    },
    {
      "cell_type": "code",
      "source": [
        "to_drop = []\n",
        "for i in diffFeatures : \n",
        "    to_drop.append(\"blue\"+i)\n",
        "    to_drop.append(\"red\"+i)\n",
        "\n",
        "dataset = dataset.drop(to_drop, axis=1)"
      ],
      "metadata": {
        "id": "WJCcvZW34S2N"
      },
      "execution_count": 20,
      "outputs": []
    },
    {
      "cell_type": "code",
      "source": [
        "dataset.describe()"
      ],
      "metadata": {
        "colab": {
          "base_uri": "https://localhost:8080/",
          "height": 361
        },
        "id": "Nv2apAfao0EH",
        "outputId": "27e7faa4-ddc2-4f71-d3cc-4e5b871f93bd"
      },
      "execution_count": 21,
      "outputs": [
        {
          "output_type": "execute_result",
          "data": {
            "text/plain": [
              "          blueWins  blueFirstBlood    blueKills   blueDeaths  blueDragons  \\\n",
              "count  9879.000000     9879.000000  9879.000000  9879.000000  9879.000000   \n",
              "mean      0.499038        0.504808     6.183925     6.137666     0.361980   \n",
              "std       0.500024        0.500002     3.011028     2.933818     0.480597   \n",
              "min       0.000000        0.000000     0.000000     0.000000     0.000000   \n",
              "25%       0.000000        0.000000     4.000000     4.000000     0.000000   \n",
              "50%       0.000000        1.000000     6.000000     6.000000     0.000000   \n",
              "75%       1.000000        1.000000     8.000000     8.000000     1.000000   \n",
              "max       1.000000        1.000000    22.000000    22.000000     1.000000   \n",
              "\n",
              "       blueHeralds   redDragons   redHeralds  TotalGoldDiff  \\\n",
              "count  9879.000000  9879.000000  9879.000000    9879.000000   \n",
              "mean      0.187974     0.413098     0.160036      14.414111   \n",
              "std       0.390712     0.492415     0.366658    2453.349179   \n",
              "min       0.000000     0.000000     0.000000  -10830.000000   \n",
              "25%       0.000000     0.000000     0.000000   -1585.500000   \n",
              "50%       0.000000     0.000000     0.000000      14.000000   \n",
              "75%       0.000000     1.000000     0.000000    1596.000000   \n",
              "max       1.000000     1.000000     1.000000   11467.000000   \n",
              "\n",
              "       TotalExperienceDiff  AvgLevelDiff  AssistsDiff  TotalMinionsKilledDiff  \\\n",
              "count          9879.000000   9879.000000  9879.000000             9879.000000   \n",
              "mean            -33.620306     -0.009313    -0.017006               -0.649661   \n",
              "std            1920.370438      0.478434     5.766787               30.942675   \n",
              "min           -9333.000000     -2.600000   -25.000000             -120.000000   \n",
              "25%           -1290.500000     -0.400000    -4.000000              -21.000000   \n",
              "50%             -28.000000      0.000000     0.000000               -1.000000   \n",
              "75%            1212.000000      0.200000     4.000000               20.000000   \n",
              "max            8348.000000      2.400000    23.000000              127.000000   \n",
              "\n",
              "       TotalJungleMinionsKilledDiff  TowersDestroyedDiff  WardsDestroyedDiff  \\\n",
              "count                   9879.000000          9879.000000         9879.000000   \n",
              "mean                      -0.803421             0.008402            0.101731   \n",
              "std                       14.274733             0.324835            2.854910   \n",
              "min                      -72.000000            -2.000000          -23.000000   \n",
              "25%                      -10.000000             0.000000           -1.000000   \n",
              "50%                        0.000000             0.000000            0.000000   \n",
              "75%                        8.000000             0.000000            1.000000   \n",
              "max                       64.000000             4.000000           23.000000   \n",
              "\n",
              "       WardsPlacedDiff  \n",
              "count      9879.000000  \n",
              "mean         -0.079664  \n",
              "std          25.960582  \n",
              "min        -260.000000  \n",
              "25%          -4.000000  \n",
              "50%           0.000000  \n",
              "75%           4.000000  \n",
              "max         234.000000  "
            ],
            "text/html": [
              "\n",
              "  <div id=\"df-c128fa62-dc3a-4eb6-8800-40148670b23f\">\n",
              "    <div class=\"colab-df-container\">\n",
              "      <div>\n",
              "<style scoped>\n",
              "    .dataframe tbody tr th:only-of-type {\n",
              "        vertical-align: middle;\n",
              "    }\n",
              "\n",
              "    .dataframe tbody tr th {\n",
              "        vertical-align: top;\n",
              "    }\n",
              "\n",
              "    .dataframe thead th {\n",
              "        text-align: right;\n",
              "    }\n",
              "</style>\n",
              "<table border=\"1\" class=\"dataframe\">\n",
              "  <thead>\n",
              "    <tr style=\"text-align: right;\">\n",
              "      <th></th>\n",
              "      <th>blueWins</th>\n",
              "      <th>blueFirstBlood</th>\n",
              "      <th>blueKills</th>\n",
              "      <th>blueDeaths</th>\n",
              "      <th>blueDragons</th>\n",
              "      <th>blueHeralds</th>\n",
              "      <th>redDragons</th>\n",
              "      <th>redHeralds</th>\n",
              "      <th>TotalGoldDiff</th>\n",
              "      <th>TotalExperienceDiff</th>\n",
              "      <th>AvgLevelDiff</th>\n",
              "      <th>AssistsDiff</th>\n",
              "      <th>TotalMinionsKilledDiff</th>\n",
              "      <th>TotalJungleMinionsKilledDiff</th>\n",
              "      <th>TowersDestroyedDiff</th>\n",
              "      <th>WardsDestroyedDiff</th>\n",
              "      <th>WardsPlacedDiff</th>\n",
              "    </tr>\n",
              "  </thead>\n",
              "  <tbody>\n",
              "    <tr>\n",
              "      <th>count</th>\n",
              "      <td>9879.000000</td>\n",
              "      <td>9879.000000</td>\n",
              "      <td>9879.000000</td>\n",
              "      <td>9879.000000</td>\n",
              "      <td>9879.000000</td>\n",
              "      <td>9879.000000</td>\n",
              "      <td>9879.000000</td>\n",
              "      <td>9879.000000</td>\n",
              "      <td>9879.000000</td>\n",
              "      <td>9879.000000</td>\n",
              "      <td>9879.000000</td>\n",
              "      <td>9879.000000</td>\n",
              "      <td>9879.000000</td>\n",
              "      <td>9879.000000</td>\n",
              "      <td>9879.000000</td>\n",
              "      <td>9879.000000</td>\n",
              "      <td>9879.000000</td>\n",
              "    </tr>\n",
              "    <tr>\n",
              "      <th>mean</th>\n",
              "      <td>0.499038</td>\n",
              "      <td>0.504808</td>\n",
              "      <td>6.183925</td>\n",
              "      <td>6.137666</td>\n",
              "      <td>0.361980</td>\n",
              "      <td>0.187974</td>\n",
              "      <td>0.413098</td>\n",
              "      <td>0.160036</td>\n",
              "      <td>14.414111</td>\n",
              "      <td>-33.620306</td>\n",
              "      <td>-0.009313</td>\n",
              "      <td>-0.017006</td>\n",
              "      <td>-0.649661</td>\n",
              "      <td>-0.803421</td>\n",
              "      <td>0.008402</td>\n",
              "      <td>0.101731</td>\n",
              "      <td>-0.079664</td>\n",
              "    </tr>\n",
              "    <tr>\n",
              "      <th>std</th>\n",
              "      <td>0.500024</td>\n",
              "      <td>0.500002</td>\n",
              "      <td>3.011028</td>\n",
              "      <td>2.933818</td>\n",
              "      <td>0.480597</td>\n",
              "      <td>0.390712</td>\n",
              "      <td>0.492415</td>\n",
              "      <td>0.366658</td>\n",
              "      <td>2453.349179</td>\n",
              "      <td>1920.370438</td>\n",
              "      <td>0.478434</td>\n",
              "      <td>5.766787</td>\n",
              "      <td>30.942675</td>\n",
              "      <td>14.274733</td>\n",
              "      <td>0.324835</td>\n",
              "      <td>2.854910</td>\n",
              "      <td>25.960582</td>\n",
              "    </tr>\n",
              "    <tr>\n",
              "      <th>min</th>\n",
              "      <td>0.000000</td>\n",
              "      <td>0.000000</td>\n",
              "      <td>0.000000</td>\n",
              "      <td>0.000000</td>\n",
              "      <td>0.000000</td>\n",
              "      <td>0.000000</td>\n",
              "      <td>0.000000</td>\n",
              "      <td>0.000000</td>\n",
              "      <td>-10830.000000</td>\n",
              "      <td>-9333.000000</td>\n",
              "      <td>-2.600000</td>\n",
              "      <td>-25.000000</td>\n",
              "      <td>-120.000000</td>\n",
              "      <td>-72.000000</td>\n",
              "      <td>-2.000000</td>\n",
              "      <td>-23.000000</td>\n",
              "      <td>-260.000000</td>\n",
              "    </tr>\n",
              "    <tr>\n",
              "      <th>25%</th>\n",
              "      <td>0.000000</td>\n",
              "      <td>0.000000</td>\n",
              "      <td>4.000000</td>\n",
              "      <td>4.000000</td>\n",
              "      <td>0.000000</td>\n",
              "      <td>0.000000</td>\n",
              "      <td>0.000000</td>\n",
              "      <td>0.000000</td>\n",
              "      <td>-1585.500000</td>\n",
              "      <td>-1290.500000</td>\n",
              "      <td>-0.400000</td>\n",
              "      <td>-4.000000</td>\n",
              "      <td>-21.000000</td>\n",
              "      <td>-10.000000</td>\n",
              "      <td>0.000000</td>\n",
              "      <td>-1.000000</td>\n",
              "      <td>-4.000000</td>\n",
              "    </tr>\n",
              "    <tr>\n",
              "      <th>50%</th>\n",
              "      <td>0.000000</td>\n",
              "      <td>1.000000</td>\n",
              "      <td>6.000000</td>\n",
              "      <td>6.000000</td>\n",
              "      <td>0.000000</td>\n",
              "      <td>0.000000</td>\n",
              "      <td>0.000000</td>\n",
              "      <td>0.000000</td>\n",
              "      <td>14.000000</td>\n",
              "      <td>-28.000000</td>\n",
              "      <td>0.000000</td>\n",
              "      <td>0.000000</td>\n",
              "      <td>-1.000000</td>\n",
              "      <td>0.000000</td>\n",
              "      <td>0.000000</td>\n",
              "      <td>0.000000</td>\n",
              "      <td>0.000000</td>\n",
              "    </tr>\n",
              "    <tr>\n",
              "      <th>75%</th>\n",
              "      <td>1.000000</td>\n",
              "      <td>1.000000</td>\n",
              "      <td>8.000000</td>\n",
              "      <td>8.000000</td>\n",
              "      <td>1.000000</td>\n",
              "      <td>0.000000</td>\n",
              "      <td>1.000000</td>\n",
              "      <td>0.000000</td>\n",
              "      <td>1596.000000</td>\n",
              "      <td>1212.000000</td>\n",
              "      <td>0.200000</td>\n",
              "      <td>4.000000</td>\n",
              "      <td>20.000000</td>\n",
              "      <td>8.000000</td>\n",
              "      <td>0.000000</td>\n",
              "      <td>1.000000</td>\n",
              "      <td>4.000000</td>\n",
              "    </tr>\n",
              "    <tr>\n",
              "      <th>max</th>\n",
              "      <td>1.000000</td>\n",
              "      <td>1.000000</td>\n",
              "      <td>22.000000</td>\n",
              "      <td>22.000000</td>\n",
              "      <td>1.000000</td>\n",
              "      <td>1.000000</td>\n",
              "      <td>1.000000</td>\n",
              "      <td>1.000000</td>\n",
              "      <td>11467.000000</td>\n",
              "      <td>8348.000000</td>\n",
              "      <td>2.400000</td>\n",
              "      <td>23.000000</td>\n",
              "      <td>127.000000</td>\n",
              "      <td>64.000000</td>\n",
              "      <td>4.000000</td>\n",
              "      <td>23.000000</td>\n",
              "      <td>234.000000</td>\n",
              "    </tr>\n",
              "  </tbody>\n",
              "</table>\n",
              "</div>\n",
              "      <button class=\"colab-df-convert\" onclick=\"convertToInteractive('df-c128fa62-dc3a-4eb6-8800-40148670b23f')\"\n",
              "              title=\"Convert this dataframe to an interactive table.\"\n",
              "              style=\"display:none;\">\n",
              "        \n",
              "  <svg xmlns=\"http://www.w3.org/2000/svg\" height=\"24px\"viewBox=\"0 0 24 24\"\n",
              "       width=\"24px\">\n",
              "    <path d=\"M0 0h24v24H0V0z\" fill=\"none\"/>\n",
              "    <path d=\"M18.56 5.44l.94 2.06.94-2.06 2.06-.94-2.06-.94-.94-2.06-.94 2.06-2.06.94zm-11 1L8.5 8.5l.94-2.06 2.06-.94-2.06-.94L8.5 2.5l-.94 2.06-2.06.94zm10 10l.94 2.06.94-2.06 2.06-.94-2.06-.94-.94-2.06-.94 2.06-2.06.94z\"/><path d=\"M17.41 7.96l-1.37-1.37c-.4-.4-.92-.59-1.43-.59-.52 0-1.04.2-1.43.59L10.3 9.45l-7.72 7.72c-.78.78-.78 2.05 0 2.83L4 21.41c.39.39.9.59 1.41.59.51 0 1.02-.2 1.41-.59l7.78-7.78 2.81-2.81c.8-.78.8-2.07 0-2.86zM5.41 20L4 18.59l7.72-7.72 1.47 1.35L5.41 20z\"/>\n",
              "  </svg>\n",
              "      </button>\n",
              "      \n",
              "  <style>\n",
              "    .colab-df-container {\n",
              "      display:flex;\n",
              "      flex-wrap:wrap;\n",
              "      gap: 12px;\n",
              "    }\n",
              "\n",
              "    .colab-df-convert {\n",
              "      background-color: #E8F0FE;\n",
              "      border: none;\n",
              "      border-radius: 50%;\n",
              "      cursor: pointer;\n",
              "      display: none;\n",
              "      fill: #1967D2;\n",
              "      height: 32px;\n",
              "      padding: 0 0 0 0;\n",
              "      width: 32px;\n",
              "    }\n",
              "\n",
              "    .colab-df-convert:hover {\n",
              "      background-color: #E2EBFA;\n",
              "      box-shadow: 0px 1px 2px rgba(60, 64, 67, 0.3), 0px 1px 3px 1px rgba(60, 64, 67, 0.15);\n",
              "      fill: #174EA6;\n",
              "    }\n",
              "\n",
              "    [theme=dark] .colab-df-convert {\n",
              "      background-color: #3B4455;\n",
              "      fill: #D2E3FC;\n",
              "    }\n",
              "\n",
              "    [theme=dark] .colab-df-convert:hover {\n",
              "      background-color: #434B5C;\n",
              "      box-shadow: 0px 1px 3px 1px rgba(0, 0, 0, 0.15);\n",
              "      filter: drop-shadow(0px 1px 2px rgba(0, 0, 0, 0.3));\n",
              "      fill: #FFFFFF;\n",
              "    }\n",
              "  </style>\n",
              "\n",
              "      <script>\n",
              "        const buttonEl =\n",
              "          document.querySelector('#df-c128fa62-dc3a-4eb6-8800-40148670b23f button.colab-df-convert');\n",
              "        buttonEl.style.display =\n",
              "          google.colab.kernel.accessAllowed ? 'block' : 'none';\n",
              "\n",
              "        async function convertToInteractive(key) {\n",
              "          const element = document.querySelector('#df-c128fa62-dc3a-4eb6-8800-40148670b23f');\n",
              "          const dataTable =\n",
              "            await google.colab.kernel.invokeFunction('convertToInteractive',\n",
              "                                                     [key], {});\n",
              "          if (!dataTable) return;\n",
              "\n",
              "          const docLinkHtml = 'Like what you see? Visit the ' +\n",
              "            '<a target=\"_blank\" href=https://colab.research.google.com/notebooks/data_table.ipynb>data table notebook</a>'\n",
              "            + ' to learn more about interactive tables.';\n",
              "          element.innerHTML = '';\n",
              "          dataTable['output_type'] = 'display_data';\n",
              "          await google.colab.output.renderOutput(dataTable, element);\n",
              "          const docLink = document.createElement('div');\n",
              "          docLink.innerHTML = docLinkHtml;\n",
              "          element.appendChild(docLink);\n",
              "        }\n",
              "      </script>\n",
              "    </div>\n",
              "  </div>\n",
              "  "
            ]
          },
          "metadata": {},
          "execution_count": 21
        }
      ]
    },
    {
      "cell_type": "markdown",
      "source": [
        "- Andiamo ora a mostrare tutte le correlazioni tra le nuove variabili"
      ],
      "metadata": {
        "id": "rRJB1Gcem2PL"
      }
    },
    {
      "cell_type": "code",
      "source": [
        "import seaborn as sns\n",
        "\n",
        "plt.figure(figsize=(17, 12))\n",
        "sns.heatmap(dataset.drop('blueWins', axis=1).corr().abs(), annot=True, fmt='.2f', vmin=0);"
      ],
      "metadata": {
        "colab": {
          "base_uri": "https://localhost:8080/",
          "height": 832
        },
        "id": "BxXVzRGswZJP",
        "outputId": "4d40bd58-adde-4a16-90e0-5f56c8a9d259"
      },
      "execution_count": 22,
      "outputs": [
        {
          "output_type": "display_data",
          "data": {
            "text/plain": [
              "<Figure size 1224x864 with 2 Axes>"
            ],
            "image/png": "[encoded data removed]"
          },
          "metadata": {
            "needs_background": "light"
          }
        }
      ]
    },
    {
      "cell_type": "markdown",
      "source": [
        "Andiamo ora a visualizzare le variabili di tipo numerico e la loro distribuzione, con l'obbiettivo di indivudare possibili **outliners**. Nel nostro caso possono essere partite che non vengono giocate al massimo delle proprie possibilità dai giocatori, come vederemo in seguito."
      ],
      "metadata": {
        "id": "HiANRWYjvrLl"
      }
    },
    {
      "cell_type": "code",
      "source": [
        "binary_cols = [cname for cname in dataset.drop(\"blueWins\", axis=1).columns if dataset[cname].nunique() == 2]\n",
        "\n",
        "numerical_cols = [cname for cname in dataset.columns if dataset[cname].nunique() > 2]"
      ],
      "metadata": {
        "id": "VaWBm__WjrSD"
      },
      "execution_count": 23,
      "outputs": []
    },
    {
      "cell_type": "code",
      "source": [
        "plt.figure(figsize=(20, 40))\n",
        "to_plot = dataset.drop(binary_cols + [\"blueWins\", \"TowersDestroyedDiff\", \"WardsDestroyedDiff\", \"WardsPlacedDiff\", \"blueKills\", \"blueDeaths\"], axis=1)\n",
        "\n",
        "for i, c in enumerate(to_plot):\n",
        "  plt.subplot(6, 2, i+1)\n",
        "  plt.title(c)\n",
        "  plt.hist(dataset[c], bins=20)"
      ],
      "metadata": {
        "colab": {
          "base_uri": "https://localhost:8080/",
          "height": 1000
        },
        "id": "Gh1Yvyk1jDWx",
        "outputId": "975aa412-828a-4cda-95e9-2b4a6608a6c3"
      },
      "execution_count": 24,
      "outputs": [
        {
          "output_type": "display_data",
          "data": {
            "text/plain": [
              "<Figure size 1440x2880 with 6 Axes>"
            ],
            "image/png": "[encoded data removed]"
          },
          "metadata": {
            "needs_background": "light"
          }
        }
      ]
    },
    {
      "cell_type": "markdown",
      "source": [
        "Passiamo ad analizzare più nel dettaglio le feature più rilevanti ed a seguito cerchiamo di identificare gli **outsiders**"
      ],
      "metadata": {
        "id": "SKTH-sTDg-6z"
      }
    },
    {
      "cell_type": "code",
      "source": [
        "fig, axes = plt.subplots(nrows=1, ncols=2, figsize=(20, 10))\n",
        "axes[0].boxplot(dataset[\"blueKills\"], showmeans=True)\n",
        "axes[1].hist(dataset[\"blueKills\"], bins=5)"
      ],
      "metadata": {
        "colab": {
          "base_uri": "https://localhost:8080/",
          "height": 643
        },
        "id": "8KCxitKGlqAZ",
        "outputId": "40dad959-b114-43c4-c5c0-f7efafbe42ee"
      },
      "execution_count": 25,
      "outputs": [
        {
          "output_type": "execute_result",
          "data": {
            "text/plain": [
              "(array([3088., 4704., 1935.,  145.,    7.]),\n",
              " array([ 0. ,  4.4,  8.8, 13.2, 17.6, 22. ]),\n",
              " <a list of 5 Patch objects>)"
            ]
          },
          "metadata": {},
          "execution_count": 25
        },
        {
          "output_type": "display_data",
          "data": {
            "text/plain": [
              "<Figure size 1440x720 with 2 Axes>"
            ],
            "image/png": "[encoded data removed]"
          },
          "metadata": {
            "needs_background": "light"
          }
        }
      ]
    },
    {
      "cell_type": "code",
      "source": [
        "fig, axes = plt.subplots(nrows=1, ncols=2, figsize=(20, 10))\n",
        "axes[0].boxplot(dataset[\"WardsPlacedDiff\"], showmeans=True)\n",
        "axes[1].hist(dataset[\"WardsPlacedDiff\"], bins=5)"
      ],
      "metadata": {
        "colab": {
          "base_uri": "https://localhost:8080/",
          "height": 643
        },
        "id": "Cx9_DgCrnDV4",
        "outputId": "e982ee24-772f-42a6-db42-c88b1d5851b3"
      },
      "execution_count": 26,
      "outputs": [
        {
          "output_type": "execute_result",
          "data": {
            "text/plain": [
              "(array([  11.,  202., 9195.,  453.,   18.]),\n",
              " array([-260. , -161.2,  -62.4,   36.4,  135.2,  234. ]),\n",
              " <a list of 5 Patch objects>)"
            ]
          },
          "metadata": {},
          "execution_count": 26
        },
        {
          "output_type": "display_data",
          "data": {
            "text/plain": [
              "<Figure size 1440x720 with 2 Axes>"
            ],
            "image/png": "[encoded data removed]"
          },
          "metadata": {
            "needs_background": "light"
          }
        }
      ]
    },
    {
      "cell_type": "code",
      "source": [
        "fig, axes = plt.subplots(nrows=1, ncols=2, figsize=(20, 10))\n",
        "axes[0].boxplot(dataset[\"TowersDestroyedDiff\"], showmeans=True)\n",
        "axes[1].hist(dataset[\"TowersDestroyedDiff\"], bins=5)"
      ],
      "metadata": {
        "colab": {
          "base_uri": "https://localhost:8080/",
          "height": 643
        },
        "id": "zFvzfHnMybHm",
        "outputId": "d18c9b84-b02f-4291-8ca7-4beb6b16776f"
      },
      "execution_count": 27,
      "outputs": [
        {
          "output_type": "execute_result",
          "data": {
            "text/plain": [
              "(array([3.740e+02, 9.064e+03, 4.060e+02, 2.800e+01, 7.000e+00]),\n",
              " array([-2. , -0.8,  0.4,  1.6,  2.8,  4. ]),\n",
              " <a list of 5 Patch objects>)"
            ]
          },
          "metadata": {},
          "execution_count": 27
        },
        {
          "output_type": "display_data",
          "data": {
            "text/plain": [
              "<Figure size 1440x720 with 2 Axes>"
            ],
            "image/png": "[encoded data removed]"
          },
          "metadata": {
            "needs_background": "light"
          }
        }
      ]
    },
    {
      "cell_type": "markdown",
      "source": [
        "Come notiamo dai grafici, ci sono partite con alcuni **outliners**, anche molto rilevanti. Andiamo ad analizzarli ed in caso eliminiamone una parte."
      ],
      "metadata": {
        "id": "5ClER226w5It"
      }
    },
    {
      "cell_type": "code",
      "source": [
        "dataset.pivot(columns=\"blueWins\")[\"WardsPlacedDiff\"].plot.hist(bins=100, stacked=True, figsize=(12, 6), ylim=(0,200))"
      ],
      "metadata": {
        "colab": {
          "base_uri": "https://localhost:8080/",
          "height": 395
        },
        "id": "OR5D2xgqs8Te",
        "outputId": "033902a9-4b3c-4ee3-a44f-ce9683f83090"
      },
      "execution_count": 28,
      "outputs": [
        {
          "output_type": "execute_result",
          "data": {
            "text/plain": [
              "<matplotlib.axes._subplots.AxesSubplot at 0x7f50dab64df0>"
            ]
          },
          "metadata": {},
          "execution_count": 28
        },
        {
          "output_type": "display_data",
          "data": {
            "text/plain": [
              "<Figure size 864x432 with 1 Axes>"
            ],
            "image/png": "[encoded data removed]"
          },
          "metadata": {
            "needs_background": "light"
          }
        }
      ]
    },
    {
      "cell_type": "markdown",
      "source": [
        "Possiamo notare come ci siano partite con più di 100 Wards di differenza tra le due squadre. A soli 10 minuti di gioco è una differenza molto alta e sicuramente non nello standard. Questo fattore è dovuto a partite in cui i giocatori smettono di giocare e posizionano Ward senza un motivo, in quanto non è possibile arrendersi prima dei 15 minuti di gioco."
      ],
      "metadata": {
        "id": "5f3bMtxYyG66"
      }
    },
    {
      "cell_type": "code",
      "source": [
        "dataset_1 = dataset.copy()\n",
        "dataset = dataset.loc[dataset['WardsPlacedDiff'].abs() <= 100]\n",
        "\n",
        "print(\"We've removed {} outliers\".format(dataset_1.shape[0] - dataset.shape[0]))"
      ],
      "metadata": {
        "colab": {
          "base_uri": "https://localhost:8080/"
        },
        "id": "uLCyAfMW1AjF",
        "outputId": "c13f9f62-366e-4583-fffd-aebe4e22747f"
      },
      "execution_count": 30,
      "outputs": [
        {
          "output_type": "stream",
          "name": "stdout",
          "text": [
            "We've removed 135 outliers\n"
          ]
        }
      ]
    },
    {
      "cell_type": "code",
      "source": [
        "dataset.pivot(columns=\"blueWins\")[\"WardsDestroyedDiff\"].plot.hist(bins=10, stacked=True, figsize=(12, 6), ylim=(0,200))"
      ],
      "metadata": {
        "colab": {
          "base_uri": "https://localhost:8080/",
          "height": 395
        },
        "id": "0qL1ZNmCiPJY",
        "outputId": "14303379-4c99-4fd7-fb0d-e98a42775871"
      },
      "execution_count": 31,
      "outputs": [
        {
          "output_type": "execute_result",
          "data": {
            "text/plain": [
              "<matplotlib.axes._subplots.AxesSubplot at 0x7f50dd9a7100>"
            ]
          },
          "metadata": {},
          "execution_count": 31
        },
        {
          "output_type": "display_data",
          "data": {
            "text/plain": [
              "<Figure size 864x432 with 1 Axes>"
            ],
            "image/png": "[encoded data removed]"
          },
          "metadata": {
            "needs_background": "light"
          }
        }
      ]
    },
    {
      "cell_type": "markdown",
      "source": [
        "Risulta difficle applicare lo stesso criterio su `WardsDestroyedDiff` in quanto le ward posizionate possono essere ignorate dai giocatori e non venire distrutte."
      ],
      "metadata": {
        "id": "6IFdw9IG2qj7"
      }
    },
    {
      "cell_type": "code",
      "source": [
        "dataset.pivot(columns=\"blueWins\")[\"blueDeaths\"].plot.hist(bins=10, stacked=True, figsize=(12, 6), ylim=(0,300))"
      ],
      "metadata": {
        "colab": {
          "base_uri": "https://localhost:8080/",
          "height": 395
        },
        "id": "rn9w0IQUu_yK",
        "outputId": "4ddb9cd5-837e-4320-cf60-f6e6c66538a6"
      },
      "execution_count": 32,
      "outputs": [
        {
          "output_type": "execute_result",
          "data": {
            "text/plain": [
              "<matplotlib.axes._subplots.AxesSubplot at 0x7f50dd9cb880>"
            ]
          },
          "metadata": {},
          "execution_count": 32
        },
        {
          "output_type": "display_data",
          "data": {
            "text/plain": [
              "<Figure size 864x432 with 1 Axes>"
            ],
            "image/png": "[encoded data removed]"
          },
          "metadata": {
            "needs_background": "light"
          }
        }
      ]
    },
    {
      "cell_type": "markdown",
      "source": [
        "Notiamo come in alcune partite i morti totali di una squadra salgano anche al disopra delle 20 uccisioni. Arrivare a 20 uccisioni nei primi minuti non risulta impossibile, specialmente data la natura del gioco molto caotica.   \n",
        "Risulta quindi difficile definire quando una partita è effettivamente al di fuori dello standard del gioco."
      ],
      "metadata": {
        "id": "vHQrlVfr3DGk"
      }
    },
    {
      "cell_type": "code",
      "source": [
        "dataset['blueDeaths'].loc[dataset['blueDeaths'] >= 20]"
      ],
      "metadata": {
        "colab": {
          "base_uri": "https://localhost:8080/"
        },
        "id": "JZmvG03j4GBr",
        "outputId": "6be9dba9-0a93-4366-d950-6fa4d868647f"
      },
      "execution_count": 33,
      "outputs": [
        {
          "output_type": "execute_result",
          "data": {
            "text/plain": [
              "7062    22\n",
              "Name: blueDeaths, dtype: int64"
            ]
          },
          "metadata": {},
          "execution_count": 33
        }
      ]
    },
    {
      "cell_type": "markdown",
      "source": [
        "- Visto la natura del gioco e il basso numero di partite al di sopra delle 20 uccisioni, decidiamo di mantenere queste entry.   \n",
        "Stesso concetto viene applicato per `blueKills`"
      ],
      "metadata": {
        "id": "kmp1Og1B4JWB"
      }
    },
    {
      "cell_type": "code",
      "source": [
        "dataset['blueKills'].loc[dataset['blueKills'] >= 20]"
      ],
      "metadata": {
        "colab": {
          "base_uri": "https://localhost:8080/"
        },
        "id": "jKnvp5WMoE-j",
        "outputId": "616ffa1d-3ff1-4bb0-a968-6cc0bd222cbd"
      },
      "execution_count": 34,
      "outputs": [
        {
          "output_type": "execute_result",
          "data": {
            "text/plain": [
              "9789    22\n",
              "Name: blueKills, dtype: int64"
            ]
          },
          "metadata": {},
          "execution_count": 34
        }
      ]
    },
    {
      "cell_type": "code",
      "source": [
        "dataset.pivot(columns=\"blueWins\")[\"TowersDestroyedDiff\"].plot.hist(bins=7, stacked=True, figsize=(12, 6), ylim=(0,300))"
      ],
      "metadata": {
        "colab": {
          "base_uri": "https://localhost:8080/",
          "height": 395
        },
        "id": "7mfsG3J3kI94",
        "outputId": "4400abc0-7e7b-40e5-e57b-1efa5dcfcf52"
      },
      "execution_count": 35,
      "outputs": [
        {
          "output_type": "execute_result",
          "data": {
            "text/plain": [
              "<matplotlib.axes._subplots.AxesSubplot at 0x7f50dab8ecd0>"
            ]
          },
          "metadata": {},
          "execution_count": 35
        },
        {
          "output_type": "display_data",
          "data": {
            "text/plain": [
              "<Figure size 864x432 with 1 Axes>"
            ],
            "image/png": "[encoded data removed]"
          },
          "metadata": {
            "needs_background": "light"
          }
        }
      ]
    },
    {
      "cell_type": "markdown",
      "source": [
        "Pensare di riuscire a distruggere più di 2 torri nei primi 10 minuti risulta molto difficile quando la partita rientra nello standard. Considerando anche che la media delle torri distrutte risulta 0.\n",
        "\n",
        "- Decidiamo di eliminare tutte le partite con più di due torri distrutte"
      ],
      "metadata": {
        "id": "xDsG2sl5kaEA"
      }
    },
    {
      "cell_type": "code",
      "source": [
        "dataset_1 = dataset.copy()\n",
        "dataset = dataset.loc[dataset['TowersDestroyedDiff'].abs() <= 2]\n",
        "\n",
        "print(\"We've removed {} outliers\".format(dataset_1.shape[0] - dataset.shape[0]))"
      ],
      "metadata": {
        "colab": {
          "base_uri": "https://localhost:8080/"
        },
        "id": "haLkyEg3d54n",
        "outputId": "77e9a916-fa8a-4502-c126-6528b832f48c"
      },
      "execution_count": 36,
      "outputs": [
        {
          "output_type": "stream",
          "name": "stdout",
          "text": [
            "We've removed 6 outliers\n"
          ]
        }
      ]
    },
    {
      "cell_type": "markdown",
      "source": [
        "## Standardizazione e feature rilevanti"
      ],
      "metadata": {
        "id": "7FMO0jVlN9G0"
      }
    },
    {
      "cell_type": "code",
      "source": [
        "from sklearn.model_selection import train_test_split\n",
        "from sklearn.linear_model import Perceptron\n",
        "from sklearn.pipeline import Pipeline\n",
        "from sklearn.preprocessing import StandardScaler"
      ],
      "metadata": {
        "id": "HLcStl4ZV2r1"
      },
      "execution_count": 37,
      "outputs": []
    },
    {
      "cell_type": "code",
      "source": [
        "X = dataset.drop(\"blueWins\", axis=1)\n",
        "y = dataset[\"blueWins\"]"
      ],
      "metadata": {
        "id": "SwORCMWkLh9V"
      },
      "execution_count": 38,
      "outputs": []
    },
    {
      "cell_type": "code",
      "source": [
        "def get_coefficients(model, index, model_name=\"model\"):\n",
        "    return pd.Series(model.named_steps[model_name].coef_[0], index=index)\n",
        "    \n",
        "def fit_and_eval(model, X_train, y_train, X_val, y_val):\n",
        "    model.fit(X_train, y_train)\n",
        "    print(\"R-squared coefficient: {:.5}\".format(model.score(X_val, y_val)))"
      ],
      "metadata": {
        "id": "avI-TZY4Vw_6"
      },
      "execution_count": 39,
      "outputs": []
    },
    {
      "cell_type": "markdown",
      "source": [
        "Suddividiamo i dati in Training e Validation set per effettuare dei test su un semplice algoritmo Perceptron."
      ],
      "metadata": {
        "id": "gSxzpAeornE3"
      }
    },
    {
      "cell_type": "code",
      "source": [
        "X_train, X_val, y_train, y_val = train_test_split(X, y.values.ravel(), test_size=0.3, random_state=43, stratify=y.values)"
      ],
      "metadata": {
        "id": "WF_ou9pL60S6"
      },
      "execution_count": 40,
      "outputs": []
    },
    {
      "cell_type": "code",
      "source": [
        "model = Pipeline([\n",
        "    (\"model\",  Perceptron(n_jobs=-1, random_state=42))\n",
        "])\n",
        "fit_and_eval(model, X_train, y_train, X_val, y_val)"
      ],
      "metadata": {
        "colab": {
          "base_uri": "https://localhost:8080/"
        },
        "id": "u4UcGB1T7kFt",
        "outputId": "68e9afe6-ff26-4d84-dfce-75ed93889c23"
      },
      "execution_count": 41,
      "outputs": [
        {
          "output_type": "stream",
          "name": "stdout",
          "text": [
            "R-squared coefficient: 0.74914\n"
          ]
        }
      ]
    },
    {
      "cell_type": "markdown",
      "source": [
        "Andiamo a visualizzare quelle che risultano essere le feature più rilvenati per il modello attraverso i loro coefficenti"
      ],
      "metadata": {
        "id": "TaH8YuCzr1Jc"
      }
    },
    {
      "cell_type": "code",
      "source": [
        "get_coefficients(model, X_train.columns)"
      ],
      "metadata": {
        "colab": {
          "base_uri": "https://localhost:8080/"
        },
        "id": "s4wjUByhWSyg",
        "outputId": "bc9f1025-9a2c-47f0-e927-28a1bf6ffe87"
      },
      "execution_count": 42,
      "outputs": [
        {
          "output_type": "execute_result",
          "data": {
            "text/plain": [
              "blueFirstBlood                   422.0\n",
              "blueKills                       -674.0\n",
              "blueDeaths                      -847.0\n",
              "blueDragons                     1967.0\n",
              "blueHeralds                       -4.0\n",
              "redDragons                     -1670.0\n",
              "redHeralds                        97.0\n",
              "TotalGoldDiff                   8452.0\n",
              "TotalExperienceDiff             7244.0\n",
              "AvgLevelDiff                      28.4\n",
              "AssistsDiff                    -2502.0\n",
              "TotalMinionsKilledDiff         -4813.0\n",
              "TotalJungleMinionsKilledDiff    6637.0\n",
              "TowersDestroyedDiff              -27.0\n",
              "WardsDestroyedDiff             -1014.0\n",
              "WardsPlacedDiff                  317.0\n",
              "dtype: float64"
            ]
          },
          "metadata": {},
          "execution_count": 42
        }
      ]
    },
    {
      "cell_type": "markdown",
      "source": [
        "Come potevamo aspettarci le feature più rilevanti risultano essere `TotalGoldDiff` e `TotalExperienceDiff`.\n",
        "\n",
        "- Andiamo a **standardizzare** i valori delle varaibili numeriche per vedere se il modello migliora "
      ],
      "metadata": {
        "id": "4vo9rh6rsBgP"
      }
    },
    {
      "cell_type": "code",
      "source": [
        "scaler = StandardScaler()\n",
        "scaler.fit(X_train[numerical_cols])\n",
        "X_train_test = X_train.copy()\n",
        "X_val_test = X_val.copy()\n",
        "\n",
        "X_train_test[numerical_cols] = scaler.transform(X_train_test[numerical_cols])\n",
        "X_val_test[numerical_cols] = scaler.transform(X_val_test[numerical_cols])\n",
        "\n",
        "my_cols = binary_cols + numerical_cols\n",
        "X_train_test = X_train_test[my_cols].copy()\n",
        "X_val_test = X_val_test[my_cols].copy()"
      ],
      "metadata": {
        "id": "TMEVLuyaWgL2"
      },
      "execution_count": 43,
      "outputs": []
    },
    {
      "cell_type": "code",
      "source": [
        "X_train_test.head()"
      ],
      "metadata": {
        "id": "TRgm050f_51m",
        "colab": {
          "base_uri": "https://localhost:8080/",
          "height": 268
        },
        "outputId": "fec593c1-ca19-4e82-8762-42316fc695eb"
      },
      "execution_count": 44,
      "outputs": [
        {
          "output_type": "execute_result",
          "data": {
            "text/plain": [
              "      blueFirstBlood  blueDragons  blueHeralds  redDragons  redHeralds  \\\n",
              "4228               1            0            0           0           0   \n",
              "8920               0            0            0           1           0   \n",
              "8905               0            0            0           1           0   \n",
              "7228               1            1            0           0           1   \n",
              "9736               0            0            0           1           0   \n",
              "\n",
              "      blueKills  blueDeaths  TotalGoldDiff  TotalExperienceDiff  AvgLevelDiff  \\\n",
              "4228   0.276097   -0.030953       0.584109            -0.120703      0.018707   \n",
              "8920   0.276097   -1.385517       0.830237             0.606793      0.865950   \n",
              "8905  -0.386186    0.307689      -0.691244            -0.705336     -0.404914   \n",
              "7228   0.276097    0.646330      -0.920554            -0.059552      0.442329   \n",
              "9736  -1.379612   -0.369594      -0.671144            -0.012106     -0.404914   \n",
              "\n",
              "      AssistsDiff  TotalMinionsKilledDiff  TotalJungleMinionsKilledDiff  \\\n",
              "4228     0.855357                1.296293                     -0.026716   \n",
              "8920     1.199540               -0.667748                     -0.798902   \n",
              "8905     0.166991               -0.765950                     -1.290293   \n",
              "7228    -1.209740                0.838017                     -0.939299   \n",
              "9736    -0.865557               -1.191492                      2.009046   \n",
              "\n",
              "      TowersDestroyedDiff  WardsDestroyedDiff  WardsPlacedDiff  \n",
              "4228            -0.022671           -0.034752        -0.088637  \n",
              "8920            -0.022671           -0.385155         0.153391  \n",
              "8905            -0.022671           -0.385155         0.250202  \n",
              "7228            -6.461301           -0.034752        -0.040231  \n",
              "9736            -0.022671           -0.385155        -0.040231  "
            ],
            "text/html": [
              "\n",
              "  <div id=\"df-a48d85a0-ca39-44a0-8d60-606dee71bc9e\">\n",
              "    <div class=\"colab-df-container\">\n",
              "      <div>\n",
              "<style scoped>\n",
              "    .dataframe tbody tr th:only-of-type {\n",
              "        vertical-align: middle;\n",
              "    }\n",
              "\n",
              "    .dataframe tbody tr th {\n",
              "        vertical-align: top;\n",
              "    }\n",
              "\n",
              "    .dataframe thead th {\n",
              "        text-align: right;\n",
              "    }\n",
              "</style>\n",
              "<table border=\"1\" class=\"dataframe\">\n",
              "  <thead>\n",
              "    <tr style=\"text-align: right;\">\n",
              "      <th></th>\n",
              "      <th>blueFirstBlood</th>\n",
              "      <th>blueDragons</th>\n",
              "      <th>blueHeralds</th>\n",
              "      <th>redDragons</th>\n",
              "      <th>redHeralds</th>\n",
              "      <th>blueKills</th>\n",
              "      <th>blueDeaths</th>\n",
              "      <th>TotalGoldDiff</th>\n",
              "      <th>TotalExperienceDiff</th>\n",
              "      <th>AvgLevelDiff</th>\n",
              "      <th>AssistsDiff</th>\n",
              "      <th>TotalMinionsKilledDiff</th>\n",
              "      <th>TotalJungleMinionsKilledDiff</th>\n",
              "      <th>TowersDestroyedDiff</th>\n",
              "      <th>WardsDestroyedDiff</th>\n",
              "      <th>WardsPlacedDiff</th>\n",
              "    </tr>\n",
              "  </thead>\n",
              "  <tbody>\n",
              "    <tr>\n",
              "      <th>4228</th>\n",
              "      <td>1</td>\n",
              "      <td>0</td>\n",
              "      <td>0</td>\n",
              "      <td>0</td>\n",
              "      <td>0</td>\n",
              "      <td>0.276097</td>\n",
              "      <td>-0.030953</td>\n",
              "      <td>0.584109</td>\n",
              "      <td>-0.120703</td>\n",
              "      <td>0.018707</td>\n",
              "      <td>0.855357</td>\n",
              "      <td>1.296293</td>\n",
              "      <td>-0.026716</td>\n",
              "      <td>-0.022671</td>\n",
              "      <td>-0.034752</td>\n",
              "      <td>-0.088637</td>\n",
              "    </tr>\n",
              "    <tr>\n",
              "      <th>8920</th>\n",
              "      <td>0</td>\n",
              "      <td>0</td>\n",
              "      <td>0</td>\n",
              "      <td>1</td>\n",
              "      <td>0</td>\n",
              "      <td>0.276097</td>\n",
              "      <td>-1.385517</td>\n",
              "      <td>0.830237</td>\n",
              "      <td>0.606793</td>\n",
              "      <td>0.865950</td>\n",
              "      <td>1.199540</td>\n",
              "      <td>-0.667748</td>\n",
              "      <td>-0.798902</td>\n",
              "      <td>-0.022671</td>\n",
              "      <td>-0.385155</td>\n",
              "      <td>0.153391</td>\n",
              "    </tr>\n",
              "    <tr>\n",
              "      <th>8905</th>\n",
              "      <td>0</td>\n",
              "      <td>0</td>\n",
              "      <td>0</td>\n",
              "      <td>1</td>\n",
              "      <td>0</td>\n",
              "      <td>-0.386186</td>\n",
              "      <td>0.307689</td>\n",
              "      <td>-0.691244</td>\n",
              "      <td>-0.705336</td>\n",
              "      <td>-0.404914</td>\n",
              "      <td>0.166991</td>\n",
              "      <td>-0.765950</td>\n",
              "      <td>-1.290293</td>\n",
              "      <td>-0.022671</td>\n",
              "      <td>-0.385155</td>\n",
              "      <td>0.250202</td>\n",
              "    </tr>\n",
              "    <tr>\n",
              "      <th>7228</th>\n",
              "      <td>1</td>\n",
              "      <td>1</td>\n",
              "      <td>0</td>\n",
              "      <td>0</td>\n",
              "      <td>1</td>\n",
              "      <td>0.276097</td>\n",
              "      <td>0.646330</td>\n",
              "      <td>-0.920554</td>\n",
              "      <td>-0.059552</td>\n",
              "      <td>0.442329</td>\n",
              "      <td>-1.209740</td>\n",
              "      <td>0.838017</td>\n",
              "      <td>-0.939299</td>\n",
              "      <td>-6.461301</td>\n",
              "      <td>-0.034752</td>\n",
              "      <td>-0.040231</td>\n",
              "    </tr>\n",
              "    <tr>\n",
              "      <th>9736</th>\n",
              "      <td>0</td>\n",
              "      <td>0</td>\n",
              "      <td>0</td>\n",
              "      <td>1</td>\n",
              "      <td>0</td>\n",
              "      <td>-1.379612</td>\n",
              "      <td>-0.369594</td>\n",
              "      <td>-0.671144</td>\n",
              "      <td>-0.012106</td>\n",
              "      <td>-0.404914</td>\n",
              "      <td>-0.865557</td>\n",
              "      <td>-1.191492</td>\n",
              "      <td>2.009046</td>\n",
              "      <td>-0.022671</td>\n",
              "      <td>-0.385155</td>\n",
              "      <td>-0.040231</td>\n",
              "    </tr>\n",
              "  </tbody>\n",
              "</table>\n",
              "</div>\n",
              "      <button class=\"colab-df-convert\" onclick=\"convertToInteractive('df-a48d85a0-ca39-44a0-8d60-606dee71bc9e')\"\n",
              "              title=\"Convert this dataframe to an interactive table.\"\n",
              "              style=\"display:none;\">\n",
              "        \n",
              "  <svg xmlns=\"http://www.w3.org/2000/svg\" height=\"24px\"viewBox=\"0 0 24 24\"\n",
              "       width=\"24px\">\n",
              "    <path d=\"M0 0h24v24H0V0z\" fill=\"none\"/>\n",
              "    <path d=\"M18.56 5.44l.94 2.06.94-2.06 2.06-.94-2.06-.94-.94-2.06-.94 2.06-2.06.94zm-11 1L8.5 8.5l.94-2.06 2.06-.94-2.06-.94L8.5 2.5l-.94 2.06-2.06.94zm10 10l.94 2.06.94-2.06 2.06-.94-2.06-.94-.94-2.06-.94 2.06-2.06.94z\"/><path d=\"M17.41 7.96l-1.37-1.37c-.4-.4-.92-.59-1.43-.59-.52 0-1.04.2-1.43.59L10.3 9.45l-7.72 7.72c-.78.78-.78 2.05 0 2.83L4 21.41c.39.39.9.59 1.41.59.51 0 1.02-.2 1.41-.59l7.78-7.78 2.81-2.81c.8-.78.8-2.07 0-2.86zM5.41 20L4 18.59l7.72-7.72 1.47 1.35L5.41 20z\"/>\n",
              "  </svg>\n",
              "      </button>\n",
              "      \n",
              "  <style>\n",
              "    .colab-df-container {\n",
              "      display:flex;\n",
              "      flex-wrap:wrap;\n",
              "      gap: 12px;\n",
              "    }\n",
              "\n",
              "    .colab-df-convert {\n",
              "      background-color: #E8F0FE;\n",
              "      border: none;\n",
              "      border-radius: 50%;\n",
              "      cursor: pointer;\n",
              "      display: none;\n",
              "      fill: #1967D2;\n",
              "      height: 32px;\n",
              "      padding: 0 0 0 0;\n",
              "      width: 32px;\n",
              "    }\n",
              "\n",
              "    .colab-df-convert:hover {\n",
              "      background-color: #E2EBFA;\n",
              "      box-shadow: 0px 1px 2px rgba(60, 64, 67, 0.3), 0px 1px 3px 1px rgba(60, 64, 67, 0.15);\n",
              "      fill: #174EA6;\n",
              "    }\n",
              "\n",
              "    [theme=dark] .colab-df-convert {\n",
              "      background-color: #3B4455;\n",
              "      fill: #D2E3FC;\n",
              "    }\n",
              "\n",
              "    [theme=dark] .colab-df-convert:hover {\n",
              "      background-color: #434B5C;\n",
              "      box-shadow: 0px 1px 3px 1px rgba(0, 0, 0, 0.15);\n",
              "      filter: drop-shadow(0px 1px 2px rgba(0, 0, 0, 0.3));\n",
              "      fill: #FFFFFF;\n",
              "    }\n",
              "  </style>\n",
              "\n",
              "      <script>\n",
              "        const buttonEl =\n",
              "          document.querySelector('#df-a48d85a0-ca39-44a0-8d60-606dee71bc9e button.colab-df-convert');\n",
              "        buttonEl.style.display =\n",
              "          google.colab.kernel.accessAllowed ? 'block' : 'none';\n",
              "\n",
              "        async function convertToInteractive(key) {\n",
              "          const element = document.querySelector('#df-a48d85a0-ca39-44a0-8d60-606dee71bc9e');\n",
              "          const dataTable =\n",
              "            await google.colab.kernel.invokeFunction('convertToInteractive',\n",
              "                                                     [key], {});\n",
              "          if (!dataTable) return;\n",
              "\n",
              "          const docLinkHtml = 'Like what you see? Visit the ' +\n",
              "            '<a target=\"_blank\" href=https://colab.research.google.com/notebooks/data_table.ipynb>data table notebook</a>'\n",
              "            + ' to learn more about interactive tables.';\n",
              "          element.innerHTML = '';\n",
              "          dataTable['output_type'] = 'display_data';\n",
              "          await google.colab.output.renderOutput(dataTable, element);\n",
              "          const docLink = document.createElement('div');\n",
              "          docLink.innerHTML = docLinkHtml;\n",
              "          element.appendChild(docLink);\n",
              "        }\n",
              "      </script>\n",
              "    </div>\n",
              "  </div>\n",
              "  "
            ]
          },
          "metadata": {},
          "execution_count": 44
        }
      ]
    },
    {
      "cell_type": "code",
      "source": [
        "std_model = Pipeline([\n",
        "    (\"model\",  Perceptron())\n",
        "])\n",
        "fit_and_eval(std_model, X_train_test, y_train, X_val_test, y_val)"
      ],
      "metadata": {
        "colab": {
          "base_uri": "https://localhost:8080/"
        },
        "id": "NnJLIZTK_xdr",
        "outputId": "3d27c623-48d9-4966-a7d2-71266a3a2b2a"
      },
      "execution_count": 45,
      "outputs": [
        {
          "output_type": "stream",
          "name": "stdout",
          "text": [
            "R-squared coefficient: 0.71013\n"
          ]
        }
      ]
    },
    {
      "cell_type": "code",
      "source": [
        "get_coefficients(std_model, X_train.columns)"
      ],
      "metadata": {
        "id": "7IO_fK4aXH8U",
        "colab": {
          "base_uri": "https://localhost:8080/"
        },
        "outputId": "f750c865-2408-42df-d1a5-1f926e1df1a7"
      },
      "execution_count": 46,
      "outputs": [
        {
          "output_type": "execute_result",
          "data": {
            "text/plain": [
              "blueFirstBlood                 -2.000000e+00\n",
              "blueKills                       2.000000e+00\n",
              "blueDeaths                      0.000000e+00\n",
              "blueDragons                     0.000000e+00\n",
              "blueHeralds                    -1.000000e+00\n",
              "redDragons                     -1.655709e+00\n",
              "redHeralds                      6.772824e-01\n",
              "TotalGoldDiff                   5.384872e+00\n",
              "TotalExperienceDiff             5.548476e+00\n",
              "AvgLevelDiff                    1.270863e+00\n",
              "AssistsDiff                    -2.409280e+00\n",
              "TotalMinionsKilledDiff          2.847860e+00\n",
              "TotalJungleMinionsKilledDiff   -9.827818e-01\n",
              "TowersDestroyedDiff            -8.881784e-16\n",
              "WardsDestroyedDiff             -1.752014e+00\n",
              "WardsPlacedDiff                -1.839410e+00\n",
              "dtype: float64"
            ]
          },
          "metadata": {},
          "execution_count": 46
        }
      ]
    },
    {
      "cell_type": "markdown",
      "source": [
        "Notiamo come la standardizazione delle variabili non abbia migliorato il modello, lo terremo da conto durante la modellazione.\n",
        "\n",
        "- Proviamo ora ad aggiungere una **penalizzazione** di tipo **L1** per individuare le feature più rilevanti"
      ],
      "metadata": {
        "id": "1YAChD8ckzd-"
      }
    },
    {
      "cell_type": "code",
      "source": [
        "std_pen_model = Pipeline([\n",
        "    (\"model\",  Perceptron(penalty=\"l1\", alpha=0.00001))\n",
        "])\n",
        "fit_and_eval(std_pen_model, X_train_test, y_train, X_val_test, y_val)"
      ],
      "metadata": {
        "id": "Wfpp2XpvXNcn",
        "colab": {
          "base_uri": "https://localhost:8080/"
        },
        "outputId": "5419af76-e2ff-4a5a-a93b-2bdac77032fb"
      },
      "execution_count": 47,
      "outputs": [
        {
          "output_type": "stream",
          "name": "stdout",
          "text": [
            "R-squared coefficient: 0.73409\n"
          ]
        }
      ]
    },
    {
      "cell_type": "code",
      "source": [
        "get_coefficients(std_pen_model, X_train.columns)"
      ],
      "metadata": {
        "id": "-v9X6UXhXpGN",
        "colab": {
          "base_uri": "https://localhost:8080/"
        },
        "outputId": "3d29ee03-a955-4467-acf1-7fe7c11da8ad"
      },
      "execution_count": 48,
      "outputs": [
        {
          "output_type": "execute_result",
          "data": {
            "text/plain": [
              "blueFirstBlood                  0.000000\n",
              "blueKills                       1.614400\n",
              "blueDeaths                      0.000000\n",
              "blueDragons                     1.614400\n",
              "blueHeralds                     0.000000\n",
              "redDragons                      1.201915\n",
              "redHeralds                      0.000000\n",
              "TotalGoldDiff                   3.324537\n",
              "TotalExperienceDiff             3.329481\n",
              "AvgLevelDiff                    1.445697\n",
              "AssistsDiff                    -0.200872\n",
              "TotalMinionsKilledDiff          0.000000\n",
              "TotalJungleMinionsKilledDiff    0.000000\n",
              "TowersDestroyedDiff             0.000000\n",
              "WardsDestroyedDiff              0.000000\n",
              "WardsPlacedDiff                 0.000000\n",
              "dtype: float64"
            ]
          },
          "metadata": {},
          "execution_count": 48
        }
      ]
    },
    {
      "cell_type": "markdown",
      "source": [
        "Già con `alpha` molto basso possiamo notare come molte feature siano già state azzerata dalla penalizzazione L1. In ogni caso le più importanti rimangono come ci aspettiamo `TotalGoldDiff` e `TotalExperienceDiff`.\n",
        "\n",
        "- Andimao a vedere come si comporta il modello con **aplha** differenti"
      ],
      "metadata": {
        "id": "CYu4N8FB17Tp"
      }
    },
    {
      "cell_type": "code",
      "source": [
        "model_coeffs = []\n",
        "i = 0\n",
        "\n",
        "for alpha in np.logspace(-4, 0, 5):\n",
        "    print(\"alpha {} :\\n\".format(alpha))\n",
        "    model = Pipeline([\n",
        "        (\"model\",  Perceptron(penalty=\"l1\", alpha=alpha))\n",
        "    ])\n",
        "    fit_and_eval(model, X_train_test, y_train, X_val_test, y_val)\n",
        "    model_coeffs.append(get_coefficients(model, X_train.columns))\n",
        "    i += 1\n",
        "    print(\"\\n\")"
      ],
      "metadata": {
        "id": "WOoYYtjsweGo",
        "colab": {
          "base_uri": "https://localhost:8080/"
        },
        "outputId": "29b3a1d3-62be-4724-b430-55beb01cc6be"
      },
      "execution_count": 49,
      "outputs": [
        {
          "output_type": "stream",
          "name": "stdout",
          "text": [
            "alpha 0.0001 :\n",
            "\n",
            "R-squared coefficient: 0.69781\n",
            "\n",
            "\n",
            "alpha 0.001 :\n",
            "\n",
            "R-squared coefficient: 0.63142\n",
            "\n",
            "\n",
            "alpha 0.01 :\n",
            "\n",
            "R-squared coefficient: 0.73374\n",
            "\n",
            "\n",
            "alpha 0.1 :\n",
            "\n",
            "R-squared coefficient: 0.73374\n",
            "\n",
            "\n",
            "alpha 1.0 :\n",
            "\n",
            "R-squared coefficient: 0.50137\n",
            "\n",
            "\n"
          ]
        }
      ]
    },
    {
      "cell_type": "markdown",
      "source": [
        "## Modellazione"
      ],
      "metadata": {
        "id": "FwN6KoVqqqsd"
      }
    },
    {
      "cell_type": "markdown",
      "source": [
        "### Perceptron"
      ],
      "metadata": {
        "id": "B5KoWnKJ-BU8"
      }
    },
    {
      "cell_type": "code",
      "source": [
        "from sklearn.model_selection import GridSearchCV\n",
        "from sklearn import metrics\n",
        "from sklearn.metrics import classification_report\n",
        "\n",
        "std_perceptron = Pipeline([\n",
        "    ('scaler', StandardScaler()),\n",
        "    ('perceptron', Perceptron(random_state=42))\n",
        "])\n",
        "\n",
        "parameters = {\n",
        "    'scaler': [None, StandardScaler()],\n",
        "    'perceptron__penalty': [None, 'l1', 'l2', 'elasticnet'],\n",
        "    'perceptron__alpha': [0.0001, 0.001, 0.01, 0.1, 1],\n",
        "    'perceptron__l1_ratio': [0.2, 0.5, 0.7]\n",
        "}\n",
        "\n",
        "perceptron_cv = GridSearchCV(std_perceptron, parameters, cv=5, n_jobs=-1)\n",
        "perceptron_cv.fit(X_train, y_train)\n",
        "print('GridSearch on Perceptron finish')\n",
        "print('Accuracy on train {:.2f}%'.format(perceptron_cv.score(X_train, y_train)*100))\n",
        "print('Accuracy on val {:.2f}%'.format(perceptron_cv.score(X_val, y_val)*100))"
      ],
      "metadata": {
        "id": "KaP0IQiY-DKS",
        "colab": {
          "base_uri": "https://localhost:8080/"
        },
        "outputId": "6e7be60a-e42d-4c34-aae7-4827ffe9ab5b"
      },
      "execution_count": 50,
      "outputs": [
        {
          "output_type": "stream",
          "name": "stdout",
          "text": [
            "GridSearch on Perceptron finish\n",
            "Accuracy on train 71.92%\n",
            "Accuracy on val 74.91%\n"
          ]
        }
      ]
    },
    {
      "cell_type": "code",
      "source": [
        "from statsmodels.stats.proportion import proportion_confint\n",
        "confidence = 95\n",
        "    \n",
        "l, u = proportion_confint(len(X_train) * perceptron_cv.score(X_val, y_val), len(X_train), 1-confidence/100, method='wilson')\n",
        "print('Pmin =', l)\n",
        "print('Pmax =', u)"
      ],
      "metadata": {
        "colab": {
          "base_uri": "https://localhost:8080/"
        },
        "id": "f_ajACTKCknV",
        "outputId": "b629f119-5ef5-4c99-ec45-f0ac7c421a10"
      },
      "execution_count": 51,
      "outputs": [
        {
          "output_type": "stream",
          "name": "stdout",
          "text": [
            "Pmin = 0.7387145432694899\n",
            "Pmax = 0.7592936254180738\n"
          ]
        }
      ]
    },
    {
      "cell_type": "code",
      "source": [
        "perceptron_cv.best_params_"
      ],
      "metadata": {
        "id": "0nzXPA1wZExC",
        "colab": {
          "base_uri": "https://localhost:8080/"
        },
        "outputId": "1843d50e-445e-472f-e1ce-b18830776163"
      },
      "execution_count": 52,
      "outputs": [
        {
          "output_type": "execute_result",
          "data": {
            "text/plain": [
              "{'perceptron__alpha': 0.0001,\n",
              " 'perceptron__l1_ratio': 0.2,\n",
              " 'perceptron__penalty': None,\n",
              " 'scaler': None}"
            ]
          },
          "metadata": {},
          "execution_count": 52
        }
      ]
    },
    {
      "cell_type": "code",
      "source": [
        "pd.DataFrame(perceptron_cv.cv_results_).sort_values(\"rank_test_score\").head(5)"
      ],
      "metadata": {
        "id": "STpX_3vW-Yd3",
        "colab": {
          "base_uri": "https://localhost:8080/",
          "height": 438
        },
        "outputId": "d5a53324-4a0c-47d0-e4af-5eb0685aa8ee"
      },
      "execution_count": 53,
      "outputs": [
        {
          "output_type": "execute_result",
          "data": {
            "text/plain": [
              "    mean_fit_time  std_fit_time  mean_score_time  std_score_time  \\\n",
              "0        0.014805      0.001563         0.003361        0.000199   \n",
              "40       0.013549      0.003097         0.003816        0.001730   \n",
              "56       0.013686      0.001715         0.003187        0.000178   \n",
              "32       0.012086      0.001313         0.002895        0.000226   \n",
              "64       0.014393      0.003455         0.002982        0.000110   \n",
              "\n",
              "   param_perceptron__alpha param_perceptron__l1_ratio  \\\n",
              "0                   0.0001                        0.2   \n",
              "40                   0.001                        0.7   \n",
              "56                    0.01                        0.5   \n",
              "32                   0.001                        0.5   \n",
              "64                    0.01                        0.7   \n",
              "\n",
              "   param_perceptron__penalty param_scaler  \\\n",
              "0                       None         None   \n",
              "40                      None         None   \n",
              "56                      None         None   \n",
              "32                      None         None   \n",
              "64                      None         None   \n",
              "\n",
              "                                               params  split0_test_score  \\\n",
              "0   {'perceptron__alpha': 0.0001, 'perceptron__l1_...           0.731672   \n",
              "40  {'perceptron__alpha': 0.001, 'perceptron__l1_r...           0.731672   \n",
              "56  {'perceptron__alpha': 0.01, 'perceptron__l1_ra...           0.731672   \n",
              "32  {'perceptron__alpha': 0.001, 'perceptron__l1_r...           0.731672   \n",
              "64  {'perceptron__alpha': 0.01, 'perceptron__l1_ra...           0.731672   \n",
              "\n",
              "    split1_test_score  split2_test_score  split3_test_score  \\\n",
              "0            0.707263           0.732942           0.705796   \n",
              "40           0.707263           0.732942           0.705796   \n",
              "56           0.707263           0.732942           0.705796   \n",
              "32           0.707263           0.732942           0.705796   \n",
              "64           0.707263           0.732942           0.705796   \n",
              "\n",
              "    split4_test_score  mean_test_score  std_test_score  rank_test_score  \n",
              "0            0.722671         0.720069        0.011617                1  \n",
              "40           0.722671         0.720069        0.011617                1  \n",
              "56           0.722671         0.720069        0.011617                1  \n",
              "32           0.722671         0.720069        0.011617                1  \n",
              "64           0.722671         0.720069        0.011617                1  "
            ],
            "text/html": [
              "\n",
              "  <div id=\"df-d9315867-f282-4bc0-9a1c-eca60cf53378\">\n",
              "    <div class=\"colab-df-container\">\n",
              "      <div>\n",
              "<style scoped>\n",
              "    .dataframe tbody tr th:only-of-type {\n",
              "        vertical-align: middle;\n",
              "    }\n",
              "\n",
              "    .dataframe tbody tr th {\n",
              "        vertical-align: top;\n",
              "    }\n",
              "\n",
              "    .dataframe thead th {\n",
              "        text-align: right;\n",
              "    }\n",
              "</style>\n",
              "<table border=\"1\" class=\"dataframe\">\n",
              "  <thead>\n",
              "    <tr style=\"text-align: right;\">\n",
              "      <th></th>\n",
              "      <th>mean_fit_time</th>\n",
              "      <th>std_fit_time</th>\n",
              "      <th>mean_score_time</th>\n",
              "      <th>std_score_time</th>\n",
              "      <th>param_perceptron__alpha</th>\n",
              "      <th>param_perceptron__l1_ratio</th>\n",
              "      <th>param_perceptron__penalty</th>\n",
              "      <th>param_scaler</th>\n",
              "      <th>params</th>\n",
              "      <th>split0_test_score</th>\n",
              "      <th>split1_test_score</th>\n",
              "      <th>split2_test_score</th>\n",
              "      <th>split3_test_score</th>\n",
              "      <th>split4_test_score</th>\n",
              "      <th>mean_test_score</th>\n",
              "      <th>std_test_score</th>\n",
              "      <th>rank_test_score</th>\n",
              "    </tr>\n",
              "  </thead>\n",
              "  <tbody>\n",
              "    <tr>\n",
              "      <th>0</th>\n",
              "      <td>0.014805</td>\n",
              "      <td>0.001563</td>\n",
              "      <td>0.003361</td>\n",
              "      <td>0.000199</td>\n",
              "      <td>0.0001</td>\n",
              "      <td>0.2</td>\n",
              "      <td>None</td>\n",
              "      <td>None</td>\n",
              "      <td>{'perceptron__alpha': 0.0001, 'perceptron__l1_...</td>\n",
              "      <td>0.731672</td>\n",
              "      <td>0.707263</td>\n",
              "      <td>0.732942</td>\n",
              "      <td>0.705796</td>\n",
              "      <td>0.722671</td>\n",
              "      <td>0.720069</td>\n",
              "      <td>0.011617</td>\n",
              "      <td>1</td>\n",
              "    </tr>\n",
              "    <tr>\n",
              "      <th>40</th>\n",
              "      <td>0.013549</td>\n",
              "      <td>0.003097</td>\n",
              "      <td>0.003816</td>\n",
              "      <td>0.001730</td>\n",
              "      <td>0.001</td>\n",
              "      <td>0.7</td>\n",
              "      <td>None</td>\n",
              "      <td>None</td>\n",
              "      <td>{'perceptron__alpha': 0.001, 'perceptron__l1_r...</td>\n",
              "      <td>0.731672</td>\n",
              "      <td>0.707263</td>\n",
              "      <td>0.732942</td>\n",
              "      <td>0.705796</td>\n",
              "      <td>0.722671</td>\n",
              "      <td>0.720069</td>\n",
              "      <td>0.011617</td>\n",
              "      <td>1</td>\n",
              "    </tr>\n",
              "    <tr>\n",
              "      <th>56</th>\n",
              "      <td>0.013686</td>\n",
              "      <td>0.001715</td>\n",
              "      <td>0.003187</td>\n",
              "      <td>0.000178</td>\n",
              "      <td>0.01</td>\n",
              "      <td>0.5</td>\n",
              "      <td>None</td>\n",
              "      <td>None</td>\n",
              "      <td>{'perceptron__alpha': 0.01, 'perceptron__l1_ra...</td>\n",
              "      <td>0.731672</td>\n",
              "      <td>0.707263</td>\n",
              "      <td>0.732942</td>\n",
              "      <td>0.705796</td>\n",
              "      <td>0.722671</td>\n",
              "      <td>0.720069</td>\n",
              "      <td>0.011617</td>\n",
              "      <td>1</td>\n",
              "    </tr>\n",
              "    <tr>\n",
              "      <th>32</th>\n",
              "      <td>0.012086</td>\n",
              "      <td>0.001313</td>\n",
              "      <td>0.002895</td>\n",
              "      <td>0.000226</td>\n",
              "      <td>0.001</td>\n",
              "      <td>0.5</td>\n",
              "      <td>None</td>\n",
              "      <td>None</td>\n",
              "      <td>{'perceptron__alpha': 0.001, 'perceptron__l1_r...</td>\n",
              "      <td>0.731672</td>\n",
              "      <td>0.707263</td>\n",
              "      <td>0.732942</td>\n",
              "      <td>0.705796</td>\n",
              "      <td>0.722671</td>\n",
              "      <td>0.720069</td>\n",
              "      <td>0.011617</td>\n",
              "      <td>1</td>\n",
              "    </tr>\n",
              "    <tr>\n",
              "      <th>64</th>\n",
              "      <td>0.014393</td>\n",
              "      <td>0.003455</td>\n",
              "      <td>0.002982</td>\n",
              "      <td>0.000110</td>\n",
              "      <td>0.01</td>\n",
              "      <td>0.7</td>\n",
              "      <td>None</td>\n",
              "      <td>None</td>\n",
              "      <td>{'perceptron__alpha': 0.01, 'perceptron__l1_ra...</td>\n",
              "      <td>0.731672</td>\n",
              "      <td>0.707263</td>\n",
              "      <td>0.732942</td>\n",
              "      <td>0.705796</td>\n",
              "      <td>0.722671</td>\n",
              "      <td>0.720069</td>\n",
              "      <td>0.011617</td>\n",
              "      <td>1</td>\n",
              "    </tr>\n",
              "  </tbody>\n",
              "</table>\n",
              "</div>\n",
              "      <button class=\"colab-df-convert\" onclick=\"convertToInteractive('df-d9315867-f282-4bc0-9a1c-eca60cf53378')\"\n",
              "              title=\"Convert this dataframe to an interactive table.\"\n",
              "              style=\"display:none;\">\n",
              "        \n",
              "  <svg xmlns=\"http://www.w3.org/2000/svg\" height=\"24px\"viewBox=\"0 0 24 24\"\n",
              "       width=\"24px\">\n",
              "    <path d=\"M0 0h24v24H0V0z\" fill=\"none\"/>\n",
              "    <path d=\"M18.56 5.44l.94 2.06.94-2.06 2.06-.94-2.06-.94-.94-2.06-.94 2.06-2.06.94zm-11 1L8.5 8.5l.94-2.06 2.06-.94-2.06-.94L8.5 2.5l-.94 2.06-2.06.94zm10 10l.94 2.06.94-2.06 2.06-.94-2.06-.94-.94-2.06-.94 2.06-2.06.94z\"/><path d=\"M17.41 7.96l-1.37-1.37c-.4-.4-.92-.59-1.43-.59-.52 0-1.04.2-1.43.59L10.3 9.45l-7.72 7.72c-.78.78-.78 2.05 0 2.83L4 21.41c.39.39.9.59 1.41.59.51 0 1.02-.2 1.41-.59l7.78-7.78 2.81-2.81c.8-.78.8-2.07 0-2.86zM5.41 20L4 18.59l7.72-7.72 1.47 1.35L5.41 20z\"/>\n",
              "  </svg>\n",
              "      </button>\n",
              "      \n",
              "  <style>\n",
              "    .colab-df-container {\n",
              "      display:flex;\n",
              "      flex-wrap:wrap;\n",
              "      gap: 12px;\n",
              "    }\n",
              "\n",
              "    .colab-df-convert {\n",
              "      background-color: #E8F0FE;\n",
              "      border: none;\n",
              "      border-radius: 50%;\n",
              "      cursor: pointer;\n",
              "      display: none;\n",
              "      fill: #1967D2;\n",
              "      height: 32px;\n",
              "      padding: 0 0 0 0;\n",
              "      width: 32px;\n",
              "    }\n",
              "\n",
              "    .colab-df-convert:hover {\n",
              "      background-color: #E2EBFA;\n",
              "      box-shadow: 0px 1px 2px rgba(60, 64, 67, 0.3), 0px 1px 3px 1px rgba(60, 64, 67, 0.15);\n",
              "      fill: #174EA6;\n",
              "    }\n",
              "\n",
              "    [theme=dark] .colab-df-convert {\n",
              "      background-color: #3B4455;\n",
              "      fill: #D2E3FC;\n",
              "    }\n",
              "\n",
              "    [theme=dark] .colab-df-convert:hover {\n",
              "      background-color: #434B5C;\n",
              "      box-shadow: 0px 1px 3px 1px rgba(0, 0, 0, 0.15);\n",
              "      filter: drop-shadow(0px 1px 2px rgba(0, 0, 0, 0.3));\n",
              "      fill: #FFFFFF;\n",
              "    }\n",
              "  </style>\n",
              "\n",
              "      <script>\n",
              "        const buttonEl =\n",
              "          document.querySelector('#df-d9315867-f282-4bc0-9a1c-eca60cf53378 button.colab-df-convert');\n",
              "        buttonEl.style.display =\n",
              "          google.colab.kernel.accessAllowed ? 'block' : 'none';\n",
              "\n",
              "        async function convertToInteractive(key) {\n",
              "          const element = document.querySelector('#df-d9315867-f282-4bc0-9a1c-eca60cf53378');\n",
              "          const dataTable =\n",
              "            await google.colab.kernel.invokeFunction('convertToInteractive',\n",
              "                                                     [key], {});\n",
              "          if (!dataTable) return;\n",
              "\n",
              "          const docLinkHtml = 'Like what you see? Visit the ' +\n",
              "            '<a target=\"_blank\" href=https://colab.research.google.com/notebooks/data_table.ipynb>data table notebook</a>'\n",
              "            + ' to learn more about interactive tables.';\n",
              "          element.innerHTML = '';\n",
              "          dataTable['output_type'] = 'display_data';\n",
              "          await google.colab.output.renderOutput(dataTable, element);\n",
              "          const docLink = document.createElement('div');\n",
              "          docLink.innerHTML = docLinkHtml;\n",
              "          element.appendChild(docLink);\n",
              "        }\n",
              "      </script>\n",
              "    </div>\n",
              "  </div>\n",
              "  "
            ]
          },
          "metadata": {},
          "execution_count": 53
        }
      ]
    },
    {
      "cell_type": "code",
      "source": [
        "perceptron_cv.best_score_"
      ],
      "metadata": {
        "id": "twfpxSLBEmQQ",
        "colab": {
          "base_uri": "https://localhost:8080/"
        },
        "outputId": "b87467ff-c207-4c0b-eb41-cbfb3c7fde87"
      },
      "execution_count": 54,
      "outputs": [
        {
          "output_type": "execute_result",
          "data": {
            "text/plain": [
              "0.720068720241489"
            ]
          },
          "metadata": {},
          "execution_count": 54
        }
      ]
    },
    {
      "cell_type": "code",
      "source": [
        "from sklearn.metrics import confusion_matrix\n",
        "y_pred = perceptron_cv.predict(X_val)\n",
        "cm = confusion_matrix(y_val, y_pred)\n",
        "pd.DataFrame(cm, index=perceptron_cv.classes_, columns=perceptron_cv.classes_)"
      ],
      "metadata": {
        "id": "fwM5Gy9b_Ujy",
        "colab": {
          "base_uri": "https://localhost:8080/",
          "height": 111
        },
        "outputId": "9217380a-e8d2-47bd-efc5-53d6449184c1"
      },
      "execution_count": 55,
      "outputs": [
        {
          "output_type": "execute_result",
          "data": {
            "text/plain": [
              "      0     1\n",
              "0  1106   359\n",
              "1   374  1083"
            ],
            "text/html": [
              "\n",
              "  <div id=\"df-224d912d-a4f6-419b-9956-b39d6f384c30\">\n",
              "    <div class=\"colab-df-container\">\n",
              "      <div>\n",
              "<style scoped>\n",
              "    .dataframe tbody tr th:only-of-type {\n",
              "        vertical-align: middle;\n",
              "    }\n",
              "\n",
              "    .dataframe tbody tr th {\n",
              "        vertical-align: top;\n",
              "    }\n",
              "\n",
              "    .dataframe thead th {\n",
              "        text-align: right;\n",
              "    }\n",
              "</style>\n",
              "<table border=\"1\" class=\"dataframe\">\n",
              "  <thead>\n",
              "    <tr style=\"text-align: right;\">\n",
              "      <th></th>\n",
              "      <th>0</th>\n",
              "      <th>1</th>\n",
              "    </tr>\n",
              "  </thead>\n",
              "  <tbody>\n",
              "    <tr>\n",
              "      <th>0</th>\n",
              "      <td>1106</td>\n",
              "      <td>359</td>\n",
              "    </tr>\n",
              "    <tr>\n",
              "      <th>1</th>\n",
              "      <td>374</td>\n",
              "      <td>1083</td>\n",
              "    </tr>\n",
              "  </tbody>\n",
              "</table>\n",
              "</div>\n",
              "      <button class=\"colab-df-convert\" onclick=\"convertToInteractive('df-224d912d-a4f6-419b-9956-b39d6f384c30')\"\n",
              "              title=\"Convert this dataframe to an interactive table.\"\n",
              "              style=\"display:none;\">\n",
              "        \n",
              "  <svg xmlns=\"http://www.w3.org/2000/svg\" height=\"24px\"viewBox=\"0 0 24 24\"\n",
              "       width=\"24px\">\n",
              "    <path d=\"M0 0h24v24H0V0z\" fill=\"none\"/>\n",
              "    <path d=\"M18.56 5.44l.94 2.06.94-2.06 2.06-.94-2.06-.94-.94-2.06-.94 2.06-2.06.94zm-11 1L8.5 8.5l.94-2.06 2.06-.94-2.06-.94L8.5 2.5l-.94 2.06-2.06.94zm10 10l.94 2.06.94-2.06 2.06-.94-2.06-.94-.94-2.06-.94 2.06-2.06.94z\"/><path d=\"M17.41 7.96l-1.37-1.37c-.4-.4-.92-.59-1.43-.59-.52 0-1.04.2-1.43.59L10.3 9.45l-7.72 7.72c-.78.78-.78 2.05 0 2.83L4 21.41c.39.39.9.59 1.41.59.51 0 1.02-.2 1.41-.59l7.78-7.78 2.81-2.81c.8-.78.8-2.07 0-2.86zM5.41 20L4 18.59l7.72-7.72 1.47 1.35L5.41 20z\"/>\n",
              "  </svg>\n",
              "      </button>\n",
              "      \n",
              "  <style>\n",
              "    .colab-df-container {\n",
              "      display:flex;\n",
              "      flex-wrap:wrap;\n",
              "      gap: 12px;\n",
              "    }\n",
              "\n",
              "    .colab-df-convert {\n",
              "      background-color: #E8F0FE;\n",
              "      border: none;\n",
              "      border-radius: 50%;\n",
              "      cursor: pointer;\n",
              "      display: none;\n",
              "      fill: #1967D2;\n",
              "      height: 32px;\n",
              "      padding: 0 0 0 0;\n",
              "      width: 32px;\n",
              "    }\n",
              "\n",
              "    .colab-df-convert:hover {\n",
              "      background-color: #E2EBFA;\n",
              "      box-shadow: 0px 1px 2px rgba(60, 64, 67, 0.3), 0px 1px 3px 1px rgba(60, 64, 67, 0.15);\n",
              "      fill: #174EA6;\n",
              "    }\n",
              "\n",
              "    [theme=dark] .colab-df-convert {\n",
              "      background-color: #3B4455;\n",
              "      fill: #D2E3FC;\n",
              "    }\n",
              "\n",
              "    [theme=dark] .colab-df-convert:hover {\n",
              "      background-color: #434B5C;\n",
              "      box-shadow: 0px 1px 3px 1px rgba(0, 0, 0, 0.15);\n",
              "      filter: drop-shadow(0px 1px 2px rgba(0, 0, 0, 0.3));\n",
              "      fill: #FFFFFF;\n",
              "    }\n",
              "  </style>\n",
              "\n",
              "      <script>\n",
              "        const buttonEl =\n",
              "          document.querySelector('#df-224d912d-a4f6-419b-9956-b39d6f384c30 button.colab-df-convert');\n",
              "        buttonEl.style.display =\n",
              "          google.colab.kernel.accessAllowed ? 'block' : 'none';\n",
              "\n",
              "        async function convertToInteractive(key) {\n",
              "          const element = document.querySelector('#df-224d912d-a4f6-419b-9956-b39d6f384c30');\n",
              "          const dataTable =\n",
              "            await google.colab.kernel.invokeFunction('convertToInteractive',\n",
              "                                                     [key], {});\n",
              "          if (!dataTable) return;\n",
              "\n",
              "          const docLinkHtml = 'Like what you see? Visit the ' +\n",
              "            '<a target=\"_blank\" href=https://colab.research.google.com/notebooks/data_table.ipynb>data table notebook</a>'\n",
              "            + ' to learn more about interactive tables.';\n",
              "          element.innerHTML = '';\n",
              "          dataTable['output_type'] = 'display_data';\n",
              "          await google.colab.output.renderOutput(dataTable, element);\n",
              "          const docLink = document.createElement('div');\n",
              "          docLink.innerHTML = docLinkHtml;\n",
              "          element.appendChild(docLink);\n",
              "        }\n",
              "      </script>\n",
              "    </div>\n",
              "  </div>\n",
              "  "
            ]
          },
          "metadata": {},
          "execution_count": 55
        }
      ]
    },
    {
      "cell_type": "code",
      "source": [
        "pred = perceptron_cv.predict(X_val)\n",
        "print(classification_report(y_val, pred))"
      ],
      "metadata": {
        "colab": {
          "base_uri": "https://localhost:8080/"
        },
        "id": "l4Inv2r938pR",
        "outputId": "1d1b3d22-d7e7-4d52-a9a2-512c85c40057"
      },
      "execution_count": 56,
      "outputs": [
        {
          "output_type": "stream",
          "name": "stdout",
          "text": [
            "              precision    recall  f1-score   support\n",
            "\n",
            "           0       0.75      0.75      0.75      1465\n",
            "           1       0.75      0.74      0.75      1457\n",
            "\n",
            "    accuracy                           0.75      2922\n",
            "   macro avg       0.75      0.75      0.75      2922\n",
            "weighted avg       0.75      0.75      0.75      2922\n",
            "\n"
          ]
        }
      ]
    },
    {
      "cell_type": "code",
      "source": [
        "pc_imp = pd.Series(perceptron_cv.best_estimator_[1].coef_[0], index=X_train.columns)\n",
        "pc_imp.plot(kind='barh')"
      ],
      "metadata": {
        "id": "YrnFxE_VA-jm",
        "colab": {
          "base_uri": "https://localhost:8080/",
          "height": 282
        },
        "outputId": "6e9981b5-4e20-4b0c-ce6a-301ef4792744"
      },
      "execution_count": 57,
      "outputs": [
        {
          "output_type": "execute_result",
          "data": {
            "text/plain": [
              "<matplotlib.axes._subplots.AxesSubplot at 0x7f50d894c670>"
            ]
          },
          "metadata": {},
          "execution_count": 57
        },
        {
          "output_type": "display_data",
          "data": {
            "text/plain": [
              "<Figure size 432x288 with 1 Axes>"
            ],
            "image/png": "[encoded data removed]"
          },
          "metadata": {
            "needs_background": "light"
          }
        }
      ]
    },
    {
      "cell_type": "markdown",
      "source": [
        "Il modello senza standardizzazione dei dati mette in evidenza le solite variabili che ci aspettiamo `Gold` `Experience`, ma mette in risalto anche la variabile `TotalJunglMinionsKilled`."
      ],
      "metadata": {
        "id": "foZI9V9n4mRc"
      }
    },
    {
      "cell_type": "code",
      "source": [
        "from sklearn.metrics import mean_squared_error\n",
        "\n",
        "perc_mse = mean_squared_error(y_val, perceptron_cv.predict(X_val))\n",
        "perc_mse"
      ],
      "metadata": {
        "id": "CXj9v4T1XcO7",
        "colab": {
          "base_uri": "https://localhost:8080/"
        },
        "outputId": "7bf79eb1-973f-4f3e-a121-fe9f052059c1"
      },
      "execution_count": 58,
      "outputs": [
        {
          "output_type": "execute_result",
          "data": {
            "text/plain": [
              "0.25085557837097877"
            ]
          },
          "metadata": {},
          "execution_count": 58
        }
      ]
    },
    {
      "cell_type": "markdown",
      "source": [
        "### Perceptron with Polynomial features"
      ],
      "metadata": {
        "id": "pSooAtmyp_gJ"
      }
    },
    {
      "cell_type": "code",
      "source": [
        "from sklearn.preprocessing import PolynomialFeatures\n",
        "\n",
        "std_perceptron = Pipeline([\n",
        "    ('scaler', StandardScaler()),\n",
        "    ('poly', PolynomialFeatures(degree=3)),\n",
        "    ('perceptron', Perceptron(random_state=42))\n",
        "])\n",
        "\n",
        "parameters = {\n",
        "    'scaler': [None, StandardScaler()],\n",
        "    'perceptron__penalty': ['l1', 'l2', 'elasticnet'],\n",
        "    'perceptron__alpha': [0.001, 0.01, 0.1],\n",
        "    'perceptron__l1_ratio': [0.2, 0.5, 0.7]\n",
        "}\n",
        "\n",
        "pol_perceptron_cv = GridSearchCV(std_perceptron, parameters, cv=5, n_jobs=-1)\n",
        "pol_perceptron_cv.fit(X_train, y_train)\n",
        "print('GridSearch on Perceptron finish')\n",
        "print('Accuracy on train {:.2f}%'.format(pol_perceptron_cv.score(X_train, y_train)*100))\n",
        "print('Accuracy on val {:.2f}%'.format(pol_perceptron_cv.score(X_val, y_val)*100))"
      ],
      "metadata": {
        "id": "dJeHItUnp7D4",
        "colab": {
          "base_uri": "https://localhost:8080/"
        },
        "outputId": "460b4bf8-d2b2-4a5f-a1f0-2ad4aabde615"
      },
      "execution_count": 59,
      "outputs": [
        {
          "output_type": "stream",
          "name": "stdout",
          "text": [
            "GridSearch on Perceptron finish\n",
            "Accuracy on train 71.80%\n",
            "Accuracy on val 74.81%\n"
          ]
        }
      ]
    },
    {
      "cell_type": "code",
      "source": [
        "confidence = 95\n",
        "    \n",
        "l, u = proportion_confint(len(X_train) * pol_perceptron_cv.score(X_val, y_val), len(X_train), 1-confidence/100, method='wilson')\n",
        "print('Pmin =', l)\n",
        "print('Pmax =', u)"
      ],
      "metadata": {
        "colab": {
          "base_uri": "https://localhost:8080/"
        },
        "id": "zkQxVRhrDsPL",
        "outputId": "bfdde39c-2d84-4cc2-98e3-370fafcb8ad9"
      },
      "execution_count": 60,
      "outputs": [
        {
          "output_type": "stream",
          "name": "stdout",
          "text": [
            "Pmin = 0.7376744708222102\n",
            "Pmax = 0.7582814664009817\n"
          ]
        }
      ]
    },
    {
      "cell_type": "code",
      "source": [
        "pol_perceptron_cv.best_params_"
      ],
      "metadata": {
        "id": "2YiUc0DcrxxF",
        "colab": {
          "base_uri": "https://localhost:8080/"
        },
        "outputId": "34d82782-b316-4123-a7c2-176c57d4df20"
      },
      "execution_count": 61,
      "outputs": [
        {
          "output_type": "execute_result",
          "data": {
            "text/plain": [
              "{'perceptron__alpha': 0.01,\n",
              " 'perceptron__l1_ratio': 0.2,\n",
              " 'perceptron__penalty': 'l2',\n",
              " 'scaler': None}"
            ]
          },
          "metadata": {},
          "execution_count": 61
        }
      ]
    },
    {
      "cell_type": "code",
      "source": [
        "pd.DataFrame(pol_perceptron_cv.cv_results_).sort_values(\"rank_test_score\").head(5)"
      ],
      "metadata": {
        "id": "W7Yjpbb0rxxH",
        "colab": {
          "base_uri": "https://localhost:8080/",
          "height": 438
        },
        "outputId": "e6e39f08-5d24-4127-f89b-5e4299242dfe"
      },
      "execution_count": 62,
      "outputs": [
        {
          "output_type": "execute_result",
          "data": {
            "text/plain": [
              "    mean_fit_time  std_fit_time  mean_score_time  std_score_time  \\\n",
              "26       0.257175      0.091293         0.015844        0.001202   \n",
              "32       0.244390      0.081685         0.015406        0.001966   \n",
              "20       0.251005      0.089715         0.016474        0.002849   \n",
              "34       0.571221      0.062463         0.013888        0.000418   \n",
              "50       0.201341      0.013971         0.015670        0.001286   \n",
              "\n",
              "   param_perceptron__alpha param_perceptron__l1_ratio  \\\n",
              "26                    0.01                        0.5   \n",
              "32                    0.01                        0.7   \n",
              "20                    0.01                        0.2   \n",
              "34                    0.01                        0.7   \n",
              "50                     0.1                        0.7   \n",
              "\n",
              "   param_perceptron__penalty param_scaler  \\\n",
              "26                        l2         None   \n",
              "32                        l2         None   \n",
              "20                        l2         None   \n",
              "34                elasticnet         None   \n",
              "50                        l2         None   \n",
              "\n",
              "                                               params  split0_test_score  \\\n",
              "26  {'perceptron__alpha': 0.01, 'perceptron__l1_ra...           0.728006   \n",
              "32  {'perceptron__alpha': 0.01, 'perceptron__l1_ra...           0.728006   \n",
              "20  {'perceptron__alpha': 0.01, 'perceptron__l1_ra...           0.728006   \n",
              "34  {'perceptron__alpha': 0.01, 'perceptron__l1_ra...           0.707478   \n",
              "50  {'perceptron__alpha': 0.1, 'perceptron__l1_rat...           0.733138   \n",
              "\n",
              "    split1_test_score  split2_test_score  split3_test_score  \\\n",
              "26           0.702861           0.723404           0.711665   \n",
              "32           0.702861           0.723404           0.711665   \n",
              "20           0.702861           0.723404           0.711665   \n",
              "34           0.703595           0.732942           0.713866   \n",
              "50           0.702861           0.731475           0.707997   \n",
              "\n",
              "    split4_test_score  mean_test_score  std_test_score  rank_test_score  \n",
              "26           0.720470         0.717281        0.008968                1  \n",
              "32           0.720470         0.717281        0.008968                1  \n",
              "20           0.720470         0.717281        0.008968                1  \n",
              "34           0.719736         0.715523        0.010305                4  \n",
              "50           0.683786         0.711851        0.018556                5  "
            ],
            "text/html": [
              "\n",
              "  <div id=\"df-dba7d856-7d5a-43dd-a68e-a5f5d48ec8df\">\n",
              "    <div class=\"colab-df-container\">\n",
              "      <div>\n",
              "<style scoped>\n",
              "    .dataframe tbody tr th:only-of-type {\n",
              "        vertical-align: middle;\n",
              "    }\n",
              "\n",
              "    .dataframe tbody tr th {\n",
              "        vertical-align: top;\n",
              "    }\n",
              "\n",
              "    .dataframe thead th {\n",
              "        text-align: right;\n",
              "    }\n",
              "</style>\n",
              "<table border=\"1\" class=\"dataframe\">\n",
              "  <thead>\n",
              "    <tr style=\"text-align: right;\">\n",
              "      <th></th>\n",
              "      <th>mean_fit_time</th>\n",
              "      <th>std_fit_time</th>\n",
              "      <th>mean_score_time</th>\n",
              "      <th>std_score_time</th>\n",
              "      <th>param_perceptron__alpha</th>\n",
              "      <th>param_perceptron__l1_ratio</th>\n",
              "      <th>param_perceptron__penalty</th>\n",
              "      <th>param_scaler</th>\n",
              "      <th>params</th>\n",
              "      <th>split0_test_score</th>\n",
              "      <th>split1_test_score</th>\n",
              "      <th>split2_test_score</th>\n",
              "      <th>split3_test_score</th>\n",
              "      <th>split4_test_score</th>\n",
              "      <th>mean_test_score</th>\n",
              "      <th>std_test_score</th>\n",
              "      <th>rank_test_score</th>\n",
              "    </tr>\n",
              "  </thead>\n",
              "  <tbody>\n",
              "    <tr>\n",
              "      <th>26</th>\n",
              "      <td>0.257175</td>\n",
              "      <td>0.091293</td>\n",
              "      <td>0.015844</td>\n",
              "      <td>0.001202</td>\n",
              "      <td>0.01</td>\n",
              "      <td>0.5</td>\n",
              "      <td>l2</td>\n",
              "      <td>None</td>\n",
              "      <td>{'perceptron__alpha': 0.01, 'perceptron__l1_ra...</td>\n",
              "      <td>0.728006</td>\n",
              "      <td>0.702861</td>\n",
              "      <td>0.723404</td>\n",
              "      <td>0.711665</td>\n",
              "      <td>0.720470</td>\n",
              "      <td>0.717281</td>\n",
              "      <td>0.008968</td>\n",
              "      <td>1</td>\n",
              "    </tr>\n",
              "    <tr>\n",
              "      <th>32</th>\n",
              "      <td>0.244390</td>\n",
              "      <td>0.081685</td>\n",
              "      <td>0.015406</td>\n",
              "      <td>0.001966</td>\n",
              "      <td>0.01</td>\n",
              "      <td>0.7</td>\n",
              "      <td>l2</td>\n",
              "      <td>None</td>\n",
              "      <td>{'perceptron__alpha': 0.01, 'perceptron__l1_ra...</td>\n",
              "      <td>0.728006</td>\n",
              "      <td>0.702861</td>\n",
              "      <td>0.723404</td>\n",
              "      <td>0.711665</td>\n",
              "      <td>0.720470</td>\n",
              "      <td>0.717281</td>\n",
              "      <td>0.008968</td>\n",
              "      <td>1</td>\n",
              "    </tr>\n",
              "    <tr>\n",
              "      <th>20</th>\n",
              "      <td>0.251005</td>\n",
              "      <td>0.089715</td>\n",
              "      <td>0.016474</td>\n",
              "      <td>0.002849</td>\n",
              "      <td>0.01</td>\n",
              "      <td>0.2</td>\n",
              "      <td>l2</td>\n",
              "      <td>None</td>\n",
              "      <td>{'perceptron__alpha': 0.01, 'perceptron__l1_ra...</td>\n",
              "      <td>0.728006</td>\n",
              "      <td>0.702861</td>\n",
              "      <td>0.723404</td>\n",
              "      <td>0.711665</td>\n",
              "      <td>0.720470</td>\n",
              "      <td>0.717281</td>\n",
              "      <td>0.008968</td>\n",
              "      <td>1</td>\n",
              "    </tr>\n",
              "    <tr>\n",
              "      <th>34</th>\n",
              "      <td>0.571221</td>\n",
              "      <td>0.062463</td>\n",
              "      <td>0.013888</td>\n",
              "      <td>0.000418</td>\n",
              "      <td>0.01</td>\n",
              "      <td>0.7</td>\n",
              "      <td>elasticnet</td>\n",
              "      <td>None</td>\n",
              "      <td>{'perceptron__alpha': 0.01, 'perceptron__l1_ra...</td>\n",
              "      <td>0.707478</td>\n",
              "      <td>0.703595</td>\n",
              "      <td>0.732942</td>\n",
              "      <td>0.713866</td>\n",
              "      <td>0.719736</td>\n",
              "      <td>0.715523</td>\n",
              "      <td>0.010305</td>\n",
              "      <td>4</td>\n",
              "    </tr>\n",
              "    <tr>\n",
              "      <th>50</th>\n",
              "      <td>0.201341</td>\n",
              "      <td>0.013971</td>\n",
              "      <td>0.015670</td>\n",
              "      <td>0.001286</td>\n",
              "      <td>0.1</td>\n",
              "      <td>0.7</td>\n",
              "      <td>l2</td>\n",
              "      <td>None</td>\n",
              "      <td>{'perceptron__alpha': 0.1, 'perceptron__l1_rat...</td>\n",
              "      <td>0.733138</td>\n",
              "      <td>0.702861</td>\n",
              "      <td>0.731475</td>\n",
              "      <td>0.707997</td>\n",
              "      <td>0.683786</td>\n",
              "      <td>0.711851</td>\n",
              "      <td>0.018556</td>\n",
              "      <td>5</td>\n",
              "    </tr>\n",
              "  </tbody>\n",
              "</table>\n",
              "</div>\n",
              "      <button class=\"colab-df-convert\" onclick=\"convertToInteractive('df-dba7d856-7d5a-43dd-a68e-a5f5d48ec8df')\"\n",
              "              title=\"Convert this dataframe to an interactive table.\"\n",
              "              style=\"display:none;\">\n",
              "        \n",
              "  <svg xmlns=\"http://www.w3.org/2000/svg\" height=\"24px\"viewBox=\"0 0 24 24\"\n",
              "       width=\"24px\">\n",
              "    <path d=\"M0 0h24v24H0V0z\" fill=\"none\"/>\n",
              "    <path d=\"M18.56 5.44l.94 2.06.94-2.06 2.06-.94-2.06-.94-.94-2.06-.94 2.06-2.06.94zm-11 1L8.5 8.5l.94-2.06 2.06-.94-2.06-.94L8.5 2.5l-.94 2.06-2.06.94zm10 10l.94 2.06.94-2.06 2.06-.94-2.06-.94-.94-2.06-.94 2.06-2.06.94z\"/><path d=\"M17.41 7.96l-1.37-1.37c-.4-.4-.92-.59-1.43-.59-.52 0-1.04.2-1.43.59L10.3 9.45l-7.72 7.72c-.78.78-.78 2.05 0 2.83L4 21.41c.39.39.9.59 1.41.59.51 0 1.02-.2 1.41-.59l7.78-7.78 2.81-2.81c.8-.78.8-2.07 0-2.86zM5.41 20L4 18.59l7.72-7.72 1.47 1.35L5.41 20z\"/>\n",
              "  </svg>\n",
              "      </button>\n",
              "      \n",
              "  <style>\n",
              "    .colab-df-container {\n",
              "      display:flex;\n",
              "      flex-wrap:wrap;\n",
              "      gap: 12px;\n",
              "    }\n",
              "\n",
              "    .colab-df-convert {\n",
              "      background-color: #E8F0FE;\n",
              "      border: none;\n",
              "      border-radius: 50%;\n",
              "      cursor: pointer;\n",
              "      display: none;\n",
              "      fill: #1967D2;\n",
              "      height: 32px;\n",
              "      padding: 0 0 0 0;\n",
              "      width: 32px;\n",
              "    }\n",
              "\n",
              "    .colab-df-convert:hover {\n",
              "      background-color: #E2EBFA;\n",
              "      box-shadow: 0px 1px 2px rgba(60, 64, 67, 0.3), 0px 1px 3px 1px rgba(60, 64, 67, 0.15);\n",
              "      fill: #174EA6;\n",
              "    }\n",
              "\n",
              "    [theme=dark] .colab-df-convert {\n",
              "      background-color: #3B4455;\n",
              "      fill: #D2E3FC;\n",
              "    }\n",
              "\n",
              "    [theme=dark] .colab-df-convert:hover {\n",
              "      background-color: #434B5C;\n",
              "      box-shadow: 0px 1px 3px 1px rgba(0, 0, 0, 0.15);\n",
              "      filter: drop-shadow(0px 1px 2px rgba(0, 0, 0, 0.3));\n",
              "      fill: #FFFFFF;\n",
              "    }\n",
              "  </style>\n",
              "\n",
              "      <script>\n",
              "        const buttonEl =\n",
              "          document.querySelector('#df-dba7d856-7d5a-43dd-a68e-a5f5d48ec8df button.colab-df-convert');\n",
              "        buttonEl.style.display =\n",
              "          google.colab.kernel.accessAllowed ? 'block' : 'none';\n",
              "\n",
              "        async function convertToInteractive(key) {\n",
              "          const element = document.querySelector('#df-dba7d856-7d5a-43dd-a68e-a5f5d48ec8df');\n",
              "          const dataTable =\n",
              "            await google.colab.kernel.invokeFunction('convertToInteractive',\n",
              "                                                     [key], {});\n",
              "          if (!dataTable) return;\n",
              "\n",
              "          const docLinkHtml = 'Like what you see? Visit the ' +\n",
              "            '<a target=\"_blank\" href=https://colab.research.google.com/notebooks/data_table.ipynb>data table notebook</a>'\n",
              "            + ' to learn more about interactive tables.';\n",
              "          element.innerHTML = '';\n",
              "          dataTable['output_type'] = 'display_data';\n",
              "          await google.colab.output.renderOutput(dataTable, element);\n",
              "          const docLink = document.createElement('div');\n",
              "          docLink.innerHTML = docLinkHtml;\n",
              "          element.appendChild(docLink);\n",
              "        }\n",
              "      </script>\n",
              "    </div>\n",
              "  </div>\n",
              "  "
            ]
          },
          "metadata": {},
          "execution_count": 62
        }
      ]
    },
    {
      "cell_type": "code",
      "source": [
        "pol_perceptron_cv.best_score_"
      ],
      "metadata": {
        "id": "CZC7NYOlrxxI",
        "colab": {
          "base_uri": "https://localhost:8080/"
        },
        "outputId": "ef3346b1-b309-4add-d47a-97b6c7419c3e"
      },
      "execution_count": 63,
      "outputs": [
        {
          "output_type": "execute_result",
          "data": {
            "text/plain": [
              "0.7172812904086424"
            ]
          },
          "metadata": {},
          "execution_count": 63
        }
      ]
    },
    {
      "cell_type": "code",
      "source": [
        "from sklearn.metrics import confusion_matrix\n",
        "y_pred = pol_perceptron_cv.predict(X_val)\n",
        "cm = confusion_matrix(y_val, y_pred)\n",
        "pd.DataFrame(cm, index=pol_perceptron_cv.classes_, columns=pol_perceptron_cv.classes_)"
      ],
      "metadata": {
        "id": "zTXkj7qFrxxI",
        "colab": {
          "base_uri": "https://localhost:8080/",
          "height": 111
        },
        "outputId": "3d4a0b8a-a46e-4340-d981-d8d33c717efd"
      },
      "execution_count": 64,
      "outputs": [
        {
          "output_type": "execute_result",
          "data": {
            "text/plain": [
              "      0     1\n",
              "0  1102   363\n",
              "1   373  1084"
            ],
            "text/html": [
              "\n",
              "  <div id=\"df-393261ba-367b-4fc2-b586-cb4c97bea48e\">\n",
              "    <div class=\"colab-df-container\">\n",
              "      <div>\n",
              "<style scoped>\n",
              "    .dataframe tbody tr th:only-of-type {\n",
              "        vertical-align: middle;\n",
              "    }\n",
              "\n",
              "    .dataframe tbody tr th {\n",
              "        vertical-align: top;\n",
              "    }\n",
              "\n",
              "    .dataframe thead th {\n",
              "        text-align: right;\n",
              "    }\n",
              "</style>\n",
              "<table border=\"1\" class=\"dataframe\">\n",
              "  <thead>\n",
              "    <tr style=\"text-align: right;\">\n",
              "      <th></th>\n",
              "      <th>0</th>\n",
              "      <th>1</th>\n",
              "    </tr>\n",
              "  </thead>\n",
              "  <tbody>\n",
              "    <tr>\n",
              "      <th>0</th>\n",
              "      <td>1102</td>\n",
              "      <td>363</td>\n",
              "    </tr>\n",
              "    <tr>\n",
              "      <th>1</th>\n",
              "      <td>373</td>\n",
              "      <td>1084</td>\n",
              "    </tr>\n",
              "  </tbody>\n",
              "</table>\n",
              "</div>\n",
              "      <button class=\"colab-df-convert\" onclick=\"convertToInteractive('df-393261ba-367b-4fc2-b586-cb4c97bea48e')\"\n",
              "              title=\"Convert this dataframe to an interactive table.\"\n",
              "              style=\"display:none;\">\n",
              "        \n",
              "  <svg xmlns=\"http://www.w3.org/2000/svg\" height=\"24px\"viewBox=\"0 0 24 24\"\n",
              "       width=\"24px\">\n",
              "    <path d=\"M0 0h24v24H0V0z\" fill=\"none\"/>\n",
              "    <path d=\"M18.56 5.44l.94 2.06.94-2.06 2.06-.94-2.06-.94-.94-2.06-.94 2.06-2.06.94zm-11 1L8.5 8.5l.94-2.06 2.06-.94-2.06-.94L8.5 2.5l-.94 2.06-2.06.94zm10 10l.94 2.06.94-2.06 2.06-.94-2.06-.94-.94-2.06-.94 2.06-2.06.94z\"/><path d=\"M17.41 7.96l-1.37-1.37c-.4-.4-.92-.59-1.43-.59-.52 0-1.04.2-1.43.59L10.3 9.45l-7.72 7.72c-.78.78-.78 2.05 0 2.83L4 21.41c.39.39.9.59 1.41.59.51 0 1.02-.2 1.41-.59l7.78-7.78 2.81-2.81c.8-.78.8-2.07 0-2.86zM5.41 20L4 18.59l7.72-7.72 1.47 1.35L5.41 20z\"/>\n",
              "  </svg>\n",
              "      </button>\n",
              "      \n",
              "  <style>\n",
              "    .colab-df-container {\n",
              "      display:flex;\n",
              "      flex-wrap:wrap;\n",
              "      gap: 12px;\n",
              "    }\n",
              "\n",
              "    .colab-df-convert {\n",
              "      background-color: #E8F0FE;\n",
              "      border: none;\n",
              "      border-radius: 50%;\n",
              "      cursor: pointer;\n",
              "      display: none;\n",
              "      fill: #1967D2;\n",
              "      height: 32px;\n",
              "      padding: 0 0 0 0;\n",
              "      width: 32px;\n",
              "    }\n",
              "\n",
              "    .colab-df-convert:hover {\n",
              "      background-color: #E2EBFA;\n",
              "      box-shadow: 0px 1px 2px rgba(60, 64, 67, 0.3), 0px 1px 3px 1px rgba(60, 64, 67, 0.15);\n",
              "      fill: #174EA6;\n",
              "    }\n",
              "\n",
              "    [theme=dark] .colab-df-convert {\n",
              "      background-color: #3B4455;\n",
              "      fill: #D2E3FC;\n",
              "    }\n",
              "\n",
              "    [theme=dark] .colab-df-convert:hover {\n",
              "      background-color: #434B5C;\n",
              "      box-shadow: 0px 1px 3px 1px rgba(0, 0, 0, 0.15);\n",
              "      filter: drop-shadow(0px 1px 2px rgba(0, 0, 0, 0.3));\n",
              "      fill: #FFFFFF;\n",
              "    }\n",
              "  </style>\n",
              "\n",
              "      <script>\n",
              "        const buttonEl =\n",
              "          document.querySelector('#df-393261ba-367b-4fc2-b586-cb4c97bea48e button.colab-df-convert');\n",
              "        buttonEl.style.display =\n",
              "          google.colab.kernel.accessAllowed ? 'block' : 'none';\n",
              "\n",
              "        async function convertToInteractive(key) {\n",
              "          const element = document.querySelector('#df-393261ba-367b-4fc2-b586-cb4c97bea48e');\n",
              "          const dataTable =\n",
              "            await google.colab.kernel.invokeFunction('convertToInteractive',\n",
              "                                                     [key], {});\n",
              "          if (!dataTable) return;\n",
              "\n",
              "          const docLinkHtml = 'Like what you see? Visit the ' +\n",
              "            '<a target=\"_blank\" href=https://colab.research.google.com/notebooks/data_table.ipynb>data table notebook</a>'\n",
              "            + ' to learn more about interactive tables.';\n",
              "          element.innerHTML = '';\n",
              "          dataTable['output_type'] = 'display_data';\n",
              "          await google.colab.output.renderOutput(dataTable, element);\n",
              "          const docLink = document.createElement('div');\n",
              "          docLink.innerHTML = docLinkHtml;\n",
              "          element.appendChild(docLink);\n",
              "        }\n",
              "      </script>\n",
              "    </div>\n",
              "  </div>\n",
              "  "
            ]
          },
          "metadata": {},
          "execution_count": 64
        }
      ]
    },
    {
      "cell_type": "code",
      "source": [
        "pred = pol_perceptron_cv.predict(X_val)\n",
        "print(classification_report(y_val, pred))"
      ],
      "metadata": {
        "id": "2nLg_eZ7rxxJ",
        "colab": {
          "base_uri": "https://localhost:8080/"
        },
        "outputId": "e0b0a165-7a9f-44d4-c1c6-434e624545c5"
      },
      "execution_count": 65,
      "outputs": [
        {
          "output_type": "stream",
          "name": "stdout",
          "text": [
            "              precision    recall  f1-score   support\n",
            "\n",
            "           0       0.75      0.75      0.75      1465\n",
            "           1       0.75      0.74      0.75      1457\n",
            "\n",
            "    accuracy                           0.75      2922\n",
            "   macro avg       0.75      0.75      0.75      2922\n",
            "weighted avg       0.75      0.75      0.75      2922\n",
            "\n"
          ]
        }
      ]
    },
    {
      "cell_type": "code",
      "source": [
        "pc_imp = pd.Series(pol_perceptron_cv.best_estimator_[2].coef_[0])\n",
        "pc_imp.nlargest(4).plot(kind='barh')"
      ],
      "metadata": {
        "id": "1VWd_bfnrxxL",
        "colab": {
          "base_uri": "https://localhost:8080/",
          "height": 295
        },
        "outputId": "20664705-4794-45d7-c200-783561428eda"
      },
      "execution_count": 66,
      "outputs": [
        {
          "output_type": "execute_result",
          "data": {
            "text/plain": [
              "<matplotlib.axes._subplots.AxesSubplot at 0x7f50d893cf10>"
            ]
          },
          "metadata": {},
          "execution_count": 66
        },
        {
          "output_type": "display_data",
          "data": {
            "text/plain": [
              "<Figure size 432x288 with 1 Axes>"
            ],
            "image/png": "[encoded data removed]"
          },
          "metadata": {
            "needs_background": "light"
          }
        }
      ]
    },
    {
      "cell_type": "markdown",
      "source": [
        "L'introduzione di features polinomiali sembra non aver migliorato il modello precedente, osserviamo che le features rilevanti per il modello sono una combinazione delle features orginali, non producendo di fatto un risultato utile ai fini della valutazione semantica del modello."
      ],
      "metadata": {
        "id": "my_9d0WdB2Ns"
      }
    },
    {
      "cell_type": "code",
      "source": [
        "pol_perc_mse = mean_squared_error(y_val, pol_perceptron_cv.predict(X_val))\n",
        "pol_perc_mse"
      ],
      "metadata": {
        "id": "g_HiJcAFrxxL",
        "colab": {
          "base_uri": "https://localhost:8080/"
        },
        "outputId": "e585dc5b-84fb-4ce5-aaee-59a4ca8d2515"
      },
      "execution_count": 67,
      "outputs": [
        {
          "output_type": "execute_result",
          "data": {
            "text/plain": [
              "0.2518822724161533"
            ]
          },
          "metadata": {},
          "execution_count": 67
        }
      ]
    },
    {
      "cell_type": "markdown",
      "source": [
        "### Logistc Regression"
      ],
      "metadata": {
        "id": "Nw1Tb1sftKvC"
      }
    },
    {
      "cell_type": "code",
      "source": [
        "from sklearn.linear_model import LogisticRegression\n",
        "\n",
        "std_lr = Pipeline([\n",
        "    ('scaler', StandardScaler()),\n",
        "    ('lr', LogisticRegression(dual=False, solver=\"saga\", random_state=42))\n",
        "])\n",
        "\n",
        "parameters = {\n",
        "    'scaler': [None, StandardScaler()],\n",
        "    'lr__penalty': ['l1', 'l2', 'elasticnet'],\n",
        "    'lr__C': [1, 0.8, 0.3, 0.1],\n",
        "    'lr__l1_ratio': [0.2, 0.5, 0.7]\n",
        "}\n",
        "\n",
        "lr = GridSearchCV(std_lr, parameters, cv=5, n_jobs=-1, return_train_score=True, scoring='f1')\n",
        "lr.fit(X_train, y_train)\n",
        "print(\"Grid search finish\")\n",
        "print('Accuracy on train {:.2f}%'.format(lr.score(X_train, y_train)*100))\n",
        "print('Accuracy on val {:.2f}%'.format(lr.score(X_val, y_val)*100))"
      ],
      "metadata": {
        "id": "wTAUkLcStYo2",
        "colab": {
          "base_uri": "https://localhost:8080/"
        },
        "outputId": "83040053-24e3-43ca-87d6-9796066a2721"
      },
      "execution_count": 68,
      "outputs": [
        {
          "output_type": "stream",
          "name": "stdout",
          "text": [
            "Grid search finish\n",
            "Accuracy on train 72.66%\n",
            "Accuracy on val 74.52%\n"
          ]
        }
      ]
    },
    {
      "cell_type": "code",
      "source": [
        "confidence = 95\n",
        "    \n",
        "l, u = proportion_confint(len(X_train) * lr.score(X_val, y_val), len(X_train), 1-confidence/100, method='wilson')\n",
        "print('Pmin =', l)\n",
        "print('Pmax =', u)"
      ],
      "metadata": {
        "colab": {
          "base_uri": "https://localhost:8080/"
        },
        "id": "TqKNeEyVCOus",
        "outputId": "2fc26403-fcd9-48e4-8573-e9664c89ca99"
      },
      "execution_count": 69,
      "outputs": [
        {
          "output_type": "stream",
          "name": "stdout",
          "text": [
            "Pmin = 0.7347535426909699\n",
            "Pmax = 0.755438125681976\n"
          ]
        }
      ]
    },
    {
      "cell_type": "code",
      "source": [
        "lr.best_params_"
      ],
      "metadata": {
        "id": "P8AbnlRBtYo4",
        "colab": {
          "base_uri": "https://localhost:8080/"
        },
        "outputId": "879b33e0-2cee-45e0-c01a-a50787a5fcd6"
      },
      "execution_count": 70,
      "outputs": [
        {
          "output_type": "execute_result",
          "data": {
            "text/plain": [
              "{'lr__C': 1,\n",
              " 'lr__l1_ratio': 0.2,\n",
              " 'lr__penalty': 'elasticnet',\n",
              " 'scaler': StandardScaler()}"
            ]
          },
          "metadata": {},
          "execution_count": 70
        }
      ]
    },
    {
      "cell_type": "code",
      "source": [
        "pd.DataFrame(lr.cv_results_).sort_values(\"rank_test_score\").head(5)"
      ],
      "metadata": {
        "id": "U4_twFMStYo5",
        "colab": {
          "base_uri": "https://localhost:8080/",
          "height": 552
        },
        "outputId": "6738d0ba-302d-44fd-a13b-a43af1d5f534"
      },
      "execution_count": 71,
      "outputs": [
        {
          "output_type": "execute_result",
          "data": {
            "text/plain": [
              "    mean_fit_time  std_fit_time  mean_score_time  std_score_time param_lr__C  \\\n",
              "5        0.092115      0.008731         0.004716        0.000272           1   \n",
              "3        0.163251      0.019832         0.007341        0.003535           1   \n",
              "15       0.073240      0.005211         0.004878        0.000519           1   \n",
              "9        0.070618      0.008405         0.004745        0.000460           1   \n",
              "11       0.093552      0.003534         0.004745        0.000430           1   \n",
              "\n",
              "   param_lr__l1_ratio param_lr__penalty      param_scaler  \\\n",
              "5                 0.2        elasticnet  StandardScaler()   \n",
              "3                 0.2                l2  StandardScaler()   \n",
              "15                0.7                l2  StandardScaler()   \n",
              "9                 0.5                l2  StandardScaler()   \n",
              "11                0.5        elasticnet  StandardScaler()   \n",
              "\n",
              "                                               params  split0_test_score  ...  \\\n",
              "5   {'lr__C': 1, 'lr__l1_ratio': 0.2, 'lr__penalty...           0.743719  ...   \n",
              "3   {'lr__C': 1, 'lr__l1_ratio': 0.2, 'lr__penalty...           0.743719  ...   \n",
              "15  {'lr__C': 1, 'lr__l1_ratio': 0.7, 'lr__penalty...           0.743719  ...   \n",
              "9   {'lr__C': 1, 'lr__l1_ratio': 0.5, 'lr__penalty...           0.743719  ...   \n",
              "11  {'lr__C': 1, 'lr__l1_ratio': 0.5, 'lr__penalty...           0.743719  ...   \n",
              "\n",
              "    mean_test_score  std_test_score  rank_test_score  split0_train_score  \\\n",
              "5          0.725012        0.015201                1            0.723145   \n",
              "3          0.724824        0.015109                2            0.722909   \n",
              "15         0.724824        0.015109                2            0.722909   \n",
              "9          0.724824        0.015109                2            0.722909   \n",
              "11         0.724747        0.015106                5            0.723279   \n",
              "\n",
              "    split1_train_score  split2_train_score  split3_train_score  \\\n",
              "5             0.728109            0.723796            0.730875   \n",
              "3             0.728109            0.723193            0.731009   \n",
              "15            0.728109            0.723193            0.731009   \n",
              "9             0.728109            0.723193            0.731009   \n",
              "11            0.727975            0.723428            0.730776   \n",
              "\n",
              "    split4_train_score  mean_train_score  std_train_score  \n",
              "5             0.722550          0.725695         0.003245  \n",
              "3             0.722785          0.725601         0.003362  \n",
              "15            0.722785          0.725601         0.003362  \n",
              "9             0.722785          0.725601         0.003362  \n",
              "11            0.722816          0.725655         0.003171  \n",
              "\n",
              "[5 rows x 24 columns]"
            ],
            "text/html": [
              "\n",
              "  <div id=\"df-85643c37-f54b-4e64-ac5b-ec3f6428c541\">\n",
              "    <div class=\"colab-df-container\">\n",
              "      <div>\n",
              "<style scoped>\n",
              "    .dataframe tbody tr th:only-of-type {\n",
              "        vertical-align: middle;\n",
              "    }\n",
              "\n",
              "    .dataframe tbody tr th {\n",
              "        vertical-align: top;\n",
              "    }\n",
              "\n",
              "    .dataframe thead th {\n",
              "        text-align: right;\n",
              "    }\n",
              "</style>\n",
              "<table border=\"1\" class=\"dataframe\">\n",
              "  <thead>\n",
              "    <tr style=\"text-align: right;\">\n",
              "      <th></th>\n",
              "      <th>mean_fit_time</th>\n",
              "      <th>std_fit_time</th>\n",
              "      <th>mean_score_time</th>\n",
              "      <th>std_score_time</th>\n",
              "      <th>param_lr__C</th>\n",
              "      <th>param_lr__l1_ratio</th>\n",
              "      <th>param_lr__penalty</th>\n",
              "      <th>param_scaler</th>\n",
              "      <th>params</th>\n",
              "      <th>split0_test_score</th>\n",
              "      <th>...</th>\n",
              "      <th>mean_test_score</th>\n",
              "      <th>std_test_score</th>\n",
              "      <th>rank_test_score</th>\n",
              "      <th>split0_train_score</th>\n",
              "      <th>split1_train_score</th>\n",
              "      <th>split2_train_score</th>\n",
              "      <th>split3_train_score</th>\n",
              "      <th>split4_train_score</th>\n",
              "      <th>mean_train_score</th>\n",
              "      <th>std_train_score</th>\n",
              "    </tr>\n",
              "  </thead>\n",
              "  <tbody>\n",
              "    <tr>\n",
              "      <th>5</th>\n",
              "      <td>0.092115</td>\n",
              "      <td>0.008731</td>\n",
              "      <td>0.004716</td>\n",
              "      <td>0.000272</td>\n",
              "      <td>1</td>\n",
              "      <td>0.2</td>\n",
              "      <td>elasticnet</td>\n",
              "      <td>StandardScaler()</td>\n",
              "      <td>{'lr__C': 1, 'lr__l1_ratio': 0.2, 'lr__penalty...</td>\n",
              "      <td>0.743719</td>\n",
              "      <td>...</td>\n",
              "      <td>0.725012</td>\n",
              "      <td>0.015201</td>\n",
              "      <td>1</td>\n",
              "      <td>0.723145</td>\n",
              "      <td>0.728109</td>\n",
              "      <td>0.723796</td>\n",
              "      <td>0.730875</td>\n",
              "      <td>0.722550</td>\n",
              "      <td>0.725695</td>\n",
              "      <td>0.003245</td>\n",
              "    </tr>\n",
              "    <tr>\n",
              "      <th>3</th>\n",
              "      <td>0.163251</td>\n",
              "      <td>0.019832</td>\n",
              "      <td>0.007341</td>\n",
              "      <td>0.003535</td>\n",
              "      <td>1</td>\n",
              "      <td>0.2</td>\n",
              "      <td>l2</td>\n",
              "      <td>StandardScaler()</td>\n",
              "      <td>{'lr__C': 1, 'lr__l1_ratio': 0.2, 'lr__penalty...</td>\n",
              "      <td>0.743719</td>\n",
              "      <td>...</td>\n",
              "      <td>0.724824</td>\n",
              "      <td>0.015109</td>\n",
              "      <td>2</td>\n",
              "      <td>0.722909</td>\n",
              "      <td>0.728109</td>\n",
              "      <td>0.723193</td>\n",
              "      <td>0.731009</td>\n",
              "      <td>0.722785</td>\n",
              "      <td>0.725601</td>\n",
              "      <td>0.003362</td>\n",
              "    </tr>\n",
              "    <tr>\n",
              "      <th>15</th>\n",
              "      <td>0.073240</td>\n",
              "      <td>0.005211</td>\n",
              "      <td>0.004878</td>\n",
              "      <td>0.000519</td>\n",
              "      <td>1</td>\n",
              "      <td>0.7</td>\n",
              "      <td>l2</td>\n",
              "      <td>StandardScaler()</td>\n",
              "      <td>{'lr__C': 1, 'lr__l1_ratio': 0.7, 'lr__penalty...</td>\n",
              "      <td>0.743719</td>\n",
              "      <td>...</td>\n",
              "      <td>0.724824</td>\n",
              "      <td>0.015109</td>\n",
              "      <td>2</td>\n",
              "      <td>0.722909</td>\n",
              "      <td>0.728109</td>\n",
              "      <td>0.723193</td>\n",
              "      <td>0.731009</td>\n",
              "      <td>0.722785</td>\n",
              "      <td>0.725601</td>\n",
              "      <td>0.003362</td>\n",
              "    </tr>\n",
              "    <tr>\n",
              "      <th>9</th>\n",
              "      <td>0.070618</td>\n",
              "      <td>0.008405</td>\n",
              "      <td>0.004745</td>\n",
              "      <td>0.000460</td>\n",
              "      <td>1</td>\n",
              "      <td>0.5</td>\n",
              "      <td>l2</td>\n",
              "      <td>StandardScaler()</td>\n",
              "      <td>{'lr__C': 1, 'lr__l1_ratio': 0.5, 'lr__penalty...</td>\n",
              "      <td>0.743719</td>\n",
              "      <td>...</td>\n",
              "      <td>0.724824</td>\n",
              "      <td>0.015109</td>\n",
              "      <td>2</td>\n",
              "      <td>0.722909</td>\n",
              "      <td>0.728109</td>\n",
              "      <td>0.723193</td>\n",
              "      <td>0.731009</td>\n",
              "      <td>0.722785</td>\n",
              "      <td>0.725601</td>\n",
              "      <td>0.003362</td>\n",
              "    </tr>\n",
              "    <tr>\n",
              "      <th>11</th>\n",
              "      <td>0.093552</td>\n",
              "      <td>0.003534</td>\n",
              "      <td>0.004745</td>\n",
              "      <td>0.000430</td>\n",
              "      <td>1</td>\n",
              "      <td>0.5</td>\n",
              "      <td>elasticnet</td>\n",
              "      <td>StandardScaler()</td>\n",
              "      <td>{'lr__C': 1, 'lr__l1_ratio': 0.5, 'lr__penalty...</td>\n",
              "      <td>0.743719</td>\n",
              "      <td>...</td>\n",
              "      <td>0.724747</td>\n",
              "      <td>0.015106</td>\n",
              "      <td>5</td>\n",
              "      <td>0.723279</td>\n",
              "      <td>0.727975</td>\n",
              "      <td>0.723428</td>\n",
              "      <td>0.730776</td>\n",
              "      <td>0.722816</td>\n",
              "      <td>0.725655</td>\n",
              "      <td>0.003171</td>\n",
              "    </tr>\n",
              "  </tbody>\n",
              "</table>\n",
              "<p>5 rows × 24 columns</p>\n",
              "</div>\n",
              "      <button class=\"colab-df-convert\" onclick=\"convertToInteractive('df-85643c37-f54b-4e64-ac5b-ec3f6428c541')\"\n",
              "              title=\"Convert this dataframe to an interactive table.\"\n",
              "              style=\"display:none;\">\n",
              "        \n",
              "  <svg xmlns=\"http://www.w3.org/2000/svg\" height=\"24px\"viewBox=\"0 0 24 24\"\n",
              "       width=\"24px\">\n",
              "    <path d=\"M0 0h24v24H0V0z\" fill=\"none\"/>\n",
              "    <path d=\"M18.56 5.44l.94 2.06.94-2.06 2.06-.94-2.06-.94-.94-2.06-.94 2.06-2.06.94zm-11 1L8.5 8.5l.94-2.06 2.06-.94-2.06-.94L8.5 2.5l-.94 2.06-2.06.94zm10 10l.94 2.06.94-2.06 2.06-.94-2.06-.94-.94-2.06-.94 2.06-2.06.94z\"/><path d=\"M17.41 7.96l-1.37-1.37c-.4-.4-.92-.59-1.43-.59-.52 0-1.04.2-1.43.59L10.3 9.45l-7.72 7.72c-.78.78-.78 2.05 0 2.83L4 21.41c.39.39.9.59 1.41.59.51 0 1.02-.2 1.41-.59l7.78-7.78 2.81-2.81c.8-.78.8-2.07 0-2.86zM5.41 20L4 18.59l7.72-7.72 1.47 1.35L5.41 20z\"/>\n",
              "  </svg>\n",
              "      </button>\n",
              "      \n",
              "  <style>\n",
              "    .colab-df-container {\n",
              "      display:flex;\n",
              "      flex-wrap:wrap;\n",
              "      gap: 12px;\n",
              "    }\n",
              "\n",
              "    .colab-df-convert {\n",
              "      background-color: #E8F0FE;\n",
              "      border: none;\n",
              "      border-radius: 50%;\n",
              "      cursor: pointer;\n",
              "      display: none;\n",
              "      fill: #1967D2;\n",
              "      height: 32px;\n",
              "      padding: 0 0 0 0;\n",
              "      width: 32px;\n",
              "    }\n",
              "\n",
              "    .colab-df-convert:hover {\n",
              "      background-color: #E2EBFA;\n",
              "      box-shadow: 0px 1px 2px rgba(60, 64, 67, 0.3), 0px 1px 3px 1px rgba(60, 64, 67, 0.15);\n",
              "      fill: #174EA6;\n",
              "    }\n",
              "\n",
              "    [theme=dark] .colab-df-convert {\n",
              "      background-color: #3B4455;\n",
              "      fill: #D2E3FC;\n",
              "    }\n",
              "\n",
              "    [theme=dark] .colab-df-convert:hover {\n",
              "      background-color: #434B5C;\n",
              "      box-shadow: 0px 1px 3px 1px rgba(0, 0, 0, 0.15);\n",
              "      filter: drop-shadow(0px 1px 2px rgba(0, 0, 0, 0.3));\n",
              "      fill: #FFFFFF;\n",
              "    }\n",
              "  </style>\n",
              "\n",
              "      <script>\n",
              "        const buttonEl =\n",
              "          document.querySelector('#df-85643c37-f54b-4e64-ac5b-ec3f6428c541 button.colab-df-convert');\n",
              "        buttonEl.style.display =\n",
              "          google.colab.kernel.accessAllowed ? 'block' : 'none';\n",
              "\n",
              "        async function convertToInteractive(key) {\n",
              "          const element = document.querySelector('#df-85643c37-f54b-4e64-ac5b-ec3f6428c541');\n",
              "          const dataTable =\n",
              "            await google.colab.kernel.invokeFunction('convertToInteractive',\n",
              "                                                     [key], {});\n",
              "          if (!dataTable) return;\n",
              "\n",
              "          const docLinkHtml = 'Like what you see? Visit the ' +\n",
              "            '<a target=\"_blank\" href=https://colab.research.google.com/notebooks/data_table.ipynb>data table notebook</a>'\n",
              "            + ' to learn more about interactive tables.';\n",
              "          element.innerHTML = '';\n",
              "          dataTable['output_type'] = 'display_data';\n",
              "          await google.colab.output.renderOutput(dataTable, element);\n",
              "          const docLink = document.createElement('div');\n",
              "          docLink.innerHTML = docLinkHtml;\n",
              "          element.appendChild(docLink);\n",
              "        }\n",
              "      </script>\n",
              "    </div>\n",
              "  </div>\n",
              "  "
            ]
          },
          "metadata": {},
          "execution_count": 71
        }
      ]
    },
    {
      "cell_type": "code",
      "source": [
        "lr.best_score_"
      ],
      "metadata": {
        "id": "uyJLgBygtYo5",
        "colab": {
          "base_uri": "https://localhost:8080/"
        },
        "outputId": "4145225e-e79e-410b-fe47-821e5e549ce6"
      },
      "execution_count": 72,
      "outputs": [
        {
          "output_type": "execute_result",
          "data": {
            "text/plain": [
              "0.7250119939397317"
            ]
          },
          "metadata": {},
          "execution_count": 72
        }
      ]
    },
    {
      "cell_type": "code",
      "source": [
        "y_pred = lr.predict(X_val)\n",
        "cm = confusion_matrix(y_val, y_pred)\n",
        "pd.DataFrame(cm, index=lr.classes_, columns=lr.classes_)"
      ],
      "metadata": {
        "id": "Dfg9EikYtYo5",
        "colab": {
          "base_uri": "https://localhost:8080/",
          "height": 111
        },
        "outputId": "1af783b5-303a-4477-8c94-84061a35c7fb"
      },
      "execution_count": 73,
      "outputs": [
        {
          "output_type": "execute_result",
          "data": {
            "text/plain": [
              "      0     1\n",
              "0  1112   353\n",
              "1   382  1075"
            ],
            "text/html": [
              "\n",
              "  <div id=\"df-ed6e4f1b-647d-495e-a231-2929bd2172ee\">\n",
              "    <div class=\"colab-df-container\">\n",
              "      <div>\n",
              "<style scoped>\n",
              "    .dataframe tbody tr th:only-of-type {\n",
              "        vertical-align: middle;\n",
              "    }\n",
              "\n",
              "    .dataframe tbody tr th {\n",
              "        vertical-align: top;\n",
              "    }\n",
              "\n",
              "    .dataframe thead th {\n",
              "        text-align: right;\n",
              "    }\n",
              "</style>\n",
              "<table border=\"1\" class=\"dataframe\">\n",
              "  <thead>\n",
              "    <tr style=\"text-align: right;\">\n",
              "      <th></th>\n",
              "      <th>0</th>\n",
              "      <th>1</th>\n",
              "    </tr>\n",
              "  </thead>\n",
              "  <tbody>\n",
              "    <tr>\n",
              "      <th>0</th>\n",
              "      <td>1112</td>\n",
              "      <td>353</td>\n",
              "    </tr>\n",
              "    <tr>\n",
              "      <th>1</th>\n",
              "      <td>382</td>\n",
              "      <td>1075</td>\n",
              "    </tr>\n",
              "  </tbody>\n",
              "</table>\n",
              "</div>\n",
              "      <button class=\"colab-df-convert\" onclick=\"convertToInteractive('df-ed6e4f1b-647d-495e-a231-2929bd2172ee')\"\n",
              "              title=\"Convert this dataframe to an interactive table.\"\n",
              "              style=\"display:none;\">\n",
              "        \n",
              "  <svg xmlns=\"http://www.w3.org/2000/svg\" height=\"24px\"viewBox=\"0 0 24 24\"\n",
              "       width=\"24px\">\n",
              "    <path d=\"M0 0h24v24H0V0z\" fill=\"none\"/>\n",
              "    <path d=\"M18.56 5.44l.94 2.06.94-2.06 2.06-.94-2.06-.94-.94-2.06-.94 2.06-2.06.94zm-11 1L8.5 8.5l.94-2.06 2.06-.94-2.06-.94L8.5 2.5l-.94 2.06-2.06.94zm10 10l.94 2.06.94-2.06 2.06-.94-2.06-.94-.94-2.06-.94 2.06-2.06.94z\"/><path d=\"M17.41 7.96l-1.37-1.37c-.4-.4-.92-.59-1.43-.59-.52 0-1.04.2-1.43.59L10.3 9.45l-7.72 7.72c-.78.78-.78 2.05 0 2.83L4 21.41c.39.39.9.59 1.41.59.51 0 1.02-.2 1.41-.59l7.78-7.78 2.81-2.81c.8-.78.8-2.07 0-2.86zM5.41 20L4 18.59l7.72-7.72 1.47 1.35L5.41 20z\"/>\n",
              "  </svg>\n",
              "      </button>\n",
              "      \n",
              "  <style>\n",
              "    .colab-df-container {\n",
              "      display:flex;\n",
              "      flex-wrap:wrap;\n",
              "      gap: 12px;\n",
              "    }\n",
              "\n",
              "    .colab-df-convert {\n",
              "      background-color: #E8F0FE;\n",
              "      border: none;\n",
              "      border-radius: 50%;\n",
              "      cursor: pointer;\n",
              "      display: none;\n",
              "      fill: #1967D2;\n",
              "      height: 32px;\n",
              "      padding: 0 0 0 0;\n",
              "      width: 32px;\n",
              "    }\n",
              "\n",
              "    .colab-df-convert:hover {\n",
              "      background-color: #E2EBFA;\n",
              "      box-shadow: 0px 1px 2px rgba(60, 64, 67, 0.3), 0px 1px 3px 1px rgba(60, 64, 67, 0.15);\n",
              "      fill: #174EA6;\n",
              "    }\n",
              "\n",
              "    [theme=dark] .colab-df-convert {\n",
              "      background-color: #3B4455;\n",
              "      fill: #D2E3FC;\n",
              "    }\n",
              "\n",
              "    [theme=dark] .colab-df-convert:hover {\n",
              "      background-color: #434B5C;\n",
              "      box-shadow: 0px 1px 3px 1px rgba(0, 0, 0, 0.15);\n",
              "      filter: drop-shadow(0px 1px 2px rgba(0, 0, 0, 0.3));\n",
              "      fill: #FFFFFF;\n",
              "    }\n",
              "  </style>\n",
              "\n",
              "      <script>\n",
              "        const buttonEl =\n",
              "          document.querySelector('#df-ed6e4f1b-647d-495e-a231-2929bd2172ee button.colab-df-convert');\n",
              "        buttonEl.style.display =\n",
              "          google.colab.kernel.accessAllowed ? 'block' : 'none';\n",
              "\n",
              "        async function convertToInteractive(key) {\n",
              "          const element = document.querySelector('#df-ed6e4f1b-647d-495e-a231-2929bd2172ee');\n",
              "          const dataTable =\n",
              "            await google.colab.kernel.invokeFunction('convertToInteractive',\n",
              "                                                     [key], {});\n",
              "          if (!dataTable) return;\n",
              "\n",
              "          const docLinkHtml = 'Like what you see? Visit the ' +\n",
              "            '<a target=\"_blank\" href=https://colab.research.google.com/notebooks/data_table.ipynb>data table notebook</a>'\n",
              "            + ' to learn more about interactive tables.';\n",
              "          element.innerHTML = '';\n",
              "          dataTable['output_type'] = 'display_data';\n",
              "          await google.colab.output.renderOutput(dataTable, element);\n",
              "          const docLink = document.createElement('div');\n",
              "          docLink.innerHTML = docLinkHtml;\n",
              "          element.appendChild(docLink);\n",
              "        }\n",
              "      </script>\n",
              "    </div>\n",
              "  </div>\n",
              "  "
            ]
          },
          "metadata": {},
          "execution_count": 73
        }
      ]
    },
    {
      "cell_type": "code",
      "source": [
        "pred = lr.predict(X_val)\n",
        "print(classification_report(y_val, pred))"
      ],
      "metadata": {
        "colab": {
          "base_uri": "https://localhost:8080/"
        },
        "id": "nqYzL_T85-lo",
        "outputId": "3fc1fbfd-6450-4841-e909-a809b0eea998"
      },
      "execution_count": 74,
      "outputs": [
        {
          "output_type": "stream",
          "name": "stdout",
          "text": [
            "              precision    recall  f1-score   support\n",
            "\n",
            "           0       0.74      0.76      0.75      1465\n",
            "           1       0.75      0.74      0.75      1457\n",
            "\n",
            "    accuracy                           0.75      2922\n",
            "   macro avg       0.75      0.75      0.75      2922\n",
            "weighted avg       0.75      0.75      0.75      2922\n",
            "\n"
          ]
        }
      ]
    },
    {
      "cell_type": "code",
      "source": [
        "pc_imp = pd.Series(lr.best_estimator_[1].coef_[0], index=X_train.columns)\n",
        "pc_imp.plot(kind='barh')"
      ],
      "metadata": {
        "id": "t8b78X74tYo7",
        "colab": {
          "base_uri": "https://localhost:8080/",
          "height": 282
        },
        "outputId": "af665911-0f62-496e-be74-1d27a85469ea"
      },
      "execution_count": 75,
      "outputs": [
        {
          "output_type": "execute_result",
          "data": {
            "text/plain": [
              "<matplotlib.axes._subplots.AxesSubplot at 0x7f50d8a69400>"
            ]
          },
          "metadata": {},
          "execution_count": 75
        },
        {
          "output_type": "display_data",
          "data": {
            "text/plain": [
              "<Figure size 432x288 with 1 Axes>"
            ],
            "image/png": "[encoded data removed]"
          },
          "metadata": {
            "needs_background": "light"
          }
        }
      ]
    },
    {
      "cell_type": "markdown",
      "source": [
        "Il modello ha evidenziato le stesse feature rilevanti che ci siamo aspettati da Perceptron. Vediamo \"sparire\" la variabile `TotalJungleMinionKilled` tra le migliori feature. Vediamo spuntare per la prima volta `blueDragons` a seguito delle altre. Questo risulta accettabile in quanto accumulare draghi può risultare in una **win condition** all'interno del gioco."
      ],
      "metadata": {
        "id": "fy1UFUNn24RP"
      }
    },
    {
      "cell_type": "code",
      "source": [
        "lr_mse = mean_squared_error(y_val, lr.predict(X_val))\n",
        "lr_mse"
      ],
      "metadata": {
        "id": "yyVpBMx5tYo7",
        "colab": {
          "base_uri": "https://localhost:8080/"
        },
        "outputId": "da827ada-d74e-4199-e376-04f311783ec4"
      },
      "execution_count": 76,
      "outputs": [
        {
          "output_type": "execute_result",
          "data": {
            "text/plain": [
              "0.2515400410677618"
            ]
          },
          "metadata": {},
          "execution_count": 76
        }
      ]
    },
    {
      "cell_type": "markdown",
      "source": [
        "### Random Forrest"
      ],
      "metadata": {
        "id": "d75K6Snruda-"
      }
    },
    {
      "cell_type": "code",
      "source": [
        "from sklearn.ensemble import RandomForestClassifier\n",
        "from sklearn.metrics import classification_report\n",
        "\n",
        "rfc_model = Pipeline([\n",
        "    ('scaler', StandardScaler()),\n",
        "    ('rfc', RandomForestClassifier(n_jobs=-1, random_state=42))\n",
        "])\n",
        "\n",
        "parameters = {\n",
        "    'scaler': [None, StandardScaler()],\n",
        "    'rfc__n_estimators': [100, 200, 300],\n",
        "    'rfc__max_depth': [2, 4, 6, 8, 10],\n",
        "}\n",
        "    \n",
        "\n",
        "rfc = GridSearchCV(rfc_model, parameters, cv=5, n_jobs=-1, return_train_score=True, scoring='f1')\n",
        "rfc.fit(X_train, y_train)\n",
        "\n",
        "print('Random Forest GridSearch finish')\n",
        "print('Accuracy on train {:.2f}%'.format(rfc.score(X_train, y_train)*100))\n",
        "print('Accuracy on val {:.2f}%'.format(rfc.score(X_val, y_val)*100))"
      ],
      "metadata": {
        "id": "vcNDa-P2ulkk",
        "colab": {
          "base_uri": "https://localhost:8080/"
        },
        "outputId": "e3ebdffc-cebf-484f-e0b9-ec3f1f3b1654"
      },
      "execution_count": 77,
      "outputs": [
        {
          "output_type": "stream",
          "name": "stdout",
          "text": [
            "Random Forest GridSearch finish\n",
            "Accuracy on train 74.37%\n",
            "Accuracy on val 73.55%\n"
          ]
        }
      ]
    },
    {
      "cell_type": "code",
      "source": [
        "confidence = 95\n",
        "    \n",
        "l, u = proportion_confint(len(X_train) * rfc.score(X_val, y_val), len(X_train), 1-confidence/100, method='wilson')\n",
        "print('Pmin =', l)\n",
        "print('Pmax =', u)"
      ],
      "metadata": {
        "colab": {
          "base_uri": "https://localhost:8080/"
        },
        "id": "aw81h5_nD2hg",
        "outputId": "a096a585-deaf-44ba-8b87-5172cbb69d77"
      },
      "execution_count": 78,
      "outputs": [
        {
          "output_type": "stream",
          "name": "stdout",
          "text": [
            "Pmin = 0.7248683496226194\n",
            "Pmax = 0.7458068525085257\n"
          ]
        }
      ]
    },
    {
      "cell_type": "code",
      "source": [
        "rfc.best_params_"
      ],
      "metadata": {
        "id": "eZMb55qdulkm",
        "colab": {
          "base_uri": "https://localhost:8080/"
        },
        "outputId": "a39c8f4c-4aac-46c6-b345-d02b26b2fa16"
      },
      "execution_count": 79,
      "outputs": [
        {
          "output_type": "execute_result",
          "data": {
            "text/plain": [
              "{'rfc__max_depth': 6, 'rfc__n_estimators': 200, 'scaler': None}"
            ]
          },
          "metadata": {},
          "execution_count": 79
        }
      ]
    },
    {
      "cell_type": "code",
      "source": [
        "pd.DataFrame(rfc.cv_results_).sort_values(\"rank_test_score\").head(5)"
      ],
      "metadata": {
        "id": "uKgyTeIqulkn",
        "colab": {
          "base_uri": "https://localhost:8080/",
          "height": 552
        },
        "outputId": "5bd98e66-71fc-4e34-9972-53fa42a8e5e9"
      },
      "execution_count": 80,
      "outputs": [
        {
          "output_type": "execute_result",
          "data": {
            "text/plain": [
              "    mean_fit_time  std_fit_time  mean_score_time  std_score_time  \\\n",
              "14       1.619731      0.029036         0.097578        0.002381   \n",
              "15       2.163510      0.691432         0.121464        0.030259   \n",
              "17       2.865912      0.374618         0.175294        0.036106   \n",
              "16       2.497529      0.111974         0.168204        0.023218   \n",
              "19       1.821619      0.101838         0.073798        0.018758   \n",
              "\n",
              "   param_rfc__max_depth param_rfc__n_estimators      param_scaler  \\\n",
              "14                    6                     200              None   \n",
              "15                    6                     200  StandardScaler()   \n",
              "17                    6                     300  StandardScaler()   \n",
              "16                    6                     300              None   \n",
              "19                    8                     100  StandardScaler()   \n",
              "\n",
              "                                               params  split0_test_score  \\\n",
              "14  {'rfc__max_depth': 6, 'rfc__n_estimators': 200...           0.731672   \n",
              "15  {'rfc__max_depth': 6, 'rfc__n_estimators': 200...           0.731672   \n",
              "17  {'rfc__max_depth': 6, 'rfc__n_estimators': 300...           0.735683   \n",
              "16  {'rfc__max_depth': 6, 'rfc__n_estimators': 300...           0.735683   \n",
              "19  {'rfc__max_depth': 8, 'rfc__n_estimators': 100...           0.737455   \n",
              "\n",
              "    split1_test_score  ...  mean_test_score  std_test_score  rank_test_score  \\\n",
              "14           0.719183  ...         0.717697        0.012512                1   \n",
              "15           0.719183  ...         0.717697        0.012512                1   \n",
              "17           0.719477  ...         0.717013        0.015283                3   \n",
              "16           0.719477  ...         0.716930        0.015023                4   \n",
              "19           0.715424  ...         0.716170        0.016179                5   \n",
              "\n",
              "    split0_train_score  split1_train_score  split2_train_score  \\\n",
              "14            0.744334            0.749349            0.744936   \n",
              "15            0.744569            0.749349            0.745076   \n",
              "17            0.745260            0.750279            0.742986   \n",
              "16            0.745120            0.750279            0.742707   \n",
              "19            0.793942            0.797770            0.790802   \n",
              "\n",
              "    split3_train_score  split4_train_score  mean_train_score  std_train_score  \n",
              "14            0.749248            0.744799          0.746533         0.002267  \n",
              "15            0.749107            0.744799          0.746580         0.002169  \n",
              "17            0.748353            0.744602          0.746296         0.002646  \n",
              "16            0.748353            0.744602          0.746212         0.002728  \n",
              "19            0.794829            0.789366          0.793342         0.002981  \n",
              "\n",
              "[5 rows x 23 columns]"
            ],
            "text/html": [
              "\n",
              "  <div id=\"df-72bbed7d-4307-46e2-a7c1-2be8c43906cf\">\n",
              "    <div class=\"colab-df-container\">\n",
              "      <div>\n",
              "<style scoped>\n",
              "    .dataframe tbody tr th:only-of-type {\n",
              "        vertical-align: middle;\n",
              "    }\n",
              "\n",
              "    .dataframe tbody tr th {\n",
              "        vertical-align: top;\n",
              "    }\n",
              "\n",
              "    .dataframe thead th {\n",
              "        text-align: right;\n",
              "    }\n",
              "</style>\n",
              "<table border=\"1\" class=\"dataframe\">\n",
              "  <thead>\n",
              "    <tr style=\"text-align: right;\">\n",
              "      <th></th>\n",
              "      <th>mean_fit_time</th>\n",
              "      <th>std_fit_time</th>\n",
              "      <th>mean_score_time</th>\n",
              "      <th>std_score_time</th>\n",
              "      <th>param_rfc__max_depth</th>\n",
              "      <th>param_rfc__n_estimators</th>\n",
              "      <th>param_scaler</th>\n",
              "      <th>params</th>\n",
              "      <th>split0_test_score</th>\n",
              "      <th>split1_test_score</th>\n",
              "      <th>...</th>\n",
              "      <th>mean_test_score</th>\n",
              "      <th>std_test_score</th>\n",
              "      <th>rank_test_score</th>\n",
              "      <th>split0_train_score</th>\n",
              "      <th>split1_train_score</th>\n",
              "      <th>split2_train_score</th>\n",
              "      <th>split3_train_score</th>\n",
              "      <th>split4_train_score</th>\n",
              "      <th>mean_train_score</th>\n",
              "      <th>std_train_score</th>\n",
              "    </tr>\n",
              "  </thead>\n",
              "  <tbody>\n",
              "    <tr>\n",
              "      <th>14</th>\n",
              "      <td>1.619731</td>\n",
              "      <td>0.029036</td>\n",
              "      <td>0.097578</td>\n",
              "      <td>0.002381</td>\n",
              "      <td>6</td>\n",
              "      <td>200</td>\n",
              "      <td>None</td>\n",
              "      <td>{'rfc__max_depth': 6, 'rfc__n_estimators': 200...</td>\n",
              "      <td>0.731672</td>\n",
              "      <td>0.719183</td>\n",
              "      <td>...</td>\n",
              "      <td>0.717697</td>\n",
              "      <td>0.012512</td>\n",
              "      <td>1</td>\n",
              "      <td>0.744334</td>\n",
              "      <td>0.749349</td>\n",
              "      <td>0.744936</td>\n",
              "      <td>0.749248</td>\n",
              "      <td>0.744799</td>\n",
              "      <td>0.746533</td>\n",
              "      <td>0.002267</td>\n",
              "    </tr>\n",
              "    <tr>\n",
              "      <th>15</th>\n",
              "      <td>2.163510</td>\n",
              "      <td>0.691432</td>\n",
              "      <td>0.121464</td>\n",
              "      <td>0.030259</td>\n",
              "      <td>6</td>\n",
              "      <td>200</td>\n",
              "      <td>StandardScaler()</td>\n",
              "      <td>{'rfc__max_depth': 6, 'rfc__n_estimators': 200...</td>\n",
              "      <td>0.731672</td>\n",
              "      <td>0.719183</td>\n",
              "      <td>...</td>\n",
              "      <td>0.717697</td>\n",
              "      <td>0.012512</td>\n",
              "      <td>1</td>\n",
              "      <td>0.744569</td>\n",
              "      <td>0.749349</td>\n",
              "      <td>0.745076</td>\n",
              "      <td>0.749107</td>\n",
              "      <td>0.744799</td>\n",
              "      <td>0.746580</td>\n",
              "      <td>0.002169</td>\n",
              "    </tr>\n",
              "    <tr>\n",
              "      <th>17</th>\n",
              "      <td>2.865912</td>\n",
              "      <td>0.374618</td>\n",
              "      <td>0.175294</td>\n",
              "      <td>0.036106</td>\n",
              "      <td>6</td>\n",
              "      <td>300</td>\n",
              "      <td>StandardScaler()</td>\n",
              "      <td>{'rfc__max_depth': 6, 'rfc__n_estimators': 300...</td>\n",
              "      <td>0.735683</td>\n",
              "      <td>0.719477</td>\n",
              "      <td>...</td>\n",
              "      <td>0.717013</td>\n",
              "      <td>0.015283</td>\n",
              "      <td>3</td>\n",
              "      <td>0.745260</td>\n",
              "      <td>0.750279</td>\n",
              "      <td>0.742986</td>\n",
              "      <td>0.748353</td>\n",
              "      <td>0.744602</td>\n",
              "      <td>0.746296</td>\n",
              "      <td>0.002646</td>\n",
              "    </tr>\n",
              "    <tr>\n",
              "      <th>16</th>\n",
              "      <td>2.497529</td>\n",
              "      <td>0.111974</td>\n",
              "      <td>0.168204</td>\n",
              "      <td>0.023218</td>\n",
              "      <td>6</td>\n",
              "      <td>300</td>\n",
              "      <td>None</td>\n",
              "      <td>{'rfc__max_depth': 6, 'rfc__n_estimators': 300...</td>\n",
              "      <td>0.735683</td>\n",
              "      <td>0.719477</td>\n",
              "      <td>...</td>\n",
              "      <td>0.716930</td>\n",
              "      <td>0.015023</td>\n",
              "      <td>4</td>\n",
              "      <td>0.745120</td>\n",
              "      <td>0.750279</td>\n",
              "      <td>0.742707</td>\n",
              "      <td>0.748353</td>\n",
              "      <td>0.744602</td>\n",
              "      <td>0.746212</td>\n",
              "      <td>0.002728</td>\n",
              "    </tr>\n",
              "    <tr>\n",
              "      <th>19</th>\n",
              "      <td>1.821619</td>\n",
              "      <td>0.101838</td>\n",
              "      <td>0.073798</td>\n",
              "      <td>0.018758</td>\n",
              "      <td>8</td>\n",
              "      <td>100</td>\n",
              "      <td>StandardScaler()</td>\n",
              "      <td>{'rfc__max_depth': 8, 'rfc__n_estimators': 100...</td>\n",
              "      <td>0.737455</td>\n",
              "      <td>0.715424</td>\n",
              "      <td>...</td>\n",
              "      <td>0.716170</td>\n",
              "      <td>0.016179</td>\n",
              "      <td>5</td>\n",
              "      <td>0.793942</td>\n",
              "      <td>0.797770</td>\n",
              "      <td>0.790802</td>\n",
              "      <td>0.794829</td>\n",
              "      <td>0.789366</td>\n",
              "      <td>0.793342</td>\n",
              "      <td>0.002981</td>\n",
              "    </tr>\n",
              "  </tbody>\n",
              "</table>\n",
              "<p>5 rows × 23 columns</p>\n",
              "</div>\n",
              "      <button class=\"colab-df-convert\" onclick=\"convertToInteractive('df-72bbed7d-4307-46e2-a7c1-2be8c43906cf')\"\n",
              "              title=\"Convert this dataframe to an interactive table.\"\n",
              "              style=\"display:none;\">\n",
              "        \n",
              "  <svg xmlns=\"http://www.w3.org/2000/svg\" height=\"24px\"viewBox=\"0 0 24 24\"\n",
              "       width=\"24px\">\n",
              "    <path d=\"M0 0h24v24H0V0z\" fill=\"none\"/>\n",
              "    <path d=\"M18.56 5.44l.94 2.06.94-2.06 2.06-.94-2.06-.94-.94-2.06-.94 2.06-2.06.94zm-11 1L8.5 8.5l.94-2.06 2.06-.94-2.06-.94L8.5 2.5l-.94 2.06-2.06.94zm10 10l.94 2.06.94-2.06 2.06-.94-2.06-.94-.94-2.06-.94 2.06-2.06.94z\"/><path d=\"M17.41 7.96l-1.37-1.37c-.4-.4-.92-.59-1.43-.59-.52 0-1.04.2-1.43.59L10.3 9.45l-7.72 7.72c-.78.78-.78 2.05 0 2.83L4 21.41c.39.39.9.59 1.41.59.51 0 1.02-.2 1.41-.59l7.78-7.78 2.81-2.81c.8-.78.8-2.07 0-2.86zM5.41 20L4 18.59l7.72-7.72 1.47 1.35L5.41 20z\"/>\n",
              "  </svg>\n",
              "      </button>\n",
              "      \n",
              "  <style>\n",
              "    .colab-df-container {\n",
              "      display:flex;\n",
              "      flex-wrap:wrap;\n",
              "      gap: 12px;\n",
              "    }\n",
              "\n",
              "    .colab-df-convert {\n",
              "      background-color: #E8F0FE;\n",
              "      border: none;\n",
              "      border-radius: 50%;\n",
              "      cursor: pointer;\n",
              "      display: none;\n",
              "      fill: #1967D2;\n",
              "      height: 32px;\n",
              "      padding: 0 0 0 0;\n",
              "      width: 32px;\n",
              "    }\n",
              "\n",
              "    .colab-df-convert:hover {\n",
              "      background-color: #E2EBFA;\n",
              "      box-shadow: 0px 1px 2px rgba(60, 64, 67, 0.3), 0px 1px 3px 1px rgba(60, 64, 67, 0.15);\n",
              "      fill: #174EA6;\n",
              "    }\n",
              "\n",
              "    [theme=dark] .colab-df-convert {\n",
              "      background-color: #3B4455;\n",
              "      fill: #D2E3FC;\n",
              "    }\n",
              "\n",
              "    [theme=dark] .colab-df-convert:hover {\n",
              "      background-color: #434B5C;\n",
              "      box-shadow: 0px 1px 3px 1px rgba(0, 0, 0, 0.15);\n",
              "      filter: drop-shadow(0px 1px 2px rgba(0, 0, 0, 0.3));\n",
              "      fill: #FFFFFF;\n",
              "    }\n",
              "  </style>\n",
              "\n",
              "      <script>\n",
              "        const buttonEl =\n",
              "          document.querySelector('#df-72bbed7d-4307-46e2-a7c1-2be8c43906cf button.colab-df-convert');\n",
              "        buttonEl.style.display =\n",
              "          google.colab.kernel.accessAllowed ? 'block' : 'none';\n",
              "\n",
              "        async function convertToInteractive(key) {\n",
              "          const element = document.querySelector('#df-72bbed7d-4307-46e2-a7c1-2be8c43906cf');\n",
              "          const dataTable =\n",
              "            await google.colab.kernel.invokeFunction('convertToInteractive',\n",
              "                                                     [key], {});\n",
              "          if (!dataTable) return;\n",
              "\n",
              "          const docLinkHtml = 'Like what you see? Visit the ' +\n",
              "            '<a target=\"_blank\" href=https://colab.research.google.com/notebooks/data_table.ipynb>data table notebook</a>'\n",
              "            + ' to learn more about interactive tables.';\n",
              "          element.innerHTML = '';\n",
              "          dataTable['output_type'] = 'display_data';\n",
              "          await google.colab.output.renderOutput(dataTable, element);\n",
              "          const docLink = document.createElement('div');\n",
              "          docLink.innerHTML = docLinkHtml;\n",
              "          element.appendChild(docLink);\n",
              "        }\n",
              "      </script>\n",
              "    </div>\n",
              "  </div>\n",
              "  "
            ]
          },
          "metadata": {},
          "execution_count": 80
        }
      ]
    },
    {
      "cell_type": "code",
      "source": [
        "rfc.best_score_"
      ],
      "metadata": {
        "id": "QtChHhZZulko",
        "colab": {
          "base_uri": "https://localhost:8080/"
        },
        "outputId": "4ae8f5f5-9383-4d38-830c-7cfc8ea073b5"
      },
      "execution_count": 81,
      "outputs": [
        {
          "output_type": "execute_result",
          "data": {
            "text/plain": [
              "0.717696688144015"
            ]
          },
          "metadata": {},
          "execution_count": 81
        }
      ]
    },
    {
      "cell_type": "code",
      "source": [
        "y_pred = rfc.predict(X_val)\n",
        "cm = confusion_matrix(y_val, y_pred)\n",
        "pd.DataFrame(cm, index=rfc.classes_, columns=rfc.classes_)"
      ],
      "metadata": {
        "id": "D2uIfYJUulko",
        "colab": {
          "base_uri": "https://localhost:8080/",
          "height": 111
        },
        "outputId": "f68bb48d-f60e-442e-91c0-e69b7f883cf3"
      },
      "execution_count": 82,
      "outputs": [
        {
          "output_type": "execute_result",
          "data": {
            "text/plain": [
              "      0     1\n",
              "0  1127   338\n",
              "1   413  1044"
            ],
            "text/html": [
              "\n",
              "  <div id=\"df-8fdcc469-59dc-4ac4-b705-883d42d2624c\">\n",
              "    <div class=\"colab-df-container\">\n",
              "      <div>\n",
              "<style scoped>\n",
              "    .dataframe tbody tr th:only-of-type {\n",
              "        vertical-align: middle;\n",
              "    }\n",
              "\n",
              "    .dataframe tbody tr th {\n",
              "        vertical-align: top;\n",
              "    }\n",
              "\n",
              "    .dataframe thead th {\n",
              "        text-align: right;\n",
              "    }\n",
              "</style>\n",
              "<table border=\"1\" class=\"dataframe\">\n",
              "  <thead>\n",
              "    <tr style=\"text-align: right;\">\n",
              "      <th></th>\n",
              "      <th>0</th>\n",
              "      <th>1</th>\n",
              "    </tr>\n",
              "  </thead>\n",
              "  <tbody>\n",
              "    <tr>\n",
              "      <th>0</th>\n",
              "      <td>1127</td>\n",
              "      <td>338</td>\n",
              "    </tr>\n",
              "    <tr>\n",
              "      <th>1</th>\n",
              "      <td>413</td>\n",
              "      <td>1044</td>\n",
              "    </tr>\n",
              "  </tbody>\n",
              "</table>\n",
              "</div>\n",
              "      <button class=\"colab-df-convert\" onclick=\"convertToInteractive('df-8fdcc469-59dc-4ac4-b705-883d42d2624c')\"\n",
              "              title=\"Convert this dataframe to an interactive table.\"\n",
              "              style=\"display:none;\">\n",
              "        \n",
              "  <svg xmlns=\"http://www.w3.org/2000/svg\" height=\"24px\"viewBox=\"0 0 24 24\"\n",
              "       width=\"24px\">\n",
              "    <path d=\"M0 0h24v24H0V0z\" fill=\"none\"/>\n",
              "    <path d=\"M18.56 5.44l.94 2.06.94-2.06 2.06-.94-2.06-.94-.94-2.06-.94 2.06-2.06.94zm-11 1L8.5 8.5l.94-2.06 2.06-.94-2.06-.94L8.5 2.5l-.94 2.06-2.06.94zm10 10l.94 2.06.94-2.06 2.06-.94-2.06-.94-.94-2.06-.94 2.06-2.06.94z\"/><path d=\"M17.41 7.96l-1.37-1.37c-.4-.4-.92-.59-1.43-.59-.52 0-1.04.2-1.43.59L10.3 9.45l-7.72 7.72c-.78.78-.78 2.05 0 2.83L4 21.41c.39.39.9.59 1.41.59.51 0 1.02-.2 1.41-.59l7.78-7.78 2.81-2.81c.8-.78.8-2.07 0-2.86zM5.41 20L4 18.59l7.72-7.72 1.47 1.35L5.41 20z\"/>\n",
              "  </svg>\n",
              "      </button>\n",
              "      \n",
              "  <style>\n",
              "    .colab-df-container {\n",
              "      display:flex;\n",
              "      flex-wrap:wrap;\n",
              "      gap: 12px;\n",
              "    }\n",
              "\n",
              "    .colab-df-convert {\n",
              "      background-color: #E8F0FE;\n",
              "      border: none;\n",
              "      border-radius: 50%;\n",
              "      cursor: pointer;\n",
              "      display: none;\n",
              "      fill: #1967D2;\n",
              "      height: 32px;\n",
              "      padding: 0 0 0 0;\n",
              "      width: 32px;\n",
              "    }\n",
              "\n",
              "    .colab-df-convert:hover {\n",
              "      background-color: #E2EBFA;\n",
              "      box-shadow: 0px 1px 2px rgba(60, 64, 67, 0.3), 0px 1px 3px 1px rgba(60, 64, 67, 0.15);\n",
              "      fill: #174EA6;\n",
              "    }\n",
              "\n",
              "    [theme=dark] .colab-df-convert {\n",
              "      background-color: #3B4455;\n",
              "      fill: #D2E3FC;\n",
              "    }\n",
              "\n",
              "    [theme=dark] .colab-df-convert:hover {\n",
              "      background-color: #434B5C;\n",
              "      box-shadow: 0px 1px 3px 1px rgba(0, 0, 0, 0.15);\n",
              "      filter: drop-shadow(0px 1px 2px rgba(0, 0, 0, 0.3));\n",
              "      fill: #FFFFFF;\n",
              "    }\n",
              "  </style>\n",
              "\n",
              "      <script>\n",
              "        const buttonEl =\n",
              "          document.querySelector('#df-8fdcc469-59dc-4ac4-b705-883d42d2624c button.colab-df-convert');\n",
              "        buttonEl.style.display =\n",
              "          google.colab.kernel.accessAllowed ? 'block' : 'none';\n",
              "\n",
              "        async function convertToInteractive(key) {\n",
              "          const element = document.querySelector('#df-8fdcc469-59dc-4ac4-b705-883d42d2624c');\n",
              "          const dataTable =\n",
              "            await google.colab.kernel.invokeFunction('convertToInteractive',\n",
              "                                                     [key], {});\n",
              "          if (!dataTable) return;\n",
              "\n",
              "          const docLinkHtml = 'Like what you see? Visit the ' +\n",
              "            '<a target=\"_blank\" href=https://colab.research.google.com/notebooks/data_table.ipynb>data table notebook</a>'\n",
              "            + ' to learn more about interactive tables.';\n",
              "          element.innerHTML = '';\n",
              "          dataTable['output_type'] = 'display_data';\n",
              "          await google.colab.output.renderOutput(dataTable, element);\n",
              "          const docLink = document.createElement('div');\n",
              "          docLink.innerHTML = docLinkHtml;\n",
              "          element.appendChild(docLink);\n",
              "        }\n",
              "      </script>\n",
              "    </div>\n",
              "  </div>\n",
              "  "
            ]
          },
          "metadata": {},
          "execution_count": 82
        }
      ]
    },
    {
      "cell_type": "code",
      "source": [
        "pred = rfc.predict(X_val)\n",
        "print(classification_report(y_val, pred))"
      ],
      "metadata": {
        "colab": {
          "base_uri": "https://localhost:8080/"
        },
        "id": "2mcvQnnR5x2j",
        "outputId": "3ca46070-c43b-4ab7-fe4c-c21c223bbe14"
      },
      "execution_count": 83,
      "outputs": [
        {
          "output_type": "stream",
          "name": "stdout",
          "text": [
            "              precision    recall  f1-score   support\n",
            "\n",
            "           0       0.73      0.77      0.75      1465\n",
            "           1       0.76      0.72      0.74      1457\n",
            "\n",
            "    accuracy                           0.74      2922\n",
            "   macro avg       0.74      0.74      0.74      2922\n",
            "weighted avg       0.74      0.74      0.74      2922\n",
            "\n"
          ]
        }
      ]
    },
    {
      "cell_type": "code",
      "source": [
        "pc_imp = pd.Series(rfc.best_estimator_[1].feature_importances_, index=X_train.columns)\n",
        "pc_imp.plot(kind='barh')"
      ],
      "metadata": {
        "id": "YcqerI21ulkq",
        "colab": {
          "base_uri": "https://localhost:8080/",
          "height": 282
        },
        "outputId": "1281bccc-02c3-4e7c-cb93-897ac8bd4692"
      },
      "execution_count": 84,
      "outputs": [
        {
          "output_type": "execute_result",
          "data": {
            "text/plain": [
              "<matplotlib.axes._subplots.AxesSubplot at 0x7f50cb505fd0>"
            ]
          },
          "metadata": {},
          "execution_count": 84
        },
        {
          "output_type": "display_data",
          "data": {
            "text/plain": [
              "<Figure size 432x288 with 1 Axes>"
            ],
            "image/png": "[encoded data removed]"
          },
          "metadata": {
            "needs_background": "light"
          }
        }
      ]
    },
    {
      "cell_type": "markdown",
      "source": [
        "Il modello mantiene le sue feature primare come gli altri. Vediamo dare più valore alle feature che rappresentano la differenza di valori tra le due squadre come `AssistsDiff` e `AvgLevelDiff`."
      ],
      "metadata": {
        "id": "04N_qCuh4zNl"
      }
    },
    {
      "cell_type": "code",
      "source": [
        "rfc_mse = mean_squared_error(y_val, rfc.predict(X_val))\n",
        "rfc_mse"
      ],
      "metadata": {
        "id": "XiaivQE9ulkr",
        "colab": {
          "base_uri": "https://localhost:8080/"
        },
        "outputId": "49649263-05c9-497f-c610-45ad5514d5af"
      },
      "execution_count": 85,
      "outputs": [
        {
          "output_type": "execute_result",
          "data": {
            "text/plain": [
              "0.25701574264202603"
            ]
          },
          "metadata": {},
          "execution_count": 85
        }
      ]
    },
    {
      "cell_type": "markdown",
      "source": [
        "### XGBoost"
      ],
      "metadata": {
        "id": "Wkdi-ACqs6In"
      }
    },
    {
      "cell_type": "code",
      "source": [
        "from xgboost import XGBClassifier\n",
        "\n",
        "std_xgb = Pipeline([\n",
        "    ('scaler', StandardScaler()),\n",
        "    ('xgb', XGBClassifier(nthread=8, objective='binary:logistic', random_state=42))\n",
        "])\n",
        "\n",
        "parameters = {\n",
        "    'scaler': [None, StandardScaler()],\n",
        "    'xgb__eta': [0.002, 0.1, 0.5],\n",
        "    'xgb__n_estimators': [150, 300],\n",
        "    'xgb__alpha': [0.0001, 0.001]\n",
        "}\n",
        "\n",
        "xgb = GridSearchCV(std_xgb, parameters, cv=3, n_jobs=-1, return_train_score=True, scoring='accuracy')\n",
        "xgb.fit(X_train, y_train)\n",
        "print(\"Grid Search Xgboost finish\")\n",
        "print('Accuracy on train {:.2f}%'.format(xgb.score(X_train, y_train)*100))\n",
        "print('Accuracy on val {:.2f}%'.format(xgb.score(X_val, y_val)*100))"
      ],
      "metadata": {
        "colab": {
          "base_uri": "https://localhost:8080/"
        },
        "id": "1OOwnlA0tHUN",
        "outputId": "1db91665-7a4a-40a6-ed18-f00bddc65175"
      },
      "execution_count": 86,
      "outputs": [
        {
          "output_type": "stream",
          "name": "stdout",
          "text": [
            "Grid Search Xgboost finish\n",
            "Accuracy on train 74.78%\n",
            "Accuracy on val 74.16%\n"
          ]
        }
      ]
    },
    {
      "cell_type": "code",
      "source": [
        "confidence = 95\n",
        "    \n",
        "l, u = proportion_confint(len(X_train) * xgb.score(X_val, y_val), len(X_train), 1-confidence/100, method='wilson')\n",
        "print('Pmin =', l)\n",
        "print('Pmax =', u)"
      ],
      "metadata": {
        "colab": {
          "base_uri": "https://localhost:8080/"
        },
        "id": "cI1Xa-Lpt_xZ",
        "outputId": "202b3bcb-7edb-46af-e657-ce3c51cdab1c"
      },
      "execution_count": 87,
      "outputs": [
        {
          "output_type": "stream",
          "name": "stdout",
          "text": [
            "Pmin = 0.7310891068353239\n",
            "Pmax = 0.7518693644468465\n"
          ]
        }
      ]
    },
    {
      "cell_type": "code",
      "source": [
        "xgb.best_params_"
      ],
      "metadata": {
        "colab": {
          "base_uri": "https://localhost:8080/"
        },
        "id": "tYlJsLn6t_xb",
        "outputId": "5b0d9f8a-5439-4886-d5d3-ed4c89b5e3c3"
      },
      "execution_count": 88,
      "outputs": [
        {
          "output_type": "execute_result",
          "data": {
            "text/plain": [
              "{'scaler': None,\n",
              " 'xgb__alpha': 0.0001,\n",
              " 'xgb__eta': 0.002,\n",
              " 'xgb__n_estimators': 150}"
            ]
          },
          "metadata": {},
          "execution_count": 88
        }
      ]
    },
    {
      "cell_type": "code",
      "source": [
        "pd.DataFrame(xgb.cv_results_).sort_values(\"rank_test_score\").head(5)"
      ],
      "metadata": {
        "colab": {
          "base_uri": "https://localhost:8080/",
          "height": 523
        },
        "id": "QOQLyjHIt_xc",
        "outputId": "a184b35b-4ddb-4b80-f212-90a27ac036b3"
      },
      "execution_count": 89,
      "outputs": [
        {
          "output_type": "execute_result",
          "data": {
            "text/plain": [
              "    mean_fit_time  std_fit_time  mean_score_time  std_score_time  \\\n",
              "0        1.375537      0.095538         0.020809        0.006385   \n",
              "20       1.590262      0.304881         0.034670        0.022237   \n",
              "2        1.279762      0.061912         0.033044        0.013008   \n",
              "18       1.172136      0.010914         0.020766        0.000595   \n",
              "4        1.163066      0.019880         0.018750        0.000568   \n",
              "\n",
              "        param_scaler param_xgb__alpha param_xgb__eta param_xgb__n_estimators  \\\n",
              "0               None           0.0001          0.002                     150   \n",
              "20  StandardScaler()            0.001            0.1                     150   \n",
              "2               None           0.0001            0.1                     150   \n",
              "18  StandardScaler()            0.001          0.002                     150   \n",
              "4               None           0.0001            0.5                     150   \n",
              "\n",
              "                                               params  split0_test_score  \\\n",
              "0   {'scaler': None, 'xgb__alpha': 0.0001, 'xgb__e...           0.722271   \n",
              "20  {'scaler': StandardScaler(), 'xgb__alpha': 0.0...           0.722271   \n",
              "2   {'scaler': None, 'xgb__alpha': 0.0001, 'xgb__e...           0.722271   \n",
              "18  {'scaler': StandardScaler(), 'xgb__alpha': 0.0...           0.722271   \n",
              "4   {'scaler': None, 'xgb__alpha': 0.0001, 'xgb__e...           0.722271   \n",
              "\n",
              "    split1_test_score  split2_test_score  mean_test_score  std_test_score  \\\n",
              "0            0.721831           0.713468          0.71919         0.00405   \n",
              "20           0.721831           0.713468          0.71919         0.00405   \n",
              "2            0.721831           0.713468          0.71919         0.00405   \n",
              "18           0.721831           0.713468          0.71919         0.00405   \n",
              "4            0.721831           0.713468          0.71919         0.00405   \n",
              "\n",
              "    rank_test_score  split0_train_score  split1_train_score  \\\n",
              "0                 1            0.751981            0.759023   \n",
              "20                1            0.751981            0.759023   \n",
              "2                 1            0.751981            0.759023   \n",
              "18                1            0.751981            0.759023   \n",
              "4                 1            0.751981            0.759023   \n",
              "\n",
              "    split2_train_score  mean_train_score  std_train_score  \n",
              "0             0.759023          0.756675          0.00332  \n",
              "20            0.759023          0.756675          0.00332  \n",
              "2             0.759023          0.756675          0.00332  \n",
              "18            0.759023          0.756675          0.00332  \n",
              "4             0.759023          0.756675          0.00332  "
            ],
            "text/html": [
              "\n",
              "  <div id=\"df-fa00ccf5-75f3-4df6-ae24-453fd4729d69\">\n",
              "    <div class=\"colab-df-container\">\n",
              "      <div>\n",
              "<style scoped>\n",
              "    .dataframe tbody tr th:only-of-type {\n",
              "        vertical-align: middle;\n",
              "    }\n",
              "\n",
              "    .dataframe tbody tr th {\n",
              "        vertical-align: top;\n",
              "    }\n",
              "\n",
              "    .dataframe thead th {\n",
              "        text-align: right;\n",
              "    }\n",
              "</style>\n",
              "<table border=\"1\" class=\"dataframe\">\n",
              "  <thead>\n",
              "    <tr style=\"text-align: right;\">\n",
              "      <th></th>\n",
              "      <th>mean_fit_time</th>\n",
              "      <th>std_fit_time</th>\n",
              "      <th>mean_score_time</th>\n",
              "      <th>std_score_time</th>\n",
              "      <th>param_scaler</th>\n",
              "      <th>param_xgb__alpha</th>\n",
              "      <th>param_xgb__eta</th>\n",
              "      <th>param_xgb__n_estimators</th>\n",
              "      <th>params</th>\n",
              "      <th>split0_test_score</th>\n",
              "      <th>split1_test_score</th>\n",
              "      <th>split2_test_score</th>\n",
              "      <th>mean_test_score</th>\n",
              "      <th>std_test_score</th>\n",
              "      <th>rank_test_score</th>\n",
              "      <th>split0_train_score</th>\n",
              "      <th>split1_train_score</th>\n",
              "      <th>split2_train_score</th>\n",
              "      <th>mean_train_score</th>\n",
              "      <th>std_train_score</th>\n",
              "    </tr>\n",
              "  </thead>\n",
              "  <tbody>\n",
              "    <tr>\n",
              "      <th>0</th>\n",
              "      <td>1.375537</td>\n",
              "      <td>0.095538</td>\n",
              "      <td>0.020809</td>\n",
              "      <td>0.006385</td>\n",
              "      <td>None</td>\n",
              "      <td>0.0001</td>\n",
              "      <td>0.002</td>\n",
              "      <td>150</td>\n",
              "      <td>{'scaler': None, 'xgb__alpha': 0.0001, 'xgb__e...</td>\n",
              "      <td>0.722271</td>\n",
              "      <td>0.721831</td>\n",
              "      <td>0.713468</td>\n",
              "      <td>0.71919</td>\n",
              "      <td>0.00405</td>\n",
              "      <td>1</td>\n",
              "      <td>0.751981</td>\n",
              "      <td>0.759023</td>\n",
              "      <td>0.759023</td>\n",
              "      <td>0.756675</td>\n",
              "      <td>0.00332</td>\n",
              "    </tr>\n",
              "    <tr>\n",
              "      <th>20</th>\n",
              "      <td>1.590262</td>\n",
              "      <td>0.304881</td>\n",
              "      <td>0.034670</td>\n",
              "      <td>0.022237</td>\n",
              "      <td>StandardScaler()</td>\n",
              "      <td>0.001</td>\n",
              "      <td>0.1</td>\n",
              "      <td>150</td>\n",
              "      <td>{'scaler': StandardScaler(), 'xgb__alpha': 0.0...</td>\n",
              "      <td>0.722271</td>\n",
              "      <td>0.721831</td>\n",
              "      <td>0.713468</td>\n",
              "      <td>0.71919</td>\n",
              "      <td>0.00405</td>\n",
              "      <td>1</td>\n",
              "      <td>0.751981</td>\n",
              "      <td>0.759023</td>\n",
              "      <td>0.759023</td>\n",
              "      <td>0.756675</td>\n",
              "      <td>0.00332</td>\n",
              "    </tr>\n",
              "    <tr>\n",
              "      <th>2</th>\n",
              "      <td>1.279762</td>\n",
              "      <td>0.061912</td>\n",
              "      <td>0.033044</td>\n",
              "      <td>0.013008</td>\n",
              "      <td>None</td>\n",
              "      <td>0.0001</td>\n",
              "      <td>0.1</td>\n",
              "      <td>150</td>\n",
              "      <td>{'scaler': None, 'xgb__alpha': 0.0001, 'xgb__e...</td>\n",
              "      <td>0.722271</td>\n",
              "      <td>0.721831</td>\n",
              "      <td>0.713468</td>\n",
              "      <td>0.71919</td>\n",
              "      <td>0.00405</td>\n",
              "      <td>1</td>\n",
              "      <td>0.751981</td>\n",
              "      <td>0.759023</td>\n",
              "      <td>0.759023</td>\n",
              "      <td>0.756675</td>\n",
              "      <td>0.00332</td>\n",
              "    </tr>\n",
              "    <tr>\n",
              "      <th>18</th>\n",
              "      <td>1.172136</td>\n",
              "      <td>0.010914</td>\n",
              "      <td>0.020766</td>\n",
              "      <td>0.000595</td>\n",
              "      <td>StandardScaler()</td>\n",
              "      <td>0.001</td>\n",
              "      <td>0.002</td>\n",
              "      <td>150</td>\n",
              "      <td>{'scaler': StandardScaler(), 'xgb__alpha': 0.0...</td>\n",
              "      <td>0.722271</td>\n",
              "      <td>0.721831</td>\n",
              "      <td>0.713468</td>\n",
              "      <td>0.71919</td>\n",
              "      <td>0.00405</td>\n",
              "      <td>1</td>\n",
              "      <td>0.751981</td>\n",
              "      <td>0.759023</td>\n",
              "      <td>0.759023</td>\n",
              "      <td>0.756675</td>\n",
              "      <td>0.00332</td>\n",
              "    </tr>\n",
              "    <tr>\n",
              "      <th>4</th>\n",
              "      <td>1.163066</td>\n",
              "      <td>0.019880</td>\n",
              "      <td>0.018750</td>\n",
              "      <td>0.000568</td>\n",
              "      <td>None</td>\n",
              "      <td>0.0001</td>\n",
              "      <td>0.5</td>\n",
              "      <td>150</td>\n",
              "      <td>{'scaler': None, 'xgb__alpha': 0.0001, 'xgb__e...</td>\n",
              "      <td>0.722271</td>\n",
              "      <td>0.721831</td>\n",
              "      <td>0.713468</td>\n",
              "      <td>0.71919</td>\n",
              "      <td>0.00405</td>\n",
              "      <td>1</td>\n",
              "      <td>0.751981</td>\n",
              "      <td>0.759023</td>\n",
              "      <td>0.759023</td>\n",
              "      <td>0.756675</td>\n",
              "      <td>0.00332</td>\n",
              "    </tr>\n",
              "  </tbody>\n",
              "</table>\n",
              "</div>\n",
              "      <button class=\"colab-df-convert\" onclick=\"convertToInteractive('df-fa00ccf5-75f3-4df6-ae24-453fd4729d69')\"\n",
              "              title=\"Convert this dataframe to an interactive table.\"\n",
              "              style=\"display:none;\">\n",
              "        \n",
              "  <svg xmlns=\"http://www.w3.org/2000/svg\" height=\"24px\"viewBox=\"0 0 24 24\"\n",
              "       width=\"24px\">\n",
              "    <path d=\"M0 0h24v24H0V0z\" fill=\"none\"/>\n",
              "    <path d=\"M18.56 5.44l.94 2.06.94-2.06 2.06-.94-2.06-.94-.94-2.06-.94 2.06-2.06.94zm-11 1L8.5 8.5l.94-2.06 2.06-.94-2.06-.94L8.5 2.5l-.94 2.06-2.06.94zm10 10l.94 2.06.94-2.06 2.06-.94-2.06-.94-.94-2.06-.94 2.06-2.06.94z\"/><path d=\"M17.41 7.96l-1.37-1.37c-.4-.4-.92-.59-1.43-.59-.52 0-1.04.2-1.43.59L10.3 9.45l-7.72 7.72c-.78.78-.78 2.05 0 2.83L4 21.41c.39.39.9.59 1.41.59.51 0 1.02-.2 1.41-.59l7.78-7.78 2.81-2.81c.8-.78.8-2.07 0-2.86zM5.41 20L4 18.59l7.72-7.72 1.47 1.35L5.41 20z\"/>\n",
              "  </svg>\n",
              "      </button>\n",
              "      \n",
              "  <style>\n",
              "    .colab-df-container {\n",
              "      display:flex;\n",
              "      flex-wrap:wrap;\n",
              "      gap: 12px;\n",
              "    }\n",
              "\n",
              "    .colab-df-convert {\n",
              "      background-color: #E8F0FE;\n",
              "      border: none;\n",
              "      border-radius: 50%;\n",
              "      cursor: pointer;\n",
              "      display: none;\n",
              "      fill: #1967D2;\n",
              "      height: 32px;\n",
              "      padding: 0 0 0 0;\n",
              "      width: 32px;\n",
              "    }\n",
              "\n",
              "    .colab-df-convert:hover {\n",
              "      background-color: #E2EBFA;\n",
              "      box-shadow: 0px 1px 2px rgba(60, 64, 67, 0.3), 0px 1px 3px 1px rgba(60, 64, 67, 0.15);\n",
              "      fill: #174EA6;\n",
              "    }\n",
              "\n",
              "    [theme=dark] .colab-df-convert {\n",
              "      background-color: #3B4455;\n",
              "      fill: #D2E3FC;\n",
              "    }\n",
              "\n",
              "    [theme=dark] .colab-df-convert:hover {\n",
              "      background-color: #434B5C;\n",
              "      box-shadow: 0px 1px 3px 1px rgba(0, 0, 0, 0.15);\n",
              "      filter: drop-shadow(0px 1px 2px rgba(0, 0, 0, 0.3));\n",
              "      fill: #FFFFFF;\n",
              "    }\n",
              "  </style>\n",
              "\n",
              "      <script>\n",
              "        const buttonEl =\n",
              "          document.querySelector('#df-fa00ccf5-75f3-4df6-ae24-453fd4729d69 button.colab-df-convert');\n",
              "        buttonEl.style.display =\n",
              "          google.colab.kernel.accessAllowed ? 'block' : 'none';\n",
              "\n",
              "        async function convertToInteractive(key) {\n",
              "          const element = document.querySelector('#df-fa00ccf5-75f3-4df6-ae24-453fd4729d69');\n",
              "          const dataTable =\n",
              "            await google.colab.kernel.invokeFunction('convertToInteractive',\n",
              "                                                     [key], {});\n",
              "          if (!dataTable) return;\n",
              "\n",
              "          const docLinkHtml = 'Like what you see? Visit the ' +\n",
              "            '<a target=\"_blank\" href=https://colab.research.google.com/notebooks/data_table.ipynb>data table notebook</a>'\n",
              "            + ' to learn more about interactive tables.';\n",
              "          element.innerHTML = '';\n",
              "          dataTable['output_type'] = 'display_data';\n",
              "          await google.colab.output.renderOutput(dataTable, element);\n",
              "          const docLink = document.createElement('div');\n",
              "          docLink.innerHTML = docLinkHtml;\n",
              "          element.appendChild(docLink);\n",
              "        }\n",
              "      </script>\n",
              "    </div>\n",
              "  </div>\n",
              "  "
            ]
          },
          "metadata": {},
          "execution_count": 89
        }
      ]
    },
    {
      "cell_type": "code",
      "source": [
        "xgb.best_score_"
      ],
      "metadata": {
        "colab": {
          "base_uri": "https://localhost:8080/"
        },
        "id": "8_idAPMbt_xc",
        "outputId": "0b8b341e-8db3-4e21-ea18-133ff1aca5f6"
      },
      "execution_count": 90,
      "outputs": [
        {
          "output_type": "execute_result",
          "data": {
            "text/plain": [
              "0.7191901408450705"
            ]
          },
          "metadata": {},
          "execution_count": 90
        }
      ]
    },
    {
      "cell_type": "code",
      "source": [
        "y_pred = xgb.predict(X_val)\n",
        "cm = confusion_matrix(y_val, y_pred)\n",
        "pd.DataFrame(cm, index=xgb.classes_, columns=xgb.classes_)"
      ],
      "metadata": {
        "colab": {
          "base_uri": "https://localhost:8080/",
          "height": 111
        },
        "id": "GF9RdO7tt_xc",
        "outputId": "6f9bba0b-b42b-45c5-c67c-1513ac6f7118"
      },
      "execution_count": 91,
      "outputs": [
        {
          "output_type": "execute_result",
          "data": {
            "text/plain": [
              "      0     1\n",
              "0  1130   335\n",
              "1   420  1037"
            ],
            "text/html": [
              "\n",
              "  <div id=\"df-e6801586-1df5-427f-8bec-0a8d152ec177\">\n",
              "    <div class=\"colab-df-container\">\n",
              "      <div>\n",
              "<style scoped>\n",
              "    .dataframe tbody tr th:only-of-type {\n",
              "        vertical-align: middle;\n",
              "    }\n",
              "\n",
              "    .dataframe tbody tr th {\n",
              "        vertical-align: top;\n",
              "    }\n",
              "\n",
              "    .dataframe thead th {\n",
              "        text-align: right;\n",
              "    }\n",
              "</style>\n",
              "<table border=\"1\" class=\"dataframe\">\n",
              "  <thead>\n",
              "    <tr style=\"text-align: right;\">\n",
              "      <th></th>\n",
              "      <th>0</th>\n",
              "      <th>1</th>\n",
              "    </tr>\n",
              "  </thead>\n",
              "  <tbody>\n",
              "    <tr>\n",
              "      <th>0</th>\n",
              "      <td>1130</td>\n",
              "      <td>335</td>\n",
              "    </tr>\n",
              "    <tr>\n",
              "      <th>1</th>\n",
              "      <td>420</td>\n",
              "      <td>1037</td>\n",
              "    </tr>\n",
              "  </tbody>\n",
              "</table>\n",
              "</div>\n",
              "      <button class=\"colab-df-convert\" onclick=\"convertToInteractive('df-e6801586-1df5-427f-8bec-0a8d152ec177')\"\n",
              "              title=\"Convert this dataframe to an interactive table.\"\n",
              "              style=\"display:none;\">\n",
              "        \n",
              "  <svg xmlns=\"http://www.w3.org/2000/svg\" height=\"24px\"viewBox=\"0 0 24 24\"\n",
              "       width=\"24px\">\n",
              "    <path d=\"M0 0h24v24H0V0z\" fill=\"none\"/>\n",
              "    <path d=\"M18.56 5.44l.94 2.06.94-2.06 2.06-.94-2.06-.94-.94-2.06-.94 2.06-2.06.94zm-11 1L8.5 8.5l.94-2.06 2.06-.94-2.06-.94L8.5 2.5l-.94 2.06-2.06.94zm10 10l.94 2.06.94-2.06 2.06-.94-2.06-.94-.94-2.06-.94 2.06-2.06.94z\"/><path d=\"M17.41 7.96l-1.37-1.37c-.4-.4-.92-.59-1.43-.59-.52 0-1.04.2-1.43.59L10.3 9.45l-7.72 7.72c-.78.78-.78 2.05 0 2.83L4 21.41c.39.39.9.59 1.41.59.51 0 1.02-.2 1.41-.59l7.78-7.78 2.81-2.81c.8-.78.8-2.07 0-2.86zM5.41 20L4 18.59l7.72-7.72 1.47 1.35L5.41 20z\"/>\n",
              "  </svg>\n",
              "      </button>\n",
              "      \n",
              "  <style>\n",
              "    .colab-df-container {\n",
              "      display:flex;\n",
              "      flex-wrap:wrap;\n",
              "      gap: 12px;\n",
              "    }\n",
              "\n",
              "    .colab-df-convert {\n",
              "      background-color: #E8F0FE;\n",
              "      border: none;\n",
              "      border-radius: 50%;\n",
              "      cursor: pointer;\n",
              "      display: none;\n",
              "      fill: #1967D2;\n",
              "      height: 32px;\n",
              "      padding: 0 0 0 0;\n",
              "      width: 32px;\n",
              "    }\n",
              "\n",
              "    .colab-df-convert:hover {\n",
              "      background-color: #E2EBFA;\n",
              "      box-shadow: 0px 1px 2px rgba(60, 64, 67, 0.3), 0px 1px 3px 1px rgba(60, 64, 67, 0.15);\n",
              "      fill: #174EA6;\n",
              "    }\n",
              "\n",
              "    [theme=dark] .colab-df-convert {\n",
              "      background-color: #3B4455;\n",
              "      fill: #D2E3FC;\n",
              "    }\n",
              "\n",
              "    [theme=dark] .colab-df-convert:hover {\n",
              "      background-color: #434B5C;\n",
              "      box-shadow: 0px 1px 3px 1px rgba(0, 0, 0, 0.15);\n",
              "      filter: drop-shadow(0px 1px 2px rgba(0, 0, 0, 0.3));\n",
              "      fill: #FFFFFF;\n",
              "    }\n",
              "  </style>\n",
              "\n",
              "      <script>\n",
              "        const buttonEl =\n",
              "          document.querySelector('#df-e6801586-1df5-427f-8bec-0a8d152ec177 button.colab-df-convert');\n",
              "        buttonEl.style.display =\n",
              "          google.colab.kernel.accessAllowed ? 'block' : 'none';\n",
              "\n",
              "        async function convertToInteractive(key) {\n",
              "          const element = document.querySelector('#df-e6801586-1df5-427f-8bec-0a8d152ec177');\n",
              "          const dataTable =\n",
              "            await google.colab.kernel.invokeFunction('convertToInteractive',\n",
              "                                                     [key], {});\n",
              "          if (!dataTable) return;\n",
              "\n",
              "          const docLinkHtml = 'Like what you see? Visit the ' +\n",
              "            '<a target=\"_blank\" href=https://colab.research.google.com/notebooks/data_table.ipynb>data table notebook</a>'\n",
              "            + ' to learn more about interactive tables.';\n",
              "          element.innerHTML = '';\n",
              "          dataTable['output_type'] = 'display_data';\n",
              "          await google.colab.output.renderOutput(dataTable, element);\n",
              "          const docLink = document.createElement('div');\n",
              "          docLink.innerHTML = docLinkHtml;\n",
              "          element.appendChild(docLink);\n",
              "        }\n",
              "      </script>\n",
              "    </div>\n",
              "  </div>\n",
              "  "
            ]
          },
          "metadata": {},
          "execution_count": 91
        }
      ]
    },
    {
      "cell_type": "code",
      "source": [
        "pred = xgb.predict(X_val)\n",
        "print(classification_report(y_val, pred))"
      ],
      "metadata": {
        "colab": {
          "base_uri": "https://localhost:8080/"
        },
        "id": "YCYNnKHQt_xd",
        "outputId": "2e13e5c2-b84e-4013-f1ca-3021ce03039e"
      },
      "execution_count": 92,
      "outputs": [
        {
          "output_type": "stream",
          "name": "stdout",
          "text": [
            "              precision    recall  f1-score   support\n",
            "\n",
            "           0       0.73      0.77      0.75      1465\n",
            "           1       0.76      0.71      0.73      1457\n",
            "\n",
            "    accuracy                           0.74      2922\n",
            "   macro avg       0.74      0.74      0.74      2922\n",
            "weighted avg       0.74      0.74      0.74      2922\n",
            "\n"
          ]
        }
      ]
    },
    {
      "cell_type": "code",
      "source": [
        "pc_imp = pd.Series(xgb.best_estimator_[1].feature_importances_, index=X_train.columns)\n",
        "pc_imp.plot(kind='barh')"
      ],
      "metadata": {
        "colab": {
          "base_uri": "https://localhost:8080/",
          "height": 282
        },
        "id": "gxfI6b4Tt_xd",
        "outputId": "83e358f9-963d-4bd9-e050-822d0a330cd0"
      },
      "execution_count": 93,
      "outputs": [
        {
          "output_type": "execute_result",
          "data": {
            "text/plain": [
              "<matplotlib.axes._subplots.AxesSubplot at 0x7f50cb4b05e0>"
            ]
          },
          "metadata": {},
          "execution_count": 93
        },
        {
          "output_type": "display_data",
          "data": {
            "text/plain": [
              "<Figure size 432x288 with 1 Axes>"
            ],
            "image/png": "[encoded data removed]"
          },
          "metadata": {
            "needs_background": "light"
          }
        }
      ]
    },
    {
      "cell_type": "markdown",
      "source": [
        "Il modello in questione oltre alle solite feature, mette in risalto le variabili categoriche `Dragons`. Come abbiamo precedentemente visto con Logistic Regression"
      ],
      "metadata": {
        "id": "6obGakFy5EvN"
      }
    },
    {
      "cell_type": "code",
      "source": [
        "xgb_mse = mean_squared_error(y_val, xgb.predict(X_val))\n",
        "xgb_mse"
      ],
      "metadata": {
        "colab": {
          "base_uri": "https://localhost:8080/"
        },
        "id": "pBP-Bcqdt_xd",
        "outputId": "a1bbe35b-6636-40db-d1c8-727ba4c6a4f7"
      },
      "execution_count": 94,
      "outputs": [
        {
          "output_type": "execute_result",
          "data": {
            "text/plain": [
              "0.25838466803559207"
            ]
          },
          "metadata": {},
          "execution_count": 94
        }
      ]
    },
    {
      "cell_type": "markdown",
      "source": [
        "## Model comparison"
      ],
      "metadata": {
        "id": "2exe2mGa07TM"
      }
    },
    {
      "cell_type": "markdown",
      "source": [
        "Andiamo a confrontare l'accuratezza dei modelli e vediamo se è statisticamente significativa."
      ],
      "metadata": {
        "id": "zqlBK0nd2Fyx"
      }
    },
    {
      "cell_type": "code",
      "source": [
        "def model_comparison(mse_1, mse_2):\n",
        "    d = np.abs(mse_1 - mse_2)\n",
        "    variance = (mse_1 * (1 - mse_1)) / len(X_val) + (mse_2 * (1 - mse_2)) / len(X_val)\n",
        "    d_min = d - 1.96 * np.sqrt(variance)\n",
        "    d_max = d + 1.96 * np.sqrt(variance)\n",
        "    return (d_min, d_max)"
      ],
      "metadata": {
        "id": "o7oqXUmQ0fi_"
      },
      "execution_count": 95,
      "outputs": []
    },
    {
      "cell_type": "code",
      "source": [
        "model_comparison(xgb_mse, perc_mse)"
      ],
      "metadata": {
        "colab": {
          "base_uri": "https://localhost:8080/"
        },
        "id": "0O_TP37W0jG0",
        "outputId": "25d1577d-299e-4b5c-cff9-d8bce29a19a9"
      },
      "execution_count": 96,
      "outputs": [
        {
          "output_type": "execute_result",
          "data": {
            "text/plain": [
              "(-0.014809201221959108, 0.029867380551185704)"
            ]
          },
          "metadata": {},
          "execution_count": 96
        }
      ]
    },
    {
      "cell_type": "code",
      "source": [
        "model_comparison(xgb_mse, lr_mse)"
      ],
      "metadata": {
        "colab": {
          "base_uri": "https://localhost:8080/"
        },
        "id": "inre4_tL1NXS",
        "outputId": "06a856cd-d11f-4c18-c843-ec34668ab8a3"
      },
      "execution_count": 97,
      "outputs": [
        {
          "output_type": "execute_result",
          "data": {
            "text/plain": [
              "(-0.01550368439990063, 0.02919293833556119)"
            ]
          },
          "metadata": {},
          "execution_count": 97
        }
      ]
    },
    {
      "cell_type": "code",
      "source": [
        "model_comparison(xgb_mse, rfc_mse)"
      ],
      "metadata": {
        "colab": {
          "base_uri": "https://localhost:8080/"
        },
        "id": "Fje2fnJm1SJ3",
        "outputId": "3d150a6c-89f8-4481-a527-1f5441b4225e"
      },
      "execution_count": 98,
      "outputs": [
        {
          "output_type": "execute_result",
          "data": {
            "text/plain": [
              "(-0.021058399994496015, 0.023796250781628083)"
            ]
          },
          "metadata": {},
          "execution_count": 98
        }
      ]
    },
    {
      "cell_type": "code",
      "source": [
        "model_comparison(rfc_mse, perc_mse)"
      ],
      "metadata": {
        "colab": {
          "base_uri": "https://localhost:8080/"
        },
        "id": "5eUn3uTQ1X9L",
        "outputId": "b23b2135-12e6-4a50-e42c-c6e9e9e59a2d"
      },
      "execution_count": 99,
      "outputs": [
        {
          "output_type": "execute_result",
          "data": {
            "text/plain": [
              "(-0.016158596504786547, 0.028478925046881074)"
            ]
          },
          "metadata": {},
          "execution_count": 99
        }
      ]
    },
    {
      "cell_type": "code",
      "source": [
        "model_comparison(rfc_mse, lr_mse)"
      ],
      "metadata": {
        "colab": {
          "base_uri": "https://localhost:8080/"
        },
        "id": "EIvni7pI1yba",
        "outputId": "df088f81-25ec-4f87-9d5f-efcc07a2ed99"
      },
      "execution_count": 100,
      "outputs": [
        {
          "output_type": "execute_result",
          "data": {
            "text/plain": [
              "(-0.016853088447248893, 0.027804491595777386)"
            ]
          },
          "metadata": {},
          "execution_count": 100
        }
      ]
    },
    {
      "cell_type": "code",
      "source": [
        "model_comparison(perc_mse, lr_mse)"
      ],
      "metadata": {
        "colab": {
          "base_uri": "https://localhost:8080/"
        },
        "id": "h8227VLgPfmF",
        "outputId": "9cb4d134-9e25-4cef-f7ba-49e08c24e034"
      },
      "execution_count": 101,
      "outputs": [
        {
          "output_type": "execute_result",
          "data": {
            "text/plain": [
              "(-0.021554898343856974, 0.022923823737423007)"
            ]
          },
          "metadata": {},
          "execution_count": 101
        }
      ]
    },
    {
      "cell_type": "markdown",
      "source": [
        "Come abbiamo visto durante la modellazione abbiamo incontrato una netta similiratà tra i modelli, senza nessun \"outsider\". Tramite il loro confronto possiamo affermare che non ci siano accuratezze statisticamente significative.\n",
        "I modelli ad albero hanno ottenuto valori di `F1-score` `precision` e `recall` livemente inferirori rispetto alle controparti e con valori sbilanciati tra vittorie e sconfitte."
      ],
      "metadata": {
        "id": "F3TUfJdP5dHr"
      }
    },
    {
      "cell_type": "markdown",
      "source": [
        "### Confronto con modello casuale"
      ],
      "metadata": {
        "id": "VVv_tpTRFMmv"
      }
    },
    {
      "cell_type": "markdown",
      "source": [
        "Effettuiamo un semplice test per mostrare come i modelli utilizzati qui sopra non siano statisticamente equivalenti con un modello casuale."
      ],
      "metadata": {
        "id": "x1yhVnbGPuVz"
      }
    },
    {
      "cell_type": "code",
      "source": [
        "from sklearn.dummy import DummyClassifier"
      ],
      "metadata": {
        "id": "IgL7mo87FUuE"
      },
      "execution_count": 102,
      "outputs": []
    },
    {
      "cell_type": "code",
      "source": [
        "random = DummyClassifier(strategy=\"uniform\", random_state=42)\n",
        "random.fit(X_train, y_train)\n",
        "\n",
        "random_score = random.score(X_val, y_val)\n",
        "random_score"
      ],
      "metadata": {
        "colab": {
          "base_uri": "https://localhost:8080/"
        },
        "id": "8nTWHRyDFVRu",
        "outputId": "64ba42ca-b003-4b84-98ff-db637d0ea152"
      },
      "execution_count": 103,
      "outputs": [
        {
          "output_type": "execute_result",
          "data": {
            "text/plain": [
              "0.48836413415468855"
            ]
          },
          "metadata": {},
          "execution_count": 103
        }
      ]
    },
    {
      "cell_type": "code",
      "source": [
        "random_mse = mean_squared_error(y_val, random.predict(X_val))\n",
        "random_mse"
      ],
      "metadata": {
        "colab": {
          "base_uri": "https://localhost:8080/"
        },
        "id": "e7Ti_xCRQSeZ",
        "outputId": "873a4517-4c0b-4f20-aaa8-c266da2f824e"
      },
      "execution_count": 104,
      "outputs": [
        {
          "output_type": "execute_result",
          "data": {
            "text/plain": [
              "0.5116358658453114"
            ]
          },
          "metadata": {},
          "execution_count": 104
        }
      ]
    },
    {
      "cell_type": "code",
      "source": [
        "def model_comparison_99(mse_1, mse_2):\n",
        "    d = np.abs(mse_1 - mse_2)\n",
        "    variance = (mse_1 * (1 - mse_1)) / len(X_val) + (mse_2 * (1 - mse_2)) / len(X_val)\n",
        "    d_min = d - 2.58 * np.sqrt(variance)\n",
        "    d_max = d + 2.58 * np.sqrt(variance)\n",
        "    return (d_min, d_max)"
      ],
      "metadata": {
        "id": "UR9bmz6qRSmn"
      },
      "execution_count": 105,
      "outputs": []
    },
    {
      "cell_type": "code",
      "source": [
        "model_comparison_99(random_mse, perc_mse)"
      ],
      "metadata": {
        "colab": {
          "base_uri": "https://localhost:8080/"
        },
        "id": "zIvkRrpNQc0d",
        "outputId": "48743796-f64b-4aad-c5fe-7b5c0966ff17"
      },
      "execution_count": 106,
      "outputs": [
        {
          "output_type": "execute_result",
          "data": {
            "text/plain": [
              "(0.2292001988817306, 0.29236037606693466)"
            ]
          },
          "metadata": {},
          "execution_count": 106
        }
      ]
    },
    {
      "cell_type": "code",
      "source": [
        "model_comparison_99(random_mse, lr_mse)"
      ],
      "metadata": {
        "colab": {
          "base_uri": "https://localhost:8080/"
        },
        "id": "JKrvSgl-QdiO",
        "outputId": "acc6b669-ca4f-432b-ad1d-4eac38fa06cf"
      },
      "execution_count": 107,
      "outputs": [
        {
          "output_type": "execute_result",
          "data": {
            "text/plain": [
              "(0.22850345428948549, 0.29168819526561374)"
            ]
          },
          "metadata": {},
          "execution_count": 107
        }
      ]
    },
    {
      "cell_type": "code",
      "source": [
        "model_comparison_99(random_mse, rfc_mse)"
      ],
      "metadata": {
        "colab": {
          "base_uri": "https://localhost:8080/"
        },
        "id": "xxPHNTakQi0_",
        "outputId": "fe3f0487-02b4-4c04-bd25-7eac8b8b73ed"
      },
      "execution_count": 108,
      "outputs": [
        {
          "output_type": "execute_result",
          "data": {
            "text/plain": [
              "(0.22293088129579194, 0.28630936511077876)"
            ]
          },
          "metadata": {},
          "execution_count": 108
        }
      ]
    },
    {
      "cell_type": "code",
      "source": [
        "model_comparison_99(random_mse, xgb_mse)"
      ],
      "metadata": {
        "colab": {
          "base_uri": "https://localhost:8080/"
        },
        "id": "Ef1-DX1QQlc1",
        "outputId": "9d550703-44d6-4c6c-b9d3-d40132a73018"
      },
      "execution_count": 109,
      "outputs": [
        {
          "output_type": "execute_result",
          "data": {
            "text/plain": [
              "(0.2215381208076493, 0.2849642748117893)"
            ]
          },
          "metadata": {},
          "execution_count": 109
        }
      ]
    }
  ]
}